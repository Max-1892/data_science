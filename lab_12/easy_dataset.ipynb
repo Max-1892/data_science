{
 "cells": [
  {
   "cell_type": "code",
   "execution_count": 1,
   "metadata": {
    "collapsed": false
   },
   "outputs": [],
   "source": [
    "%matplotlib inline"
   ]
  },
  {
   "cell_type": "code",
   "execution_count": 2,
   "metadata": {
    "collapsed": true
   },
   "outputs": [],
   "source": [
    "import numpy as np\n",
    "import scipy.stats as stats\n",
    "import seaborn as sns\n",
    "import matplotlib.pyplot as plt\n",
    "import pandas as pd\n",
    "import patsy\n",
    "import sklearn.linear_model as linear\n",
    "import random\n",
    "from copy import deepcopy\n",
    "\n",
    "def describe_fit( result):\n",
    "    formula = result[ \"formula\"]\n",
    "    print \"regression: \", formula\n",
    "    print \"n: \", result[ \"n\"]\n",
    "    print \"----------\"\n",
    "    variables = formula.split(\"~\")[1].split( \"+\")\n",
    "    variables = [\"intercept\"] + variables\n",
    "    coefficients = result[ \"coefficients\"]\n",
    "    for variable, coefficient in zip( variables, coefficients):\n",
    "        print variable.strip() + \": \", coefficient\n",
    "    print \"----------\"\n",
    "    print \"sigma\", result[ \"sigma\"]\n",
    "    print \"R^2\", result[ \"r^2\"]\n",
    "    \n",
    "def lm( formula, data=None):\n",
    "    if data is None:\n",
    "        raise ValueError( \"The parameter 'data' must be assigned a non-nil reference to a Pandas DataFrame\")\n",
    "\n",
    "    result = {}\n",
    "    result[ \"formula\"] = formula\n",
    "    result[ \"n\"] = data.shape[ 0]\n",
    "\n",
    "    y, X = patsy.dmatrices( formula, data, return_type=\"matrix\")\n",
    "    model = linear.LinearRegression( fit_intercept=False).fit( X, y)\n",
    "\n",
    "    result[ \"coefficients\"] = model.coef_[ 0]\n",
    "\n",
    "    result[ \"r^2\"] = model.score( X, y)\n",
    "    \n",
    "    y_hat = model.predict( X)\n",
    "    result[ \"residuals\"] = y - y_hat\n",
    "    \n",
    "    sum_squared_error = sum([ e**2 for e in result[ \"residuals\"]])[ 0]\n",
    "\n",
    "    n = len( result[ \"residuals\"])\n",
    "    k = len( result[ \"coefficients\"])\n",
    "    \n",
    "    result[ \"sigma\"] = np.sqrt( sum_squared_error / (n - k))\n",
    "    \n",
    "    return result\n",
    "\n",
    "def holt_winters_one_step( alpha, gamma, delta, level, trend, error, factor):\n",
    "    this_factor = factor + delta * (1.0 - alpha) * error / ( level + trend)\n",
    "    this_trend = trend + (gamma * alpha * error) / factor\n",
    "    this_level = level + trend + (alpha * error) / factor\n",
    "    return (this_factor, this_trend, this_level)\n",
    "\n",
    "def holt_winters_forecast(level_0, trend_0, alpha, gamma, delta, actual, seasonality):\n",
    "    n = len(actual)\n",
    "    trend, level, factor = trend_0, level_0, seasonality[0]\n",
    "    factors = []\n",
    "    trends = []\n",
    "    levels = []\n",
    "    forecasts = []\n",
    "    \n",
    "    for i in xrange(0, n):\n",
    "        if i < 12:\n",
    "            factor = seasonality[i]\n",
    "        else:\n",
    "            factor = factors[i - 12]\n",
    "\n",
    "        forecast = (level + trend) * factor\n",
    "        forecasts.append(forecast)\n",
    "        \n",
    "        error = actual[i] - forecast\n",
    "\n",
    "        factor, trend, level = holt_winters_one_step(alpha, gamma, delta, level, trend, error, factor)\n",
    "        \n",
    "        factors.append(factor)\n",
    "        trends.append(trend)\n",
    "        levels.append(level)\n",
    "        \n",
    "        #print forecast, error, level, trend, factor\n",
    "\n",
    "    return (pd.Series(forecasts), pd.Series(levels), pd.Series(trends), pd.Series(factors))"
   ]
  },
  {
   "cell_type": "markdown",
   "metadata": {},
   "source": [
    "# Module 12 Lab - Time Series\n",
    "\n",
    "## Directions\n",
    "\n",
    "1. Show all work/steps/calculations. If it is easier to write it out by hand, do so and submit a scanned PDF in addition to this notebook. Otherwise, generate a Markdown cell for each answer.\n",
    "2. You must submit to **two** places by the deadline:\n",
    "    1. In the Lab section of the Course Module where you downloaded this file from, and\n",
    "    2. In your Lab Discussion Group, in the forum for the appropriate Module.\n",
    "3. You may use any core Python libraries or Numpy/Scipy. **Additionally, code from the Module notebooks and lectures is fair to use and modify.** You may also consult Stackoverflow (SO). If you use something from SO, please place a comment with the URL to document the code."
   ]
  },
  {
   "cell_type": "markdown",
   "metadata": {},
   "source": [
    "In this Module, we talked about doing forecasting. Whether it was averaging past values to do level forecasting, simple exponential smoothing, Holt's trend corrected exponential smoothing or, the Big Kahuna, Holt-Winters.\n",
    "\n",
    "As we remarked in the lectures, time series are generally thought be composed of four parts:\n",
    "\n",
    "1. level\n",
    "2. trend\n",
    "3. seasonality\n",
    "4. \"other\" or sometimes just $\\epsilon$\n",
    "\n",
    "What you should do in this Lab is generate Time Series with various levels, trends, and seasonality, spice them up with different degrees of \"other\" and see if if you can use Holt-Winter to recover your parameters.\n",
    "\n",
    "The first thing you should do is pick a cycle. If you pick months, then generate several years worth of data. If you pick weeks, you should probably also generate a few years of data. For days, you might generate a few months of data or even a few years a layer interesting seasonality affects. Do interesting things happen on Fridays? The first and fifteenth of the month? You can even do hours over the course of several weeks. \n",
    "\n",
    "Try out a few different variations.\n",
    "\n",
    "Then...generate a dataset for your lab discussion group. They'll need some basic insights into the data (is it monthly, for example)."
   ]
  },
  {
   "cell_type": "code",
   "execution_count": 3,
   "metadata": {
    "collapsed": true
   },
   "outputs": [],
   "source": [
    "# Read in easy.csv\n",
    "df = pd.read_csv('easy.csv', header=0, usecols=[1,2])"
   ]
  },
  {
   "cell_type": "code",
   "execution_count": 4,
   "metadata": {
    "collapsed": false
   },
   "outputs": [
    {
     "data": {
      "text/html": [
       "<div>\n",
       "<table border=\"1\" class=\"dataframe\">\n",
       "  <thead>\n",
       "    <tr style=\"text-align: right;\">\n",
       "      <th></th>\n",
       "      <th>month</th>\n",
       "      <th>temperature</th>\n",
       "    </tr>\n",
       "  </thead>\n",
       "  <tbody>\n",
       "    <tr>\n",
       "      <th>0</th>\n",
       "      <td>1</td>\n",
       "      <td>36.205000</td>\n",
       "    </tr>\n",
       "    <tr>\n",
       "      <th>1</th>\n",
       "      <td>2</td>\n",
       "      <td>36.065196</td>\n",
       "    </tr>\n",
       "    <tr>\n",
       "      <th>2</th>\n",
       "      <td>3</td>\n",
       "      <td>42.502227</td>\n",
       "    </tr>\n",
       "    <tr>\n",
       "      <th>3</th>\n",
       "      <td>4</td>\n",
       "      <td>51.192617</td>\n",
       "    </tr>\n",
       "    <tr>\n",
       "      <th>4</th>\n",
       "      <td>5</td>\n",
       "      <td>63.210340</td>\n",
       "    </tr>\n",
       "    <tr>\n",
       "      <th>5</th>\n",
       "      <td>6</td>\n",
       "      <td>68.757020</td>\n",
       "    </tr>\n",
       "    <tr>\n",
       "      <th>6</th>\n",
       "      <td>7</td>\n",
       "      <td>77.201840</td>\n",
       "    </tr>\n",
       "    <tr>\n",
       "      <th>7</th>\n",
       "      <td>8</td>\n",
       "      <td>71.526510</td>\n",
       "    </tr>\n",
       "    <tr>\n",
       "      <th>8</th>\n",
       "      <td>9</td>\n",
       "      <td>66.641820</td>\n",
       "    </tr>\n",
       "    <tr>\n",
       "      <th>9</th>\n",
       "      <td>10</td>\n",
       "      <td>58.468595</td>\n",
       "    </tr>\n",
       "    <tr>\n",
       "      <th>10</th>\n",
       "      <td>11</td>\n",
       "      <td>43.525918</td>\n",
       "    </tr>\n",
       "    <tr>\n",
       "      <th>11</th>\n",
       "      <td>12</td>\n",
       "      <td>38.209955</td>\n",
       "    </tr>\n",
       "    <tr>\n",
       "      <th>12</th>\n",
       "      <td>13</td>\n",
       "      <td>38.364377</td>\n",
       "    </tr>\n",
       "    <tr>\n",
       "      <th>13</th>\n",
       "      <td>14</td>\n",
       "      <td>38.911707</td>\n",
       "    </tr>\n",
       "    <tr>\n",
       "      <th>14</th>\n",
       "      <td>15</td>\n",
       "      <td>45.938752</td>\n",
       "    </tr>\n",
       "    <tr>\n",
       "      <th>15</th>\n",
       "      <td>16</td>\n",
       "      <td>53.636873</td>\n",
       "    </tr>\n",
       "    <tr>\n",
       "      <th>16</th>\n",
       "      <td>17</td>\n",
       "      <td>65.868612</td>\n",
       "    </tr>\n",
       "    <tr>\n",
       "      <th>17</th>\n",
       "      <td>18</td>\n",
       "      <td>72.201682</td>\n",
       "    </tr>\n",
       "    <tr>\n",
       "      <th>18</th>\n",
       "      <td>19</td>\n",
       "      <td>81.845814</td>\n",
       "    </tr>\n",
       "    <tr>\n",
       "      <th>19</th>\n",
       "      <td>20</td>\n",
       "      <td>75.901328</td>\n",
       "    </tr>\n",
       "    <tr>\n",
       "      <th>20</th>\n",
       "      <td>21</td>\n",
       "      <td>69.416234</td>\n",
       "    </tr>\n",
       "    <tr>\n",
       "      <th>21</th>\n",
       "      <td>22</td>\n",
       "      <td>61.031727</td>\n",
       "    </tr>\n",
       "    <tr>\n",
       "      <th>22</th>\n",
       "      <td>23</td>\n",
       "      <td>45.471455</td>\n",
       "    </tr>\n",
       "    <tr>\n",
       "      <th>23</th>\n",
       "      <td>24</td>\n",
       "      <td>38.915271</td>\n",
       "    </tr>\n",
       "  </tbody>\n",
       "</table>\n",
       "</div>"
      ],
      "text/plain": [
       "    month  temperature\n",
       "0       1    36.205000\n",
       "1       2    36.065196\n",
       "2       3    42.502227\n",
       "3       4    51.192617\n",
       "4       5    63.210340\n",
       "5       6    68.757020\n",
       "6       7    77.201840\n",
       "7       8    71.526510\n",
       "8       9    66.641820\n",
       "9      10    58.468595\n",
       "10     11    43.525918\n",
       "11     12    38.209955\n",
       "12     13    38.364377\n",
       "13     14    38.911707\n",
       "14     15    45.938752\n",
       "15     16    53.636873\n",
       "16     17    65.868612\n",
       "17     18    72.201682\n",
       "18     19    81.845814\n",
       "19     20    75.901328\n",
       "20     21    69.416234\n",
       "21     22    61.031727\n",
       "22     23    45.471455\n",
       "23     24    38.915271"
      ]
     },
     "execution_count": 4,
     "metadata": {},
     "output_type": "execute_result"
    }
   ],
   "source": [
    "df"
   ]
  },
  {
   "cell_type": "markdown",
   "metadata": {},
   "source": [
    "Following the strategy listed in the lecture notebook, we need to: <br>\n",
    "-Identify the seasonality<br>\n",
    "-Remove the seasonality from the historical data.<br>\n",
    "-Identify the level and trend on the deseasonalized data.<br>"
   ]
  },
  {
   "cell_type": "markdown",
   "metadata": {},
   "source": [
    "To identify the seasonality, we need to calculate a 2 x 12 moving average:"
   ]
  },
  {
   "cell_type": "markdown",
   "metadata": {},
   "source": [
    "First, let's calculate the moving average offset by -6 and +5:"
   ]
  },
  {
   "cell_type": "code",
   "execution_count": 5,
   "metadata": {
    "collapsed": false
   },
   "outputs": [
    {
     "name": "stderr",
     "output_type": "stream",
     "text": [
      "/Users/moose/anaconda/lib/python2.7/site-packages/ipykernel/__main__.py:1: FutureWarning: pd.rolling_mean is deprecated for Series and will be removed in a future version, replace with \n",
      "\tSeries.rolling(window=12,center=True).mean()\n",
      "  if __name__ == '__main__':\n"
     ]
    },
    {
     "data": {
      "text/plain": [
       "0           NaN\n",
       "1           NaN\n",
       "2           NaN\n",
       "3           NaN\n",
       "4           NaN\n",
       "5           NaN\n",
       "6     54.458920\n",
       "7     54.638868\n",
       "8     54.876077\n",
       "9     55.162454\n",
       "10    55.366142\n",
       "11    55.587665\n",
       "12    55.874720\n",
       "13    56.261718\n",
       "14    56.626286\n",
       "15    56.857487\n",
       "16    57.071082\n",
       "17    57.233210\n",
       "18    57.291986\n",
       "19          NaN\n",
       "20          NaN\n",
       "21          NaN\n",
       "22          NaN\n",
       "23          NaN\n",
       "Name: temperature, dtype: float64"
      ]
     },
     "execution_count": 5,
     "metadata": {},
     "output_type": "execute_result"
    }
   ],
   "source": [
    "ma_temp = pd.rolling_mean(df[\"temperature\"], window=12, center=True)\n",
    "ma_temp"
   ]
  },
  {
   "cell_type": "markdown",
   "metadata": {},
   "source": [
    "Next, let's calclate the moving average with an offset of -5 and +6:"
   ]
  },
  {
   "cell_type": "code",
   "execution_count": 6,
   "metadata": {
    "collapsed": false
   },
   "outputs": [
    {
     "name": "stdout",
     "output_type": "stream",
     "text": [
      "0           NaN\n",
      "1           NaN\n",
      "2           NaN\n",
      "3           NaN\n",
      "4           NaN\n",
      "5           NaN\n",
      "6     54.638868\n",
      "7     54.876077\n",
      "8     55.162454\n",
      "9     55.366142\n",
      "10    55.587665\n",
      "11    55.874720\n",
      "12    56.261718\n",
      "13    56.626286\n",
      "14    56.857487\n",
      "15    57.071082\n",
      "16    57.233210\n",
      "17    57.291986\n",
      "18    59.012678\n",
      "19          NaN\n",
      "20          NaN\n",
      "21          NaN\n",
      "22          NaN\n",
      "23          NaN\n",
      "dtype: float64\n"
     ]
    }
   ],
   "source": [
    "shifted_ma = []\n",
    "for i in xrange( 0, len(df)):\n",
    "    current = None\n",
    "    if 5 < i < 19:\n",
    "        current = df[\"temperature\"][i-5:i+7].mean()\n",
    "    shifted_ma.append(current)\n",
    "shifted_ma_temp = pd.Series(shifted_ma)\n",
    "\n",
    "print shifted_ma_temp"
   ]
  },
  {
   "cell_type": "markdown",
   "metadata": {},
   "source": [
    "Next, let's avaerage our moving average estimates to create the 2x12 moving window:"
   ]
  },
  {
   "cell_type": "code",
   "execution_count": 7,
   "metadata": {
    "collapsed": false
   },
   "outputs": [
    {
     "data": {
      "text/plain": [
       "0           NaN\n",
       "1           NaN\n",
       "2           NaN\n",
       "3           NaN\n",
       "4           NaN\n",
       "5           NaN\n",
       "6     54.548894\n",
       "7     54.757473\n",
       "8     55.019266\n",
       "9     55.264298\n",
       "10    55.476904\n",
       "11    55.731192\n",
       "12    56.068219\n",
       "13    56.444002\n",
       "14    56.741887\n",
       "15    56.964284\n",
       "16    57.152146\n",
       "17    57.262598\n",
       "18          NaN\n",
       "19          NaN\n",
       "20          NaN\n",
       "21          NaN\n",
       "22          NaN\n",
       "23          NaN\n",
       "dtype: float64"
      ]
     },
     "execution_count": 7,
     "metadata": {},
     "output_type": "execute_result"
    }
   ],
   "source": [
    "smoothed_temp = (ma_temp + shifted_ma_temp) / 2.0\n",
    "smoothed_temp[18] = None\n",
    "smoothed_temp"
   ]
  },
  {
   "cell_type": "markdown",
   "metadata": {},
   "source": [
    "To get seasonality estimates, we can divide the original data with the moving average estimate:"
   ]
  },
  {
   "cell_type": "code",
   "execution_count": 8,
   "metadata": {
    "collapsed": false
   },
   "outputs": [
    {
     "data": {
      "text/plain": [
       "0          NaN\n",
       "1          NaN\n",
       "2          NaN\n",
       "3          NaN\n",
       "4          NaN\n",
       "5          NaN\n",
       "6     1.415278\n",
       "7     1.306242\n",
       "8     1.211245\n",
       "9     1.057981\n",
       "10    0.784577\n",
       "11    0.685612\n",
       "12    0.684245\n",
       "13    0.689386\n",
       "14    0.809609\n",
       "15    0.941588\n",
       "16    1.152513\n",
       "17    1.260887\n",
       "18         NaN\n",
       "19         NaN\n",
       "20         NaN\n",
       "21         NaN\n",
       "22         NaN\n",
       "23         NaN\n",
       "dtype: float64"
      ]
     },
     "execution_count": 8,
     "metadata": {},
     "output_type": "execute_result"
    }
   ],
   "source": [
    "seasonal_factor_estimate = df[\"temperature\"] / smoothed_temp\n",
    "seasonal_factor_estimate"
   ]
  },
  {
   "cell_type": "markdown",
   "metadata": {},
   "source": [
    "We have 24 seasonal estimates but we figure the seasonality of weather temperature will be one year so we only need 12 estimates:"
   ]
  },
  {
   "cell_type": "code",
   "execution_count": 9,
   "metadata": {
    "collapsed": false
   },
   "outputs": [
    {
     "name": "stdout",
     "output_type": "stream",
     "text": [
      "[0.6842446162475809, 0.6893860333256947, 0.8096091665359408, 0.9415877602474104, 1.152513376682917, 1.260887294887345, 1.4152778313376935, 1.306241998413207, 1.2112451648738436, 1.0579813157781859, 0.7845772781685694, 0.6856116538094195]\n"
     ]
    }
   ],
   "source": [
    "initial_seasonal_factors = [\n",
    "    seasonal_factor_estimate[[0, 12]].mean(),\n",
    "    seasonal_factor_estimate[[1, 13]].mean(),\n",
    "    seasonal_factor_estimate[[2, 14]].mean(),\n",
    "    seasonal_factor_estimate[[3, 15]].mean(),\n",
    "    seasonal_factor_estimate[[4, 16]].mean(),\n",
    "    seasonal_factor_estimate[[5, 17]].mean(),\n",
    "    seasonal_factor_estimate[[6, 18]].mean(),\n",
    "    seasonal_factor_estimate[[7, 19]].mean(),\n",
    "    seasonal_factor_estimate[[8, 20]].mean(),\n",
    "    seasonal_factor_estimate[[9, 21]].mean(),\n",
    "    seasonal_factor_estimate[[10, 22]].mean(),\n",
    "    seasonal_factor_estimate[[11, 23]].mean()]\n",
    "print initial_seasonal_factors\n",
    "seasonal_factors = pd.Series(initial_seasonal_factors + deepcopy( initial_seasonal_factors) + deepcopy(initial_seasonal_factors))\n",
    "df[\"seasonal\"] = seasonal_factors"
   ]
  },
  {
   "cell_type": "markdown",
   "metadata": {},
   "source": [
    "The values above are our estimates of the seasonality. Next, we need to deseasonalize the original data. To do this we divide by the seasonal adjustment factor we estimated:"
   ]
  },
  {
   "cell_type": "code",
   "execution_count": 10,
   "metadata": {
    "collapsed": false,
    "scrolled": false
   },
   "outputs": [
    {
     "name": "stdout",
     "output_type": "stream",
     "text": [
      "    temperature  deseasonalized\n",
      "0     36.205000       52.912364\n",
      "1     36.065196       52.314950\n",
      "2     42.502227       52.497216\n",
      "3     51.192617       54.368397\n",
      "4     63.210340       54.845645\n",
      "5     68.757020       54.530663\n",
      "6     77.201840       54.548894\n",
      "7     71.526510       54.757473\n",
      "8     66.641820       55.019266\n",
      "9     58.468595       55.264298\n",
      "10    43.525918       55.476904\n",
      "11    38.209955       55.731192\n",
      "12    38.364377       56.068219\n",
      "13    38.911707       56.444002\n",
      "14    45.938752       56.741887\n",
      "15    53.636873       56.964284\n",
      "16    65.868612       57.152146\n",
      "17    72.201682       57.262598\n",
      "18    81.845814       57.830210\n",
      "19    75.901328       58.106636\n",
      "20    69.416234       57.309813\n",
      "21    61.031727       57.686961\n",
      "22    45.471455       57.956630\n",
      "23    38.915271       56.759932\n"
     ]
    }
   ],
   "source": [
    "df[\"deseasonalized\"] = df[\"temperature\"] / df[\"seasonal\"]\n",
    "print df[[\"temperature\", \"deseasonalized\"]]"
   ]
  },
  {
   "cell_type": "markdown",
   "metadata": {},
   "source": [
    "Now that we deseasonalized the data, let's figure out the level and trend values by fitting a linear regression:"
   ]
  },
  {
   "cell_type": "code",
   "execution_count": 11,
   "metadata": {
    "collapsed": false
   },
   "outputs": [
    {
     "name": "stdout",
     "output_type": "stream",
     "text": [
      "regression:  deseasonalized ~ month\n",
      "n:  24\n",
      "----------\n",
      "intercept:  52.9303770062\n",
      "month:  0.227405104021\n",
      "----------\n",
      "sigma 0.59106743929\n",
      "R^2 0.88555098342\n"
     ]
    }
   ],
   "source": [
    "describe_fit(lm(\"deseasonalized ~ month\", data=df))"
   ]
  },
  {
   "cell_type": "markdown",
   "metadata": {},
   "source": [
    "This gives us $level_{0} = 52.9304$ and $trend_{0} = 0.2274$"
   ]
  },
  {
   "cell_type": "markdown",
   "metadata": {},
   "source": [
    "Now we have everything we need to estimate the $\\alpha$, $\\gamma$, and $\\delta$ parameters of Holts-Winters. To estimate, we can perform a grid search:"
   ]
  },
  {
   "cell_type": "code",
   "execution_count": 12,
   "metadata": {
    "collapsed": false,
    "scrolled": false
   },
   "outputs": [
    {
     "name": "stdout",
     "output_type": "stream",
     "text": [
      "Best sse = 5.308351 with alpha = -0.100000, gamma = -0.000000, delta = 0.200000\n"
     ]
    }
   ],
   "source": [
    "results = list()\n",
    "for alpha in np.arange(-1.0, 1.0, 0.1):\n",
    "    for gamma in np.arange(-1.0, 1.0, 0.1):\n",
    "        for delta in np.arange(-1.0, 1.0, 0.1):\n",
    "            winters, levels, trends, factors = holt_winters_forecast(52.9304, 0.2274, alpha, gamma, delta, df[\"temperature\"], initial_seasonal_factors)\n",
    "            sse = ((winters - df[\"temperature\"])**2.0).sum()\n",
    "            results.append((alpha, gamma, delta, sse))\n",
    "            #print \"alpha = %f, gamma = %f, delta = %f, sse = %f\" % (alpha, gamma, delta, sse)\n",
    "results = sorted(results, key=lambda tup: tup[3])\n",
    "print \"Best sse = %f with alpha = %f, gamma = %f, delta = %f\" % (results[0][3], results[0][0], results[0][1], results[0][2])"
   ]
  },
  {
   "cell_type": "code",
   "execution_count": 14,
   "metadata": {
    "collapsed": false
   },
   "outputs": [
    {
     "data": {
      "image/png": "[encoded data removed]",
      "text/plain": [
       "<matplotlib.figure.Figure at 0x114511750>"
      ]
     },
     "metadata": {},
     "output_type": "display_data"
    }
   ],
   "source": [
    "winters, levels, trends, factors = holt_winters_forecast(52.9304, 0.2274, results[0][0], results[0][1], results[0][2], df[\"temperature\"], initial_seasonal_factors)\n",
    "figure = plt.figure(figsize=(20, 12))\n",
    "\n",
    "axes = figure.add_subplot(2, 1, 1)\n",
    "\n",
    "axes.plot( df[\"month\"], df[\"temperature\"], color=\"steelblue\", marker=\".\")\n",
    "axes.plot( df[\"month\"], winters, color=\"firebrick\")\n",
    "axes.set_xlabel( \"Monthly Temperature in Balitmore and Winters forecast\")\n",
    "\n",
    "axes = figure.add_subplot(2, 1, 2)\n",
    "\n",
    "axes.plot( df[\"month\"], winters - df[\"temperature\"], color=\"steelblue\", marker=\".\")\n",
    "axes.axhline(y=0.0, xmin=0, xmax=40, c=\"black\", alpha=0.5)\n",
    "axes.set_xlabel(\"Forecast Error\")\n",
    "\n",
    "plt.show()"
   ]
  },
  {
   "cell_type": "code",
   "execution_count": null,
   "metadata": {
    "collapsed": true
   },
   "outputs": [],
   "source": []
  }
 ],
 "metadata": {
  "anaconda-cloud": {},
  "kernelspec": {
   "display_name": "Python [Root]",
   "language": "python",
   "name": "Python [Root]"
  },
  "language_info": {
   "codemirror_mode": {
    "name": "ipython",
    "version": 2
   },
   "file_extension": ".py",
   "mimetype": "text/x-python",
   "name": "python",
   "nbconvert_exporter": "python",
   "pygments_lexer": "ipython2",
   "version": "2.7.12"
  }
 },
 "nbformat": 4,
 "nbformat_minor": 0
}
