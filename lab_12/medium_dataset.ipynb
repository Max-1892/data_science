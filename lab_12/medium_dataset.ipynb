{
 "cells": [
  {
   "cell_type": "code",
   "execution_count": 2,
   "metadata": {
    "collapsed": false
   },
   "outputs": [],
   "source": [
    "%matplotlib inline"
   ]
  },
  {
   "cell_type": "code",
   "execution_count": 3,
   "metadata": {
    "collapsed": true
   },
   "outputs": [],
   "source": [
    "import numpy as np\n",
    "import scipy.stats as stats\n",
    "import seaborn as sns\n",
    "import matplotlib.pyplot as plt\n",
    "import pandas as pd\n",
    "import patsy\n",
    "import sklearn.linear_model as linear\n",
    "import random\n",
    "from copy import deepcopy\n",
    "\n",
    "def describe_fit( result):\n",
    "    formula = result[ \"formula\"]\n",
    "    print \"regression: \", formula\n",
    "    print \"n: \", result[ \"n\"]\n",
    "    print \"----------\"\n",
    "    variables = formula.split(\"~\")[1].split( \"+\")\n",
    "    variables = [\"intercept\"] + variables\n",
    "    coefficients = result[ \"coefficients\"]\n",
    "    for variable, coefficient in zip( variables, coefficients):\n",
    "        print variable.strip() + \": \", coefficient\n",
    "    print \"----------\"\n",
    "    print \"sigma\", result[ \"sigma\"]\n",
    "    print \"R^2\", result[ \"r^2\"]\n",
    "    \n",
    "def lm( formula, data=None):\n",
    "    if data is None:\n",
    "        raise ValueError( \"The parameter 'data' must be assigned a non-nil reference to a Pandas DataFrame\")\n",
    "\n",
    "    result = {}\n",
    "    result[ \"formula\"] = formula\n",
    "    result[ \"n\"] = data.shape[ 0]\n",
    "\n",
    "    y, X = patsy.dmatrices( formula, data, return_type=\"matrix\")\n",
    "    model = linear.LinearRegression( fit_intercept=False).fit( X, y)\n",
    "\n",
    "    result[ \"coefficients\"] = model.coef_[ 0]\n",
    "\n",
    "    result[ \"r^2\"] = model.score( X, y)\n",
    "    \n",
    "    y_hat = model.predict( X)\n",
    "    result[ \"residuals\"] = y - y_hat\n",
    "    \n",
    "    sum_squared_error = sum([ e**2 for e in result[ \"residuals\"]])[ 0]\n",
    "\n",
    "    n = len( result[ \"residuals\"])\n",
    "    k = len( result[ \"coefficients\"])\n",
    "    \n",
    "    result[ \"sigma\"] = np.sqrt( sum_squared_error / (n - k))\n",
    "    \n",
    "    return result\n",
    "\n",
    "def holt_winters_one_step( alpha, gamma, delta, level, trend, error, factor):\n",
    "    this_factor = factor + delta * (1.0 - alpha) * error / ( level + trend)\n",
    "    this_trend = trend + (gamma * alpha * error) / factor\n",
    "    this_level = level + trend + (alpha * error) / factor\n",
    "    return (this_factor, this_trend, this_level)\n",
    "\n",
    "def holt_winters_forecast(level_0, trend_0, alpha, gamma, delta, actual, seasonality):\n",
    "    n = len(actual)\n",
    "    trend, level, factor = trend_0, level_0, seasonality[0]\n",
    "    factors = []\n",
    "    trends = []\n",
    "    levels = []\n",
    "    forecasts = []\n",
    "    \n",
    "    for i in xrange(0, n):\n",
    "        if i < 12:\n",
    "            factor = seasonality[i]\n",
    "        else:\n",
    "            factor = factors[i - 12]\n",
    "\n",
    "        forecast = (level + trend) * factor\n",
    "        forecasts.append(forecast)\n",
    "        \n",
    "        error = actual[i] - forecast\n",
    "\n",
    "        factor, trend, level = holt_winters_one_step(alpha, gamma, delta, level, trend, error, factor)\n",
    "        \n",
    "        factors.append(factor)\n",
    "        trends.append(trend)\n",
    "        levels.append(level)\n",
    "        \n",
    "        #print forecast, error, level, trend, factor\n",
    "\n",
    "    return (pd.Series(forecasts), pd.Series(levels), pd.Series(trends), pd.Series(factors))"
   ]
  },
  {
   "cell_type": "markdown",
   "metadata": {},
   "source": [
    "# Module 12 Lab - Time Series\n",
    "\n",
    "## Directions\n",
    "\n",
    "1. Show all work/steps/calculations. If it is easier to write it out by hand, do so and submit a scanned PDF in addition to this notebook. Otherwise, generate a Markdown cell for each answer.\n",
    "2. You must submit to **two** places by the deadline:\n",
    "    1. In the Lab section of the Course Module where you downloaded this file from, and\n",
    "    2. In your Lab Discussion Group, in the forum for the appropriate Module.\n",
    "3. You may use any core Python libraries or Numpy/Scipy. **Additionally, code from the Module notebooks and lectures is fair to use and modify.** You may also consult Stackoverflow (SO). If you use something from SO, please place a comment with the URL to document the code."
   ]
  },
  {
   "cell_type": "markdown",
   "metadata": {},
   "source": [
    "In this Module, we talked about doing forecasting. Whether it was averaging past values to do level forecasting, simple exponential smoothing, Holt's trend corrected exponential smoothing or, the Big Kahuna, Holt-Winters.\n",
    "\n",
    "As we remarked in the lectures, time series are generally thought be composed of four parts:\n",
    "\n",
    "1. level\n",
    "2. trend\n",
    "3. seasonality\n",
    "4. \"other\" or sometimes just $\\epsilon$\n",
    "\n",
    "What you should do in this Lab is generate Time Series with various levels, trends, and seasonality, spice them up with different degrees of \"other\" and see if if you can use Holt-Winter to recover your parameters.\n",
    "\n",
    "The first thing you should do is pick a cycle. If you pick months, then generate several years worth of data. If you pick weeks, you should probably also generate a few years of data. For days, you might generate a few months of data or even a few years a layer interesting seasonality affects. Do interesting things happen on Fridays? The first and fifteenth of the month? You can even do hours over the course of several weeks. \n",
    "\n",
    "Try out a few different variations.\n",
    "\n",
    "Then...generate a dataset for your lab discussion group. They'll need some basic insights into the data (is it monthly, for example)."
   ]
  },
  {
   "cell_type": "code",
   "execution_count": 4,
   "metadata": {
    "collapsed": false
   },
   "outputs": [],
   "source": [
    "# Read in medium.csv\n",
    "df = pd.read_csv('medium.csv', header=0, usecols=[1,2])"
   ]
  },
  {
   "cell_type": "code",
   "execution_count": 5,
   "metadata": {
    "collapsed": false
   },
   "outputs": [
    {
     "data": {
      "text/html": [
       "<div>\n",
       "<table border=\"1\" class=\"dataframe\">\n",
       "  <thead>\n",
       "    <tr style=\"text-align: right;\">\n",
       "      <th></th>\n",
       "      <th>month</th>\n",
       "      <th>sales</th>\n",
       "    </tr>\n",
       "  </thead>\n",
       "  <tbody>\n",
       "    <tr>\n",
       "      <th>0</th>\n",
       "      <td>1</td>\n",
       "      <td>159.514967</td>\n",
       "    </tr>\n",
       "    <tr>\n",
       "      <th>1</th>\n",
       "      <td>2</td>\n",
       "      <td>357.588371</td>\n",
       "    </tr>\n",
       "    <tr>\n",
       "      <th>2</th>\n",
       "      <td>3</td>\n",
       "      <td>145.564544</td>\n",
       "    </tr>\n",
       "    <tr>\n",
       "      <th>3</th>\n",
       "      <td>4</td>\n",
       "      <td>150.204979</td>\n",
       "    </tr>\n",
       "    <tr>\n",
       "      <th>4</th>\n",
       "      <td>5</td>\n",
       "      <td>211.903347</td>\n",
       "    </tr>\n",
       "    <tr>\n",
       "      <th>5</th>\n",
       "      <td>6</td>\n",
       "      <td>147.844561</td>\n",
       "    </tr>\n",
       "    <tr>\n",
       "      <th>6</th>\n",
       "      <td>7</td>\n",
       "      <td>149.282594</td>\n",
       "    </tr>\n",
       "    <tr>\n",
       "      <th>7</th>\n",
       "      <td>8</td>\n",
       "      <td>157.052090</td>\n",
       "    </tr>\n",
       "    <tr>\n",
       "      <th>8</th>\n",
       "      <td>9</td>\n",
       "      <td>181.037910</td>\n",
       "    </tr>\n",
       "    <tr>\n",
       "      <th>9</th>\n",
       "      <td>10</td>\n",
       "      <td>199.799745</td>\n",
       "    </tr>\n",
       "    <tr>\n",
       "      <th>10</th>\n",
       "      <td>11</td>\n",
       "      <td>286.941946</td>\n",
       "    </tr>\n",
       "    <tr>\n",
       "      <th>11</th>\n",
       "      <td>12</td>\n",
       "      <td>290.415812</td>\n",
       "    </tr>\n",
       "    <tr>\n",
       "      <th>12</th>\n",
       "      <td>13</td>\n",
       "      <td>191.643596</td>\n",
       "    </tr>\n",
       "    <tr>\n",
       "      <th>13</th>\n",
       "      <td>14</td>\n",
       "      <td>428.914852</td>\n",
       "    </tr>\n",
       "    <tr>\n",
       "      <th>14</th>\n",
       "      <td>15</td>\n",
       "      <td>162.448639</td>\n",
       "    </tr>\n",
       "    <tr>\n",
       "      <th>15</th>\n",
       "      <td>16</td>\n",
       "      <td>171.635696</td>\n",
       "    </tr>\n",
       "    <tr>\n",
       "      <th>16</th>\n",
       "      <td>17</td>\n",
       "      <td>247.630262</td>\n",
       "    </tr>\n",
       "    <tr>\n",
       "      <th>17</th>\n",
       "      <td>18</td>\n",
       "      <td>177.436240</td>\n",
       "    </tr>\n",
       "    <tr>\n",
       "      <th>18</th>\n",
       "      <td>19</td>\n",
       "      <td>176.661173</td>\n",
       "    </tr>\n",
       "    <tr>\n",
       "      <th>19</th>\n",
       "      <td>20</td>\n",
       "      <td>173.385152</td>\n",
       "    </tr>\n",
       "    <tr>\n",
       "      <th>20</th>\n",
       "      <td>21</td>\n",
       "      <td>207.718570</td>\n",
       "    </tr>\n",
       "    <tr>\n",
       "      <th>21</th>\n",
       "      <td>22</td>\n",
       "      <td>228.185138</td>\n",
       "    </tr>\n",
       "    <tr>\n",
       "      <th>22</th>\n",
       "      <td>23</td>\n",
       "      <td>315.438556</td>\n",
       "    </tr>\n",
       "    <tr>\n",
       "      <th>23</th>\n",
       "      <td>24</td>\n",
       "      <td>311.743934</td>\n",
       "    </tr>\n",
       "  </tbody>\n",
       "</table>\n",
       "</div>"
      ],
      "text/plain": [
       "    month       sales\n",
       "0       1  159.514967\n",
       "1       2  357.588371\n",
       "2       3  145.564544\n",
       "3       4  150.204979\n",
       "4       5  211.903347\n",
       "5       6  147.844561\n",
       "6       7  149.282594\n",
       "7       8  157.052090\n",
       "8       9  181.037910\n",
       "9      10  199.799745\n",
       "10     11  286.941946\n",
       "11     12  290.415812\n",
       "12     13  191.643596\n",
       "13     14  428.914852\n",
       "14     15  162.448639\n",
       "15     16  171.635696\n",
       "16     17  247.630262\n",
       "17     18  177.436240\n",
       "18     19  176.661173\n",
       "19     20  173.385152\n",
       "20     21  207.718570\n",
       "21     22  228.185138\n",
       "22     23  315.438556\n",
       "23     24  311.743934"
      ]
     },
     "execution_count": 5,
     "metadata": {},
     "output_type": "execute_result"
    }
   ],
   "source": [
    "df"
   ]
  },
  {
   "cell_type": "markdown",
   "metadata": {},
   "source": [
    "Following the strategy listed in the lecture notebook, we need to: <br>\n",
    "-Identify the seasonality<br>\n",
    "-Remove the seasonality from the historical data.<br>\n",
    "-Identify the level and trend on the deseasonalized data.<br>"
   ]
  },
  {
   "cell_type": "markdown",
   "metadata": {},
   "source": [
    "To identify the seasonality, we need to calculate a 2 x 12 moving average:"
   ]
  },
  {
   "cell_type": "markdown",
   "metadata": {},
   "source": [
    "First, let's calculate the moving average offset by -6 and +5:"
   ]
  },
  {
   "cell_type": "code",
   "execution_count": 6,
   "metadata": {
    "collapsed": false
   },
   "outputs": [
    {
     "name": "stderr",
     "output_type": "stream",
     "text": [
      "/Users/moose/anaconda/lib/python2.7/site-packages/ipykernel/__main__.py:1: FutureWarning: pd.rolling_mean is deprecated for Series and will be removed in a future version, replace with \n",
      "\tSeries.rolling(window=12,center=True).mean()\n",
      "  if __name__ == '__main__':\n"
     ]
    },
    {
     "data": {
      "text/plain": [
       "0            NaN\n",
       "1            NaN\n",
       "2            NaN\n",
       "3            NaN\n",
       "4            NaN\n",
       "5            NaN\n",
       "6     203.095906\n",
       "7     205.773291\n",
       "8     211.717165\n",
       "9     213.124173\n",
       "10    214.910066\n",
       "11    217.887309\n",
       "12    220.353282\n",
       "13    222.634830\n",
       "14    223.995919\n",
       "15    226.219307\n",
       "16    228.584756\n",
       "17    230.959474\n",
       "18    232.736817\n",
       "19           NaN\n",
       "20           NaN\n",
       "21           NaN\n",
       "22           NaN\n",
       "23           NaN\n",
       "Name: sales, dtype: float64"
      ]
     },
     "execution_count": 6,
     "metadata": {},
     "output_type": "execute_result"
    }
   ],
   "source": [
    "ma_sales = pd.rolling_mean(df[\"sales\"], window=12, center=True)\n",
    "ma_sales"
   ]
  },
  {
   "cell_type": "markdown",
   "metadata": {},
   "source": [
    "Next, let's calclate the moving average with an offset of -5 and +6:"
   ]
  },
  {
   "cell_type": "code",
   "execution_count": 7,
   "metadata": {
    "collapsed": false
   },
   "outputs": [
    {
     "name": "stdout",
     "output_type": "stream",
     "text": [
      "0            NaN\n",
      "1            NaN\n",
      "2            NaN\n",
      "3            NaN\n",
      "4            NaN\n",
      "5            NaN\n",
      "6     205.773291\n",
      "7     211.717165\n",
      "8     213.124173\n",
      "9     214.910066\n",
      "10    217.887309\n",
      "11    220.353282\n",
      "12    222.634830\n",
      "13    223.995919\n",
      "14    226.219307\n",
      "15    228.584756\n",
      "16    230.959474\n",
      "17    232.736817\n",
      "18    236.472565\n",
      "19           NaN\n",
      "20           NaN\n",
      "21           NaN\n",
      "22           NaN\n",
      "23           NaN\n",
      "dtype: float64\n"
     ]
    }
   ],
   "source": [
    "shifted_ma = []\n",
    "for i in xrange(0, len(df)):\n",
    "    current = None\n",
    "    if 5 < i < 19:\n",
    "        current = df[\"sales\"][i-5:i+7].mean()\n",
    "    shifted_ma.append(current)\n",
    "shifted_ma_sales = pd.Series(shifted_ma)\n",
    "\n",
    "print shifted_ma_sales"
   ]
  },
  {
   "cell_type": "markdown",
   "metadata": {},
   "source": [
    "Next, let's avaerage our moving average estimates to create the 2x12 moving window:"
   ]
  },
  {
   "cell_type": "code",
   "execution_count": 8,
   "metadata": {
    "collapsed": false
   },
   "outputs": [
    {
     "data": {
      "text/plain": [
       "0            NaN\n",
       "1            NaN\n",
       "2            NaN\n",
       "3            NaN\n",
       "4            NaN\n",
       "5            NaN\n",
       "6     204.434598\n",
       "7     208.745228\n",
       "8     212.420669\n",
       "9     214.017119\n",
       "10    216.398687\n",
       "11    219.120295\n",
       "12    221.494056\n",
       "13    223.315374\n",
       "14    225.107613\n",
       "15    227.402032\n",
       "16    229.772115\n",
       "17    231.848146\n",
       "18           NaN\n",
       "19           NaN\n",
       "20           NaN\n",
       "21           NaN\n",
       "22           NaN\n",
       "23           NaN\n",
       "dtype: float64"
      ]
     },
     "execution_count": 8,
     "metadata": {},
     "output_type": "execute_result"
    }
   ],
   "source": [
    "smoothed_sales = (ma_sales + shifted_ma_sales) / 2.0\n",
    "smoothed_sales[18] = None\n",
    "smoothed_sales"
   ]
  },
  {
   "cell_type": "markdown",
   "metadata": {},
   "source": [
    "To get seasonality estimates, we can divide the original data with the moving average estimate:"
   ]
  },
  {
   "cell_type": "code",
   "execution_count": 9,
   "metadata": {
    "collapsed": false
   },
   "outputs": [
    {
     "data": {
      "text/plain": [
       "0          NaN\n",
       "1          NaN\n",
       "2          NaN\n",
       "3          NaN\n",
       "4          NaN\n",
       "5          NaN\n",
       "6     0.730222\n",
       "7     0.752363\n",
       "8     0.852261\n",
       "9     0.933569\n",
       "10    1.325987\n",
       "11    1.325372\n",
       "12    0.865231\n",
       "13    1.920669\n",
       "14    0.721649\n",
       "15    0.754768\n",
       "16    1.077721\n",
       "17    0.765312\n",
       "18         NaN\n",
       "19         NaN\n",
       "20         NaN\n",
       "21         NaN\n",
       "22         NaN\n",
       "23         NaN\n",
       "dtype: float64"
      ]
     },
     "execution_count": 9,
     "metadata": {},
     "output_type": "execute_result"
    }
   ],
   "source": [
    "seasonal_factor_estimate = df[\"sales\"] / smoothed_sales\n",
    "seasonal_factor_estimate"
   ]
  },
  {
   "cell_type": "markdown",
   "metadata": {},
   "source": [
    "We have 24 seasonal estimates but we figure the seasonality of weather temperature will be one year so we only need 12 estimates:"
   ]
  },
  {
   "cell_type": "code",
   "execution_count": 10,
   "metadata": {
    "collapsed": false
   },
   "outputs": [
    {
     "name": "stdout",
     "output_type": "stream",
     "text": [
      "[0.8652313251263041, 1.9206687110783796, 0.7216488021223292, 0.7547676442399281, 1.0777211254133356, 0.765312309762369, 0.7302217684636163, 0.7523625396418548, 0.8522612744446033, 0.933568988782308, 1.3259874635727809, 1.3253715819638672]\n"
     ]
    }
   ],
   "source": [
    "initial_seasonal_factors = [\n",
    "    seasonal_factor_estimate[[0, 12]].mean(),\n",
    "    seasonal_factor_estimate[[1, 13]].mean(),\n",
    "    seasonal_factor_estimate[[2, 14]].mean(),\n",
    "    seasonal_factor_estimate[[3, 15]].mean(),\n",
    "    seasonal_factor_estimate[[4, 16]].mean(),\n",
    "    seasonal_factor_estimate[[5, 17]].mean(),\n",
    "    seasonal_factor_estimate[[6, 18]].mean(),\n",
    "    seasonal_factor_estimate[[7, 19]].mean(),\n",
    "    seasonal_factor_estimate[[8, 20]].mean(),\n",
    "    seasonal_factor_estimate[[9, 21]].mean(),\n",
    "    seasonal_factor_estimate[[10, 22]].mean(),\n",
    "    seasonal_factor_estimate[[11, 23]].mean()]\n",
    "print initial_seasonal_factors\n",
    "seasonal_factors = pd.Series(initial_seasonal_factors + deepcopy( initial_seasonal_factors) + deepcopy(initial_seasonal_factors))\n",
    "df[\"seasonal\"] = seasonal_factors"
   ]
  },
  {
   "cell_type": "markdown",
   "metadata": {},
   "source": [
    "The values above are our estimates of the seasonality. Next, we need to deseasonalize the original data. To do this we divide by the seasonal adjustment factor we estimated:"
   ]
  },
  {
   "cell_type": "code",
   "execution_count": 11,
   "metadata": {
    "collapsed": false,
    "scrolled": false
   },
   "outputs": [
    {
     "name": "stdout",
     "output_type": "stream",
     "text": [
      "         sales  deseasonalized\n",
      "0   159.514967      184.361063\n",
      "1   357.588371      186.179100\n",
      "2   145.564544      201.711059\n",
      "3   150.204979      199.008238\n",
      "4   211.903347      196.621688\n",
      "5   147.844561      193.181998\n",
      "6   149.282594      204.434598\n",
      "7   157.052090      208.745228\n",
      "8   181.037910      212.420669\n",
      "9   199.799745      214.017119\n",
      "10  286.941946      216.398687\n",
      "11  290.415812      219.120295\n",
      "12  191.643596      221.494056\n",
      "13  428.914852      223.315374\n",
      "14  162.448639      225.107613\n",
      "15  171.635696      227.402032\n",
      "16  247.630262      229.772115\n",
      "17  177.436240      231.848146\n",
      "18  176.661173      241.928111\n",
      "19  173.385152      230.454259\n",
      "20  207.718570      243.726397\n",
      "21  228.185138      244.422363\n",
      "22  315.438556      237.889546\n",
      "23  311.743934      235.212478\n"
     ]
    }
   ],
   "source": [
    "df[\"deseasonalized\"] = df[\"sales\"] / df[\"seasonal\"]\n",
    "print df[[\"sales\", \"deseasonalized\"]]"
   ]
  },
  {
   "cell_type": "markdown",
   "metadata": {},
   "source": [
    "Now that we deseasonalized the data, let's figure out the level and trend values by fitting a linear regression:"
   ]
  },
  {
   "cell_type": "code",
   "execution_count": 12,
   "metadata": {
    "collapsed": false
   },
   "outputs": [
    {
     "name": "stdout",
     "output_type": "stream",
     "text": [
      "regression:  deseasonalized ~ month\n",
      "n:  24\n",
      "----------\n",
      "intercept:  187.198931991\n",
      "month:  2.45332620987\n",
      "----------\n",
      "sigma 4.91192624044\n",
      "R^2 0.928775613009\n"
     ]
    }
   ],
   "source": [
    "describe_fit(lm(\"deseasonalized ~ month\", data=df))"
   ]
  },
  {
   "cell_type": "markdown",
   "metadata": {},
   "source": [
    "This gives us $level_{0} = 187.198931991$ and $trend_{0} = 2.4533$"
   ]
  },
  {
   "cell_type": "markdown",
   "metadata": {},
   "source": [
    "Now we have everything we need to estimate the $\\alpha$, $\\gamma$, and $\\delta$ parameters of Holts-Winters. To estimate, we can perform a grid search:"
   ]
  },
  {
   "cell_type": "code",
   "execution_count": 22,
   "metadata": {
    "collapsed": false,
    "scrolled": false
   },
   "outputs": [
    {
     "name": "stdout",
     "output_type": "stream",
     "text": [
      "Best sse = 527.901993 with alpha = -0.100000, gamma = -0.100000, delta = -0.350000\n"
     ]
    }
   ],
   "source": [
    "results = list()\n",
    "for alpha in np.arange(-1, 1, 0.1):\n",
    "    for gamma in np.arange(-1, 1, 0.1):\n",
    "        for delta in np.arange(-1, 1, 0.05):\n",
    "            winters, levels, trends, factors = holt_winters_forecast(187.198931991, 2.4533, alpha, gamma, delta, df[\"sales\"], initial_seasonal_factors)\n",
    "            sse = ((winters - df[\"sales\"])**2.0).sum()\n",
    "            results.append((alpha, gamma, delta, sse))\n",
    "            #print \"alpha = %f, gamma = %f, delta = %f, sse = %f\" % (alpha, gamma, delta, sse)\n",
    "results = sorted(results, key=lambda tup: tup[3])\n",
    "print \"Best sse = %f with alpha = %f, gamma = %f, delta = %f\" % (results[0][3], results[0][0], results[0][1], results[0][2])"
   ]
  },
  {
   "cell_type": "code",
   "execution_count": 24,
   "metadata": {
    "collapsed": false
   },
   "outputs": [
    {
     "data": {
      "image/png": "[encoded data removed]",
      "text/plain": [
       "<matplotlib.figure.Figure at 0x1160f5450>"
      ]
     },
     "metadata": {},
     "output_type": "display_data"
    }
   ],
   "source": [
    "winters, levels, trends, factors = holt_winters_forecast(187.198931991, 2.4533, results[0][0], results[0][1], results[0][2], df[\"sales\"], initial_seasonal_factors)\n",
    "figure = plt.figure(figsize=(20, 12))\n",
    "\n",
    "axes = figure.add_subplot(2, 1, 1)\n",
    "\n",
    "axes.plot( df[\"month\"], df[\"sales\"], color=\"steelblue\", marker=\".\")\n",
    "axes.plot( df[\"month\"], winters, color=\"firebrick\")\n",
    "axes.set_xlabel( \"Monthly Sales of Pendants and Winters forecast\")\n",
    "\n",
    "axes = figure.add_subplot(2, 1, 2)\n",
    "\n",
    "axes.plot( df[\"month\"], winters - df[\"sales\"], color=\"steelblue\", marker=\".\")\n",
    "axes.axhline(y=0.0, xmin=0, xmax=40, c=\"black\", alpha=0.5)\n",
    "axes.set_xlabel(\"Forecast Error\")\n",
    "\n",
    "plt.show()"
   ]
  },
  {
   "cell_type": "code",
   "execution_count": null,
   "metadata": {
    "collapsed": true
   },
   "outputs": [],
   "source": []
  }
 ],
 "metadata": {
  "anaconda-cloud": {},
  "kernelspec": {
   "display_name": "Python [Root]",
   "language": "python",
   "name": "Python [Root]"
  },
  "language_info": {
   "codemirror_mode": {
    "name": "ipython",
    "version": 2
   },
   "file_extension": ".py",
   "mimetype": "text/x-python",
   "name": "python",
   "nbconvert_exporter": "python",
   "pygments_lexer": "ipython2",
   "version": "2.7.12"
  }
 },
 "nbformat": 4,
 "nbformat_minor": 0
}
