{
 "cells": [
  {
   "cell_type": "code",
   "execution_count": 401,
   "metadata": {
    "collapsed": true
   },
   "outputs": [],
   "source": [
    "%matplotlib inline"
   ]
  },
  {
   "cell_type": "code",
   "execution_count": 402,
   "metadata": {
    "collapsed": true
   },
   "outputs": [],
   "source": [
    "from __future__ import division"
   ]
  },
  {
   "cell_type": "code",
   "execution_count": 403,
   "metadata": {
    "collapsed": false
   },
   "outputs": [],
   "source": [
    "import numpy as np\n",
    "import random as py_random\n",
    "import scipy.stats as stats\n",
    "import seaborn as sns\n",
    "import matplotlib.pyplot as plt\n",
    "import pandas as pd\n",
    "import patsy\n",
    "import sklearn.linear_model as linear\n",
    "from sklearn.preprocessing import OneHotEncoder\n",
    "\n",
    "def examine_data_frame(df):\n",
    "    for name in df.columns:\n",
    "        print \"----------\"\n",
    "        print df[ name].dtype\n",
    "        if df[ name].dtype is np.dtype( 'O'):\n",
    "            print df[ name].value_counts()\n",
    "            print \"Name: \", name\n",
    "        else:\n",
    "            print df[ name].describe()\n",
    "            \n",
    "def graph_histogram(data, bins=None):\n",
    "    figure = plt.figure(figsize=(10, 6))\n",
    "    axes = figure.add_subplot(1, 2, 1)\n",
    "    if bins == None:\n",
    "        axes.hist(data)\n",
    "    else:\n",
    "        axes.hist(data, bins=bins)\n",
    "    axes.set_ylabel( \"Count\")\n",
    "    axes.set_xlabel( \"Samples\")\n",
    "    axes = figure.add_subplot(1, 2, 2)\n",
    "    if bins == None:\n",
    "        axes.hist(data, normed=True)\n",
    "    else:\n",
    "        axes.hist(data, normed=True, bins=bins)\n",
    "    axes.set_ylabel( \"Density\")\n",
    "    axes.set_xlabel( \"Samples\")\n",
    "    plt.show()\n",
    "    \n",
    "def graph_boxplot(data):\n",
    "    figure = plt.figure(figsize=(5,5))\n",
    "    axes = figure.add_subplot(1, 1, 1)\n",
    "    patch = axes.boxplot(data, labels=[\"Samples\"], patch_artist=True)\n",
    "    restyle_boxplot(patch)\n",
    "    x = np.random.normal(1, 0.01, size=len(data))\n",
    "    axes.plot(x, data, 'o', alpha=0.4)\n",
    "    plt.show()\n",
    "    \n",
    "def restyle_boxplot(patch):\n",
    "    ## change color and linewidth of the whiskers\n",
    "    for whisker in patch['whiskers']:\n",
    "        whisker.set(color='#000000', linewidth=1)\n",
    "\n",
    "    ## change color and linewidth of the caps\n",
    "    for cap in patch['caps']:\n",
    "        cap.set(color='#000000', linewidth=1)\n",
    "\n",
    "    ## change color and linewidth of the medians\n",
    "    for median in patch['medians']:\n",
    "        median.set(color='#000000', linewidth=2)\n",
    "\n",
    "    ## change the style of fliers and their fill\n",
    "    for flier in patch['fliers']:\n",
    "        flier.set(marker='o', color='#000000', alpha=0.2)\n",
    "        \n",
    "        sns.set(style=\"darkgrid\")\n",
    "\n",
    "def logm( formula, data=None):\n",
    "    if data is None:\n",
    "        raise ValueError( \"The parameter 'data' must be assigned a non-nil reference to a Pandas DataFrame\")\n",
    "\n",
    "    result = {}\n",
    "    result[ \"formula\"] = formula\n",
    "    result[ \"n\"] = data.shape[ 0]\n",
    "\n",
    "    y, X = patsy.dmatrices( formula, data, return_type=\"matrix\")\n",
    "    #X = data.as_matrix()[:, :-1]\n",
    "    #y = data.as_matrix()[:, -1]\n",
    "    y = np.ravel( y) # not sure why this is needed for LogisticRegression but no LinearRegression\n",
    "\n",
    "    model = linear.LogisticRegression( fit_intercept=False).fit( X, y)\n",
    "\n",
    "    result[ \"coefficients\"] = model.coef_[ 0]\n",
    "\n",
    "    y_hat = model.predict( X)\n",
    "    result[ \"residuals\"] = y - y_hat\n",
    "    \n",
    "    n = len( result[ \"residuals\"])\n",
    "    k = len( result[ \"coefficients\"])\n",
    "    \n",
    "    return result\n",
    "\n",
    "def describe_fit( result):\n",
    "    formula = result[ \"formula\"]\n",
    "    print \"regression: \", formula\n",
    "    print \"n: \", result[ \"n\"]\n",
    "    print \"----------\"\n",
    "    variables = formula.split(\"~\")[1].split( \"+\")\n",
    "    variables = [\"intercept\"] + variables\n",
    "    coefficients = result[ \"coefficients\"]\n",
    "    for variable, coefficient in zip( variables, coefficients):\n",
    "        print variable.strip() + \": \", coefficient\n",
    "        \n",
    "def bootstrap_logm( formula, data=None, samples=100):\n",
    "    if data is None:\n",
    "        raise ValueError( \"The parameter 'data' must be assigned a non-nil reference to a Pandas DataFrame\")\n",
    "    \n",
    "    bootstrap_results = {}\n",
    "    bootstrap_results[ \"formula\"] = formula\n",
    "\n",
    "    variables = map( lambda x: x.strip(), formula.split(\"~\")[1].split( \"+\"))\n",
    "    variables = [\"intercept\"] + variables\n",
    "    bootstrap_results[ \"variables\"] = variables\n",
    "    \n",
    "    coeffs = []\n",
    "    sigmas = []\n",
    "    rs = []\n",
    "\n",
    "    n = data.shape[ 0]\n",
    "    bootstrap_results[ \"n\"] = n\n",
    "    \n",
    "    for i in xrange( samples):\n",
    "        sampling_indices = [ i for i in [py_random.randint(0, n - 1) for _ in xrange( 0, n)]]\n",
    "        sampling = data.loc[ sampling_indices]\n",
    "        \n",
    "        results = logm( formula, data=sampling)\n",
    "        coeffs.append( results[ \"coefficients\"])\n",
    "    \n",
    "    coeffs = pd.DataFrame( coeffs, columns=variables)\n",
    "\n",
    "    bootstrap_results[ \"resampled_coefficients\"] = coeffs\n",
    "    \n",
    "    result = logm( formula, data=data)\n",
    "    \n",
    "    bootstrap_results[ \"residuals\"] = result[ \"residuals\"]\n",
    "    bootstrap_results[ \"coefficients\"] = result[ \"coefficients\"]\n",
    "    return bootstrap_results\n",
    "\n",
    "def describe_bootstrap_fit(result):\n",
    "    print \"regression: \", result[ \"formula\"]\n",
    "    print \"n: \", result[ \"n\"]\n",
    "    print \"----------\"\n",
    "    \n",
    "    bounds = result[ \"resampled_coefficients\"].quantile([0.025, 0.975])\n",
    "    bounds = bounds.transpose()\n",
    "    bounds = bounds.values.tolist()\n",
    "\n",
    "    for variable, coefficient, bound in zip( result[ \"variables\"], result[\"coefficients\"], bounds):\n",
    "        print variable + \": \", coefficient, bound \n",
    "     \n",
    "    print \"Accuracy: %f%%\" % (sum(abs(result['residuals'])) / len(result['residuals']) * 100)\n",
    "        \n",
    "def logistic( z):\n",
    "    return 1.0 / (1.0 + np.exp( -z))\n",
    "\n",
    "# Resample WITH replacement\n",
    "def resample(data):\n",
    "    n = len(data)\n",
    "    return [data[i] for i in [py_random.randint(0, n - 1) for _ in xrange(0, n)]]\n",
    "\n",
    "def bootstrap_error(generalization_error):\n",
    "    return np.array([np.mean(sample) for sample in [resample(generalization_error) for i in xrange(0, 10000)]])"
   ]
  },
  {
   "cell_type": "markdown",
   "metadata": {},
   "source": [
    "# Problem Set 4\n",
    "\n",
    "## Directions\n",
    "\n",
    "1. Show all work/steps/calculations. Generating Markdown cells for each answer or explanation as needed as well as Code cells for code. \n",
    "2. Submission. Follow the general guidelines for submission. They must be in a director/folder that is your JHED ID using zip compression and contain everything I need to run your notebook. At minimum,\n",
    "    1. the .ipynb version of the notebook.\n",
    "    2. the .html version of the notebook `$ jupyter nbconvert <name of notebook>.ipynb`.\n",
    "    3. the data file(s).\n",
    "    \n",
    "    **If we cannot run your code, the entire assignment is wrong, a \"0\". This is reproducible research.**\n",
    "\n",
    "2. **All** work is to be your own. This is not a group project. You may, however, use code from the lectures and labs. Provide citations for any code that is not your own. You may also consult Stackoverflow, etc. This is not by any means \"closed book\" or anything like that. Basically, I need to see if *you* learned the concepts from the Labs.\n",
    "3. All decisions and actions require an explanation. Why did you do it? What did you hope to find out? What did you find out? **Explain and interpret your results. Explain your decisions.** Do not just execute code you copied from the notebooks or previous labs."
   ]
  },
  {
   "cell_type": "markdown",
   "metadata": {},
   "source": [
    "## Overview\n",
    "\n",
    "In this lab you are going to be working with a single data set. [Credit Approval Data Set](https://archive.ics.uci.edu/ml/datasets/Credit+Approval) You'll be using the `crx.data` data set.\n",
    "\n",
    "This data set is interesting for a number of reasons:\n",
    "\n",
    "1. The encodings are weird. For example, the classes are \"+\" and \"-\". Even though this is a nice CSV file, you're going to have to do a bit of ETL.\n",
    "2. The data has been scrubbed to protect confidentiality. This means you can't use any domain knowledge. This is an interesting problem that you may run into in the future. What do you do if you don't know what the variables *mean*? This means you will have to rely much more on your EDA.\n",
    "3. Even more interesting, based on your EDA, can you give a guess as to what the variables are?\n",
    "\n",
    "## Steps\n",
    "\n",
    "1. Download the data set and data dictionary (such that it is). This doesn't have to be in the notebook or even an external file. Some things don't need to be automated.\n",
    "2. Load the data, doing whatever ETL you need to do.\n",
    "3. Conduct EDA on the raw data. Remember the comments from Problem Set 2. Do not apply techniques blindly. It's **Exploratory** Data **Analysis** tell me what you are exploring and what you are analyzing. What conclusions did you reach?\n",
    "4. I've made the decision for you to see to use logistic regression. Use the bootstrap logistic regression from previous labs. Build a model. Explain your process and how you come up with a final model.\n",
    "5. Explain the coefficients of your final model.\n",
    "6. Calculate **Learning Curves** to see where we are in the bias/variance trade-off zone and if more data will help the model.\n",
    "7. Calculate **Validation Curves** to see if moving the threshold from 0.5 will improve the model's performance.\n",
    "\n",
    "Remember the comments to Problem Set 3. Explain everything, make it pretty. Your boss is reading this."
   ]
  },
  {
   "cell_type": "markdown",
   "metadata": {
    "collapsed": true
   },
   "source": [
    "Read in the data and print some basic stats so we can get some context:"
   ]
  },
  {
   "cell_type": "code",
   "execution_count": 404,
   "metadata": {
    "collapsed": false
   },
   "outputs": [
    {
     "name": "stdout",
     "output_type": "stream",
     "text": [
      "<class 'pandas.core.frame.DataFrame'>\n",
      "Int64Index: 653 entries, 0 to 689\n",
      "Data columns (total 16 columns):\n",
      "0     653 non-null category\n",
      "1     653 non-null float64\n",
      "2     653 non-null float64\n",
      "3     653 non-null category\n",
      "4     653 non-null category\n",
      "5     653 non-null category\n",
      "6     653 non-null category\n",
      "7     653 non-null float64\n",
      "8     653 non-null category\n",
      "9     653 non-null category\n",
      "10    653 non-null int64\n",
      "11    653 non-null category\n",
      "12    653 non-null category\n",
      "13    653 non-null int64\n",
      "14    653 non-null int64\n",
      "15    653 non-null category\n",
      "dtypes: category(10), float64(3), int64(3)\n",
      "memory usage: 42.4 KB\n",
      "None\n"
     ]
    }
   ],
   "source": [
    "df = pd.read_csv('crx.data', header=None)\n",
    "df = df.replace('?', np.NaN).dropna()\n",
    "# Let's transform the categorical columns\n",
    "df[0] = df[0].astype('category')\n",
    "df[1] = pd.to_numeric(df[1], errors='coerce')\n",
    "df[3] = df[3].astype('category')\n",
    "df[4] = df[4].astype('category')\n",
    "df[5] = df[5].astype('category')\n",
    "df[6] = df[6].astype('category')\n",
    "df[8] = df[8].astype('category')\n",
    "df[9] = df[9].astype('category')\n",
    "df[11] = df[11].astype('category')\n",
    "df[12] = df[12].astype('category')\n",
    "df[13] = pd.to_numeric(df[13], errors='coerce')\n",
    "df[15] = df[15].astype('category')\n",
    "\n",
    "# Check data types\n",
    "print df.info()"
   ]
  },
  {
   "cell_type": "markdown",
   "metadata": {},
   "source": [
    "All the columns appear to be 'sane' data types so let's get a little more information about each column:"
   ]
  },
  {
   "cell_type": "code",
   "execution_count": 405,
   "metadata": {
    "collapsed": false,
    "scrolled": false
   },
   "outputs": [
    {
     "name": "stdout",
     "output_type": "stream",
     "text": [
      "----------\n",
      "category\n",
      "count     653\n",
      "unique      2\n",
      "top         b\n",
      "freq      450\n",
      "Name: 0, dtype: object\n",
      "----------\n",
      "float64\n",
      "count    653.000000\n",
      "mean      31.503813\n",
      "std       11.838267\n",
      "min       13.750000\n",
      "25%       22.580000\n",
      "50%       28.420000\n",
      "75%       38.250000\n",
      "max       76.750000\n",
      "Name: 1, dtype: float64\n",
      "----------\n",
      "float64\n",
      "count    653.000000\n",
      "mean       4.829533\n",
      "std        5.027077\n",
      "min        0.000000\n",
      "25%        1.040000\n",
      "50%        2.835000\n",
      "75%        7.500000\n",
      "max       28.000000\n",
      "Name: 2, dtype: float64\n",
      "----------\n",
      "category\n",
      "count     653\n",
      "unique      3\n",
      "top         u\n",
      "freq      499\n",
      "Name: 3, dtype: object\n",
      "----------\n",
      "category\n",
      "count     653\n",
      "unique      3\n",
      "top         g\n",
      "freq      499\n",
      "Name: 4, dtype: object\n",
      "----------\n",
      "category\n",
      "count     653\n",
      "unique     14\n",
      "top         c\n",
      "freq      133\n",
      "Name: 5, dtype: object\n",
      "----------\n",
      "category\n",
      "count     653\n",
      "unique      9\n",
      "top         v\n",
      "freq      381\n",
      "Name: 6, dtype: object\n",
      "----------\n",
      "float64\n",
      "count    653.000000\n",
      "mean       2.244296\n",
      "std        3.371120\n",
      "min        0.000000\n",
      "25%        0.165000\n",
      "50%        1.000000\n",
      "75%        2.625000\n",
      "max       28.500000\n",
      "Name: 7, dtype: float64\n",
      "----------\n",
      "category\n",
      "count     653\n",
      "unique      2\n",
      "top         t\n",
      "freq      349\n",
      "Name: 8, dtype: object\n",
      "----------\n",
      "category\n",
      "count     653\n",
      "unique      2\n",
      "top         f\n",
      "freq      366\n",
      "Name: 9, dtype: object\n",
      "----------\n",
      "int64\n",
      "count    653.000000\n",
      "mean       2.502297\n",
      "std        4.968497\n",
      "min        0.000000\n",
      "25%        0.000000\n",
      "50%        0.000000\n",
      "75%        3.000000\n",
      "max       67.000000\n",
      "Name: 10, dtype: float64\n",
      "----------\n",
      "category\n",
      "count     653\n",
      "unique      2\n",
      "top         f\n",
      "freq      351\n",
      "Name: 11, dtype: object\n",
      "----------\n",
      "category\n",
      "count     653\n",
      "unique      3\n",
      "top         g\n",
      "freq      598\n",
      "Name: 12, dtype: object\n",
      "----------\n",
      "int64\n",
      "count     653.000000\n",
      "mean      180.359877\n",
      "std       168.296811\n",
      "min         0.000000\n",
      "25%        73.000000\n",
      "50%       160.000000\n",
      "75%       272.000000\n",
      "max      2000.000000\n",
      "Name: 13, dtype: float64\n",
      "----------\n",
      "int64\n",
      "count       653.000000\n",
      "mean       1013.761103\n",
      "std        5253.278504\n",
      "min           0.000000\n",
      "25%           0.000000\n",
      "50%           5.000000\n",
      "75%         400.000000\n",
      "max      100000.000000\n",
      "Name: 14, dtype: float64\n",
      "----------\n",
      "category\n",
      "count     653\n",
      "unique      2\n",
      "top         -\n",
      "freq      357\n",
      "Name: 15, dtype: object\n"
     ]
    }
   ],
   "source": [
    "examine_data_frame(df)"
   ]
  },
  {
   "cell_type": "markdown",
   "metadata": {},
   "source": [
    "Speculating about what each column means could be dangerous at this stage, but we do know that the last column stands for whether this person was approved for some amount of credit. So let's count the approvals and denials:"
   ]
  },
  {
   "cell_type": "code",
   "execution_count": 406,
   "metadata": {
    "collapsed": false
   },
   "outputs": [
    {
     "data": {
      "text/plain": [
       "-    357\n",
       "+    296\n",
       "Name: 15, dtype: int64"
      ]
     },
     "execution_count": 406,
     "metadata": {},
     "output_type": "execute_result"
    }
   ],
   "source": [
    "df[15].value_counts()"
   ]
  },
  {
   "cell_type": "markdown",
   "metadata": {},
   "source": [
    "This shows us there is just about the same number of approvals as denials, which should help when we go to draw conclusions."
   ]
  },
  {
   "cell_type": "markdown",
   "metadata": {},
   "source": [
    "To get a feel for the types of values in each column, let's make histograms of their values:"
   ]
  },
  {
   "cell_type": "code",
   "execution_count": 407,
   "metadata": {
    "collapsed": false
   },
   "outputs": [
    {
     "name": "stdout",
     "output_type": "stream",
     "text": [
      "Attribute 0\n"
     ]
    },
    {
     "data": {
      "text/plain": [
       "<matplotlib.axes._subplots.AxesSubplot at 0x11e46fd90>"
      ]
     },
     "execution_count": 407,
     "metadata": {},
     "output_type": "execute_result"
    },
    {
     "data": {
      "image/png": "[encoded data removed]",
      "text/plain": [
       "<matplotlib.figure.Figure at 0x11d574c50>"
      ]
     },
     "metadata": {},
     "output_type": "display_data"
    }
   ],
   "source": [
    "print \"Attribute 0\"\n",
    "df[0].value_counts().plot(kind='bar')"
   ]
  },
  {
   "cell_type": "markdown",
   "metadata": {},
   "source": [
    "With only two categories, this column isn't that interesting. Because the category only has two values, it's possible it represents male v female. With that being said, the occurances of each aren't even and column 'b' is more than twice as big as 'a' so I'm ruling out this column representing 'sex'."
   ]
  },
  {
   "cell_type": "code",
   "execution_count": 408,
   "metadata": {
    "collapsed": false
   },
   "outputs": [
    {
     "name": "stdout",
     "output_type": "stream",
     "text": [
      "Attribute 1\n"
     ]
    },
    {
     "data": {
      "image/png": "[encoded data removed]",
      "text/plain": [
       "<matplotlib.figure.Figure at 0x11e703050>"
      ]
     },
     "metadata": {},
     "output_type": "display_data"
    }
   ],
   "source": [
    "print \"Attribute 1\"\n",
    "graph_histogram(df[1].as_matrix())"
   ]
  },
  {
   "cell_type": "markdown",
   "metadata": {},
   "source": [
    "This looks a little like a beta distribution with alpha = 2 and beta = 5 or a gamma distribution with k and theta = 2. Given the min and max values and how the largest values occur between 25 and 40, this column may be age."
   ]
  },
  {
   "cell_type": "code",
   "execution_count": 409,
   "metadata": {
    "collapsed": false
   },
   "outputs": [
    {
     "name": "stdout",
     "output_type": "stream",
     "text": [
      "Attribute 2\n"
     ]
    },
    {
     "data": {
      "image/png": "[encoded data removed]",
      "text/plain": [
       "<matplotlib.figure.Figure at 0x11616c590>"
      ]
     },
     "metadata": {},
     "output_type": "display_data"
    }
   ],
   "source": [
    "print \"Attribute 2\"\n",
    "graph_histogram(df[2].as_matrix())"
   ]
  },
  {
   "cell_type": "markdown",
   "metadata": {},
   "source": [
    "This looks a lot like an exponential distribution although I don't have any good guesses yet as to what this column could represent."
   ]
  },
  {
   "cell_type": "code",
   "execution_count": 410,
   "metadata": {
    "collapsed": false
   },
   "outputs": [
    {
     "name": "stdout",
     "output_type": "stream",
     "text": [
      "Attribute 3\n"
     ]
    },
    {
     "data": {
      "text/plain": [
       "<matplotlib.axes._subplots.AxesSubplot at 0x12089ee50>"
      ]
     },
     "execution_count": 410,
     "metadata": {},
     "output_type": "execute_result"
    },
    {
     "data": {
      "image/png": "[encoded data removed]",
      "text/plain": [
       "<matplotlib.figure.Figure at 0x11e5f0310>"
      ]
     },
     "metadata": {},
     "output_type": "display_data"
    }
   ],
   "source": [
    "print \"Attribute 3\"\n",
    "df[3].value_counts().plot(kind='bar')"
   ]
  },
  {
   "cell_type": "markdown",
   "metadata": {},
   "source": [
    "This histogram doesn't help much but given its shape and number of categories, this may represent the categories of 'risk' of a borrow defaulting on a loan ('high', 'medium', 'low')."
   ]
  },
  {
   "cell_type": "code",
   "execution_count": 411,
   "metadata": {
    "collapsed": false
   },
   "outputs": [
    {
     "name": "stdout",
     "output_type": "stream",
     "text": [
      "Attribute 4\n"
     ]
    },
    {
     "data": {
      "text/plain": [
       "<matplotlib.axes._subplots.AxesSubplot at 0x11e8da090>"
      ]
     },
     "execution_count": 411,
     "metadata": {},
     "output_type": "execute_result"
    },
    {
     "data": {
      "image/png": "[encoded data removed]",
      "text/plain": [
       "<matplotlib.figure.Figure at 0x11e4c5c10>"
      ]
     },
     "metadata": {},
     "output_type": "display_data"
    }
   ],
   "source": [
    "print \"Attribute 4\"\n",
    "df[4].value_counts().plot(kind='bar')"
   ]
  },
  {
   "cell_type": "markdown",
   "metadata": {},
   "source": [
    "I have the same thoughts as attribute 3. It's interesting to note that it appears attribute 4 values have the same exact count per category as attribute 4."
   ]
  },
  {
   "cell_type": "code",
   "execution_count": 412,
   "metadata": {
    "collapsed": false
   },
   "outputs": [
    {
     "name": "stdout",
     "output_type": "stream",
     "text": [
      "Attribute 5\n"
     ]
    },
    {
     "data": {
      "text/plain": [
       "<matplotlib.axes._subplots.AxesSubplot at 0x120ba61d0>"
      ]
     },
     "execution_count": 412,
     "metadata": {},
     "output_type": "execute_result"
    },
    {
     "data": {
      "image/png": "[encoded data removed]",
      "text/plain": [
       "<matplotlib.figure.Figure at 0x120ced590>"
      ]
     },
     "metadata": {},
     "output_type": "display_data"
    }
   ],
   "source": [
    "print \"Attribute 5\"\n",
    "df[5].value_counts().plot(kind='bar')"
   ]
  },
  {
   "cell_type": "markdown",
   "metadata": {},
   "source": [
    "No obvious guesses pop out at me, but this attribute looks to be relatively structured and has 14 categories."
   ]
  },
  {
   "cell_type": "markdown",
   "metadata": {},
   "source": [
    "To speed up processing, I'm only to comment on histograms that look interesting:"
   ]
  },
  {
   "cell_type": "code",
   "execution_count": 413,
   "metadata": {
    "collapsed": false
   },
   "outputs": [
    {
     "name": "stdout",
     "output_type": "stream",
     "text": [
      "Attribute 6\n"
     ]
    },
    {
     "data": {
      "text/plain": [
       "<matplotlib.axes._subplots.AxesSubplot at 0x120eedfd0>"
      ]
     },
     "execution_count": 413,
     "metadata": {},
     "output_type": "execute_result"
    },
    {
     "data": {
      "image/png": "[encoded data removed]",
      "text/plain": [
       "<matplotlib.figure.Figure at 0x120ced090>"
      ]
     },
     "metadata": {},
     "output_type": "display_data"
    }
   ],
   "source": [
    "print \"Attribute 6\"\n",
    "df[6].value_counts().plot(kind='bar')"
   ]
  },
  {
   "cell_type": "markdown",
   "metadata": {},
   "source": [
    "Again, this looks like an exponential distribution, but I don't have an idea of what it could be."
   ]
  },
  {
   "cell_type": "code",
   "execution_count": 414,
   "metadata": {
    "collapsed": false
   },
   "outputs": [
    {
     "name": "stdout",
     "output_type": "stream",
     "text": [
      "Attribute 7\n"
     ]
    },
    {
     "data": {
      "image/png": "[encoded data removed]",
      "text/plain": [
       "<matplotlib.figure.Figure at 0x1210839d0>"
      ]
     },
     "metadata": {},
     "output_type": "display_data"
    }
   ],
   "source": [
    "print \"Attribute 7\"\n",
    "graph_histogram(df[7].as_matrix())"
   ]
  },
  {
   "cell_type": "markdown",
   "metadata": {},
   "source": [
    "This attribute follows the distribution of attribute 2 and has the same min and max values."
   ]
  },
  {
   "cell_type": "code",
   "execution_count": 415,
   "metadata": {
    "collapsed": false
   },
   "outputs": [
    {
     "name": "stdout",
     "output_type": "stream",
     "text": [
      "Attribute 8\n"
     ]
    },
    {
     "data": {
      "text/plain": [
       "<matplotlib.axes._subplots.AxesSubplot at 0x121345150>"
      ]
     },
     "execution_count": 415,
     "metadata": {},
     "output_type": "execute_result"
    },
    {
     "data": {
      "image/png": "[encoded data removed]",
      "text/plain": [
       "<matplotlib.figure.Figure at 0x121336490>"
      ]
     },
     "metadata": {},
     "output_type": "display_data"
    }
   ],
   "source": [
    "print \"Attribute 8\"\n",
    "df[8].value_counts().plot(kind='bar')"
   ]
  },
  {
   "cell_type": "markdown",
   "metadata": {},
   "source": [
    "This may be some kind of boolean field or could represent 'sex' due to how relatively balanced it is."
   ]
  },
  {
   "cell_type": "code",
   "execution_count": 416,
   "metadata": {
    "collapsed": false
   },
   "outputs": [
    {
     "name": "stdout",
     "output_type": "stream",
     "text": [
      "Attribute 9\n"
     ]
    },
    {
     "data": {
      "text/plain": [
       "<matplotlib.axes._subplots.AxesSubplot at 0x1215ebe50>"
      ]
     },
     "execution_count": 416,
     "metadata": {},
     "output_type": "execute_result"
    },
    {
     "data": {
      "image/png": "[encoded data removed]",
      "text/plain": [
       "<matplotlib.figure.Figure at 0x12130e650>"
      ]
     },
     "metadata": {},
     "output_type": "display_data"
    }
   ],
   "source": [
    "print \"Attribute 9\"\n",
    "df[9].value_counts().plot(kind='bar')"
   ]
  },
  {
   "cell_type": "markdown",
   "metadata": {},
   "source": [
    "This could also be a boolean field, but it is more imbalanced than attribute 8."
   ]
  },
  {
   "cell_type": "code",
   "execution_count": 417,
   "metadata": {
    "collapsed": false
   },
   "outputs": [
    {
     "name": "stdout",
     "output_type": "stream",
     "text": [
      "Attribute 10\n"
     ]
    },
    {
     "data": {
      "image/png": "[encoded data removed]",
      "text/plain": [
       "<matplotlib.figure.Figure at 0x121791ad0>"
      ]
     },
     "metadata": {},
     "output_type": "display_data"
    }
   ],
   "source": [
    "print \"Attribute 10\"\n",
    "graph_histogram(df[10].as_matrix())"
   ]
  },
  {
   "cell_type": "markdown",
   "metadata": {},
   "source": [
    "Another exponential distribution."
   ]
  },
  {
   "cell_type": "code",
   "execution_count": 418,
   "metadata": {
    "collapsed": false
   },
   "outputs": [
    {
     "name": "stdout",
     "output_type": "stream",
     "text": [
      "Attribute 11\n"
     ]
    },
    {
     "data": {
      "text/plain": [
       "<matplotlib.axes._subplots.AxesSubplot at 0x122385b90>"
      ]
     },
     "execution_count": 418,
     "metadata": {},
     "output_type": "execute_result"
    },
    {
     "data": {
      "image/png": "[encoded data removed]",
      "text/plain": [
       "<matplotlib.figure.Figure at 0x12177e0d0>"
      ]
     },
     "metadata": {},
     "output_type": "display_data"
    }
   ],
   "source": [
    "print \"Attribute 11\"\n",
    "df[11].value_counts().plot(kind='bar')"
   ]
  },
  {
   "cell_type": "code",
   "execution_count": 419,
   "metadata": {
    "collapsed": false
   },
   "outputs": [
    {
     "name": "stdout",
     "output_type": "stream",
     "text": [
      "Attribute 12\n"
     ]
    },
    {
     "data": {
      "text/plain": [
       "<matplotlib.axes._subplots.AxesSubplot at 0x1223d7410>"
      ]
     },
     "execution_count": 419,
     "metadata": {},
     "output_type": "execute_result"
    },
    {
     "data": {
      "image/png": "[encoded data removed]",
      "text/plain": [
       "<matplotlib.figure.Figure at 0x12253a790>"
      ]
     },
     "metadata": {},
     "output_type": "display_data"
    }
   ],
   "source": [
    "print \"Attribute 12\"\n",
    "df[12].value_counts().plot(kind='bar')"
   ]
  },
  {
   "cell_type": "code",
   "execution_count": 420,
   "metadata": {
    "collapsed": false
   },
   "outputs": [
    {
     "name": "stdout",
     "output_type": "stream",
     "text": [
      "Attribute 13\n"
     ]
    },
    {
     "data": {
      "image/png": "[encoded data removed]",
      "text/plain": [
       "<matplotlib.figure.Figure at 0x1226ba110>"
      ]
     },
     "metadata": {},
     "output_type": "display_data"
    }
   ],
   "source": [
    "print \"Attribute 13\"\n",
    "graph_histogram(df[13].as_matrix())"
   ]
  },
  {
   "cell_type": "markdown",
   "metadata": {},
   "source": [
    "Yet another exponential distribution, although given the min and max value, this may be a down payment on the loan."
   ]
  },
  {
   "cell_type": "code",
   "execution_count": 421,
   "metadata": {
    "collapsed": false,
    "scrolled": false
   },
   "outputs": [
    {
     "name": "stdout",
     "output_type": "stream",
     "text": [
      "Attribute 14\n"
     ]
    },
    {
     "data": {
      "image/png": "[encoded data removed]",
      "text/plain": [
       "<matplotlib.figure.Figure at 0x122385650>"
      ]
     },
     "metadata": {},
     "output_type": "display_data"
    }
   ],
   "source": [
    "print \"Attribute 14\"\n",
    "graph_histogram(df[14].as_matrix())"
   ]
  },
  {
   "cell_type": "markdown",
   "metadata": {},
   "source": [
    "It's interesting how the values in attribute 14 are nearly all under 20000 with a few outliers up to 100000."
   ]
  },
  {
   "cell_type": "markdown",
   "metadata": {},
   "source": [
    "Let's produce some box-and-whisker plots for the numeric columns:"
   ]
  },
  {
   "cell_type": "code",
   "execution_count": 422,
   "metadata": {
    "collapsed": false
   },
   "outputs": [
    {
     "data": {
      "image/png": "[encoded data removed]",
      "text/plain": [
       "<matplotlib.figure.Figure at 0x120eb9d50>"
      ]
     },
     "metadata": {},
     "output_type": "display_data"
    },
    {
     "data": {
      "image/png": "[encoded data removed]",
      "text/plain": [
       "<matplotlib.figure.Figure at 0x120eb9e50>"
      ]
     },
     "metadata": {},
     "output_type": "display_data"
    },
    {
     "data": {
      "image/png": "[encoded data removed]",
      "text/plain": [
       "<matplotlib.figure.Figure at 0x118e59610>"
      ]
     },
     "metadata": {},
     "output_type": "display_data"
    },
    {
     "data": {
      "image/png": "[encoded data removed]",
      "text/plain": [
       "<matplotlib.figure.Figure at 0x1208c0e90>"
      ]
     },
     "metadata": {},
     "output_type": "display_data"
    },
    {
     "data": {
      "image/png": "[encoded data removed]",
      "text/plain": [
       "<matplotlib.figure.Figure at 0x11e72de10>"
      ]
     },
     "metadata": {},
     "output_type": "display_data"
    },
    {
     "data": {
      "image/png": "[encoded data removed]",
      "text/plain": [
       "<matplotlib.figure.Figure at 0x11d6c7490>"
      ]
     },
     "metadata": {},
     "output_type": "display_data"
    }
   ],
   "source": [
    "graph_boxplot(df[1])\n",
    "graph_boxplot(df[2])\n",
    "graph_boxplot(df[7])\n",
    "graph_boxplot(df[10])\n",
    "graph_boxplot(df[13])\n",
    "graph_boxplot(df[14])"
   ]
  },
  {
   "cell_type": "markdown",
   "metadata": {},
   "source": [
    "From these boxplots, we can see that attributes 1 and 2 are relatively smooth and look to contain no outliers. The others, on the other hand, suffer from quiet a few outliers, especially attributes 13 and 14."
   ]
  },
  {
   "cell_type": "markdown",
   "metadata": {},
   "source": [
    "Now that we have an idea of how each attribute 'looks', I'd like to try to discover some relationships that might exist between our attributes. Because of a lack of knowledge about what each column represents, I'm going to start by comparing each categorical attribute against the class label (attribute 15)."
   ]
  },
  {
   "cell_type": "code",
   "execution_count": 423,
   "metadata": {
    "collapsed": false
   },
   "outputs": [
    {
     "name": "stdout",
     "output_type": "stream",
     "text": [
      "\n",
      "Attribute 0\n",
      "15    +    -\n",
      "0           \n",
      "a    95  108\n",
      "b   201  249\n",
      "\n",
      "Attribute 3\n",
      "15    +    -\n",
      "3           \n",
      "l     2    0\n",
      "u   249  250\n",
      "y    45  107\n",
      "\n",
      "Attribute 4\n",
      "15    +    -\n",
      "4           \n",
      "g   249  250\n",
      "gg    2    0\n",
      "p    45  107\n",
      "\n",
      "Attribute 5\n",
      "15   +   -\n",
      "5         \n",
      "aa  19  33\n",
      "c   60  73\n",
      "cc  29  11\n",
      "d    7  19\n",
      "e   14  10\n",
      "ff   7  43\n",
      "i   14  41\n",
      "j    3   7\n",
      "k   13  35\n",
      "m   16  22\n",
      "q   49  26\n",
      "r    2   1\n",
      "w   33  30\n",
      "x   30   6\n",
      "\n",
      "Attribute 6\n",
      "15    +    -\n",
      "6           \n",
      "bb   24   29\n",
      "dd    2    4\n",
      "ff    8   46\n",
      "h    87   50\n",
      "j     3    5\n",
      "n     2    2\n",
      "o     1    1\n",
      "v   163  218\n",
      "z     6    2\n",
      "\n",
      "Attribute 8\n",
      "15    +    -\n",
      "8           \n",
      "f    18  286\n",
      "t   278   71\n",
      "\n",
      "Attribute 9\n",
      "15    +    -\n",
      "9           \n",
      "f    93  273\n",
      "t   203   84\n",
      "\n",
      "Attribute 11\n",
      "15    +    -\n",
      "11          \n",
      "f   151  200\n",
      "t   145  157\n",
      "\n",
      "Attribute 12\n",
      "15    +    -\n",
      "12          \n",
      "g   280  318\n",
      "p     1    1\n",
      "s    15   38\n"
     ]
    }
   ],
   "source": [
    "print \"\\nAttribute 0\"\n",
    "print pd.crosstab( df[0], df[15])\n",
    "print \"\\nAttribute 3\"\n",
    "print pd.crosstab( df[3], df[15])\n",
    "print \"\\nAttribute 4\"\n",
    "print pd.crosstab( df[4], df[15])\n",
    "print \"\\nAttribute 5\"\n",
    "print pd.crosstab( df[5], df[15])\n",
    "print \"\\nAttribute 6\"\n",
    "print pd.crosstab( df[6], df[15])\n",
    "print \"\\nAttribute 8\"\n",
    "print pd.crosstab( df[8], df[15])\n",
    "print \"\\nAttribute 9\"\n",
    "print pd.crosstab( df[9], df[15])\n",
    "print \"\\nAttribute 11\"\n",
    "print pd.crosstab( df[11], df[15])\n",
    "print \"\\nAttribute 12\"\n",
    "print pd.crosstab( df[12], df[15])"
   ]
  },
  {
   "cell_type": "markdown",
   "metadata": {},
   "source": [
    "There doesn't seem to be a strong relationship between any single categorical attribute and the outcome of being approved or denied a loan. Let's try a similar analysis for the numerical attribute."
   ]
  },
  {
   "cell_type": "code",
   "execution_count": 424,
   "metadata": {
    "collapsed": false
   },
   "outputs": [
    {
     "name": "stdout",
     "output_type": "stream",
     "text": [
      "\n",
      "Attribute 1\n",
      "    count       mean        std    min    25%    50%    75%    max\n",
      "15                                                                \n",
      "+   296.0  33.845473  12.689357  13.75  23.25  31.04  41.44  76.75\n",
      "-   357.0  29.562269  10.719168  15.17  21.92  26.92  34.83  74.83\n",
      "\n",
      "Attribute 2\n",
      "    count       mean        std    min    25%    50%    75%    max\n",
      "15                                                                \n",
      "+   296.0  33.845473  12.689357  13.75  23.25  31.04  41.44  76.75\n",
      "-   357.0  29.562269  10.719168  15.17  21.92  26.92  34.83  74.83\n",
      "\n",
      "Attribute 7\n",
      "    count       mean        std    min    25%    50%    75%    max\n",
      "15                                                                \n",
      "+   296.0  33.845473  12.689357  13.75  23.25  31.04  41.44  76.75\n",
      "-   357.0  29.562269  10.719168  15.17  21.92  26.92  34.83  74.83\n",
      "\n",
      "Attribute 10\n",
      "    count       mean        std    min    25%    50%    75%    max\n",
      "15                                                                \n",
      "+   296.0  33.845473  12.689357  13.75  23.25  31.04  41.44  76.75\n",
      "-   357.0  29.562269  10.719168  15.17  21.92  26.92  34.83  74.83\n",
      "\n",
      "Attribute 13\n",
      "    count       mean        std    min    25%    50%    75%    max\n",
      "15                                                                \n",
      "+   296.0  33.845473  12.689357  13.75  23.25  31.04  41.44  76.75\n",
      "-   357.0  29.562269  10.719168  15.17  21.92  26.92  34.83  74.83\n",
      "\n",
      "Attribute 14\n",
      "    count       mean        std    min    25%    50%    75%    max\n",
      "15                                                                \n",
      "+   296.0  33.845473  12.689357  13.75  23.25  31.04  41.44  76.75\n",
      "-   357.0  29.562269  10.719168  15.17  21.92  26.92  34.83  74.83\n"
     ]
    }
   ],
   "source": [
    "for attr in [1, 2, 7, 10, 13, 14]:\n",
    "    print \"\\nAttribute %d\" % attr\n",
    "    grouped = df.groupby(15)\n",
    "    grouping = grouped[1].describe()\n",
    "    grouping = grouping.unstack( level=-1)\n",
    "    print grouping"
   ]
  },
  {
   "cell_type": "markdown",
   "metadata": {},
   "source": [
    "Based on the difference between the means of the attribute given a '+' or '-' label and the standard deviation it looks like attributes 7, 10, and 14 could be good attributes to include in the model. The other attributes all have relatively similar means regardless of their label or their 50% quartile's are too close."
   ]
  },
  {
   "cell_type": "markdown",
   "metadata": {},
   "source": [
    "Since this grouping analysis isn't limited to numerical attributes, let's see how the categorical attributes do:"
   ]
  },
  {
   "cell_type": "code",
   "execution_count": 425,
   "metadata": {
    "collapsed": false,
    "scrolled": false
   },
   "outputs": [
    {
     "name": "stdout",
     "output_type": "stream",
     "text": [
      "\n",
      "Attribute 0\n",
      "0     a    b\n",
      "15          \n",
      "+    95  201\n",
      "-   108  249\n",
      "\n",
      "Attribute 3\n",
      "3     l      u      y\n",
      "15                   \n",
      "+   2.0  249.0   45.0\n",
      "-   NaN  250.0  107.0\n",
      "\n",
      "Attribute 4\n",
      "4       g   gg      p\n",
      "15                   \n",
      "+   249.0  2.0   45.0\n",
      "-   250.0  NaN  107.0\n",
      "\n",
      "Attribute 5\n",
      "5   aa   c  cc   d   e  ff   i  j   k   m   q  r   w   x\n",
      "15                                                      \n",
      "+   19  60  29   7  14   7  14  3  13  16  49  2  33  30\n",
      "-   33  73  11  19  10  43  41  7  35  22  26  1  30   6\n",
      "\n",
      "Attribute 6\n",
      "6   bb  dd  ff   h  j  n  o    v  z\n",
      "15                                 \n",
      "+   24   2   8  87  3  2  1  163  6\n",
      "-   29   4  46  50  5  2  1  218  2\n",
      "\n",
      "Attribute 8\n",
      "8     f    t\n",
      "15          \n",
      "+    18  278\n",
      "-   286   71\n",
      "\n",
      "Attribute 9\n",
      "9     f    t\n",
      "15          \n",
      "+    93  203\n",
      "-   273   84\n",
      "\n",
      "Attribute 11\n",
      "11    f    t\n",
      "15          \n",
      "+   151  145\n",
      "-   200  157\n",
      "\n",
      "Attribute 12\n",
      "12    g  p   s\n",
      "15            \n",
      "+   280  1  15\n",
      "-   318  1  38\n"
     ]
    }
   ],
   "source": [
    "for attr in [0, 3, 4, 5, 6, 8, 9, 11, 12]:\n",
    "    print \"\\nAttribute %d\" % attr\n",
    "    grouped = df.groupby(15)\n",
    "    grouping = grouped[attr].value_counts()\n",
    "    grouping = grouping.unstack( level=-1)\n",
    "    print grouping"
   ]
  },
  {
   "cell_type": "markdown",
   "metadata": {},
   "source": [
    "Based on the splits above, it looks like attributes 5, 6, 8, and 9 may have an influence on the class label. For these attributes, we see data instances with a particular category value gravitate towards a specific class label."
   ]
  },
  {
   "cell_type": "markdown",
   "metadata": {},
   "source": [
    "This completes the EDA portion of the project. With the information gleaned from EDA, we can start proposing models. First, I want to compare a model that uses every attribute with the attributes I identified as interesting. Let's start by generating the model with every attribute. First we need to encode the categorical attributes using a one hot encoding."
   ]
  },
  {
   "cell_type": "code",
   "execution_count": 426,
   "metadata": {
    "collapsed": false,
    "scrolled": false
   },
   "outputs": [
    {
     "name": "stdout",
     "output_type": "stream",
     "text": [
      "[ 0  2  5  8 22 31 33 35 37 40]\n",
      "   attr_0  attr_1  attr_2  attr_3  attr_4  attr_5  attr_6  attr_7  attr_8  \\\n",
      "0     1.0     0.0     1.0     0.0     0.0     1.0     0.0     0.0     1.0   \n",
      "1     0.0     1.0     1.0     0.0     0.0     1.0     0.0     0.0     0.0   \n",
      "2     0.0     1.0     1.0     0.0     0.0     1.0     0.0     0.0     0.0   \n",
      "3     1.0     0.0     1.0     0.0     0.0     1.0     0.0     0.0     1.0   \n",
      "4     1.0     0.0     1.0     0.0     0.0     1.0     0.0     0.0     1.0   \n",
      "\n",
      "   attr_9   ...     attr_37  attr_38  attr_39  attr_40  attr_41  attr_42  \\\n",
      "0     0.0   ...         1.0      0.0      0.0    30.83    0.000     1.25   \n",
      "1     1.0   ...         1.0      0.0      0.0    58.67    4.460     3.04   \n",
      "2     1.0   ...         1.0      0.0      0.0    24.50    0.500     1.50   \n",
      "3     0.0   ...         1.0      0.0      0.0    27.83    1.540     3.75   \n",
      "4     0.0   ...         0.0      1.0      0.0    20.17    5.625     1.71   \n",
      "\n",
      "   attr_43  attr_44  attr_45  attr_46  \n",
      "0      1.0    202.0      0.0      1.0  \n",
      "1      6.0     43.0    560.0      1.0  \n",
      "2      0.0    280.0    824.0      1.0  \n",
      "3      5.0    100.0      3.0      1.0  \n",
      "4      0.0    120.0      0.0      1.0  \n",
      "\n",
      "[5 rows x 47 columns]\n"
     ]
    }
   ],
   "source": [
    "# Category columns\n",
    "cate_colms = [0, 3, 4, 5, 6, 8, 9, 11, 12]\n",
    "\n",
    "# Replace category strings with ints\n",
    "for cate_colm in cate_colms:\n",
    "    encoding = 0\n",
    "    for val in df[cate_colm].unique():\n",
    "        df[cate_colm].replace(val, encoding, inplace=True)\n",
    "        encoding += 1\n",
    "df.replace('+', 1, inplace=True)\n",
    "df.replace('-', 0, inplace=True)\n",
    "\n",
    "# Use one hot encoding to encode categorical attributes\n",
    "enc = OneHotEncoder(categorical_features=cate_colms)\n",
    "df = pd.DataFrame(enc.fit_transform(df.as_matrix()).toarray())\n",
    "print enc.feature_indices_ \n",
    "\n",
    "# Change column names\n",
    "columns = []\n",
    "idx = 0\n",
    "for column in df:\n",
    "    columns.append(\"attr_%d\" % idx)\n",
    "    idx += 1\n",
    "df.columns = columns\n",
    "print df.head()"
   ]
  },
  {
   "cell_type": "code",
   "execution_count": 427,
   "metadata": {
    "collapsed": false,
    "scrolled": false
   },
   "outputs": [
    {
     "name": "stdout",
     "output_type": "stream",
     "text": [
      "regression:  attr_46 ~ attr_0 + attr_1 + attr_2 + attr_3 + attr_4 + attr_5 + attr_6 + attr_7 + attr_8 + attr_9 + attr_10 + attr_11 + attr_12 + attr_13 + attr_14 + attr_15 + attr_16 + attr_17 + attr_18 + attr_19 + attr_20 + attr_21 + attr_22 + attr_23 + attr_24 + attr_25 + attr_26 + attr_27 + attr_28 + attr_29 + attr_30 + attr_31 + attr_32 + attr_33 + attr_34 + attr_35 + attr_36 + attr_37 + attr_38 + attr_39 + attr_40 + attr_41 + attr_42 + attr_43 + attr_44 + attr_45\n",
      "n:  653\n",
      "----------\n",
      "intercept:  -0.0733849388776 [-0.428369567846708, 0.08749473001212058]\n",
      "attr_0:  -0.0228006414276 [-0.34287566200557573, 0.1980312298555822]\n",
      "attr_1:  -0.0505842974501 [-0.33801231780598795, 0.20125116310566388]\n",
      "attr_2:  -0.1155397916 [-0.296610740881851, 0.15993821298805816]\n",
      "attr_3:  -0.472910874128 [-0.6229105237780683, -0.1406704891354616]\n",
      "attr_4:  0.51506572685 [0.0, 0.7450611236953029]\n",
      "attr_5:  -0.1155397916 [-0.296610740881851, 0.15993821298805816]\n",
      "attr_6:  -0.472910874128 [-0.6229105237780683, -0.1406704891354616]\n",
      "attr_7:  0.51506572685 [0.0, 0.7450611236953029]\n",
      "attr_8:  0.323230077747 [-0.23713908716606183, 1.0516488789777478]\n",
      "attr_9:  0.0152337636504 [-0.6201918181098517, 0.5851005696209053]\n",
      "attr_10:  -0.262891302912 [-0.8551108312472395, 0.5315359243742136]\n",
      "attr_11:  0.0128690665427 [-0.06711930949400605, 0.12166132694991452]\n",
      "attr_12:  0.846240678494 [0.15062621535276455, 1.2392835389147572]\n",
      "attr_13:  -0.561328944638 [-1.338710408312088, -0.0022840400182293627]\n",
      "attr_14:  -0.0618866500236 [-0.382596194860335, 0.6265304569336365]\n",
      "attr_15:  0.111464858818 [-0.467834922561248, 0.89267455436152]\n",
      "attr_16:  1.43330348659 [0.44544406245334006, 2.2849867092958043]\n",
      "attr_17:  -0.636921546915 [-1.2024355964994289, -0.06824269506718432]\n",
      "attr_18:  0.223316016759 [-0.620282349668161, 1.1522223002655823]\n",
      "attr_19:  -0.284687580565 [-0.8636828352331651, 0.13071788019909417]\n",
      "attr_20:  -0.949297864967 [-1.3050507884975389, -0.3417105432529237]\n",
      "attr_21:  -0.282028997454 [-0.657955648091648, 0.10693105012719246]\n",
      "attr_22:  -0.0637569662507 [-0.5022774723707402, 0.4915568421511214]\n",
      "attr_23:  0.224596506421 [-0.10050506957027297, 0.7791432887509715]\n",
      "attr_24:  -0.173026867374 [-0.8446729209262749, 0.5298787027796668]\n",
      "attr_25:  -0.405515988744 [-1.170606159377519, -0.0868037374977992]\n",
      "attr_26:  0.303446219154 [-0.4317643325052154, 1.2515291676650864]\n",
      "attr_27:  -0.523424446234 [-1.2916795968484207, 0.20392338863030307]\n",
      "attr_28:  -0.0336031251446 [-0.0823133035579071, 1.1291772339712294e-10]\n",
      "attr_29:  0.0505981399853 [-0.261058699094209, 0.27490099547363356]\n",
      "attr_30:  0.54730158931 [-0.13550540902656832, 1.5943270246004388]\n",
      "attr_31:  1.66559573879 [1.336996961143939, 2.0524193302862352]\n",
      "attr_32:  -1.73898067767 [-2.2639839076827455, -1.5395284593876282]\n",
      "attr_33:  0.187987749748 [-0.2972115698901595, 0.3903960536789071]\n",
      "attr_34:  -0.261372688626 [-0.6152678713288637, 0.05029001702011447]\n",
      "attr_35:  0.0282521854984 [-0.2784179262217762, 0.2964119200122641]\n",
      "attr_36:  -0.101637124376 [-0.49596906297618115, 0.16533513158694196]\n",
      "attr_37:  -0.122223080974 [-0.6555636989663256, 0.1071113702058782]\n",
      "attr_38:  0.100692001659 [-0.3980772967445358, 0.5766839220051985]\n",
      "attr_39:  -0.0518538595623 [-0.12410520016146917, 1.220988571093889e-10]\n",
      "attr_40:  0.000608287695447 [-0.02106162160837987, 0.02251404759557303]\n",
      "attr_41:  -0.026607855161 [-0.0769294652854586, 0.0364399714698542]\n",
      "attr_42:  0.0929127297169 [-0.006204260848727214, 0.21189231603869066]\n",
      "attr_43:  0.116469034282 [0.021551876949411145, 0.28377404510046833]\n",
      "attr_44:  -0.00201811643005 [-0.003344810755661623, -0.0001285033939883725]\n",
      "attr_45:  0.000544230297416 [0.0003396988280904058, 0.0010700877266915842]\n",
      "Accuracy: 11.485452%\n"
     ]
    }
   ],
   "source": [
    "formula = \"attr_46 ~ attr_0\"\n",
    "for column in df.columns[1:-1]:\n",
    "    formula += \" + \" + column\n",
    "result = bootstrap_logm(formula, data=df)\n",
    "describe_bootstrap_fit(result)"
   ]
  },
  {
   "cell_type": "code",
   "execution_count": 428,
   "metadata": {
    "collapsed": false
   },
   "outputs": [
    {
     "name": "stdout",
     "output_type": "stream",
     "text": [
      "regression:  attr_46~attr_8+attr_9+attr_10+attr_11+attr_12+attr_13+attr_14+attr_15+attr_16+attr_17+attr_18+attr_19+attr_20+attr_21+attr_22+attr_23+attr_24+attr_25+attr_26+attr_27+attr_28+attr_29+attr_30+attr_31+attr_32+attr_33+attr_34+attr_42+attr_43+attr_45\n",
      "n:  653\n",
      "----------\n",
      "intercept:  -0.537412688822 [-0.7304806731176409, -0.3639096388451804]\n",
      "attr_8:  0.284831829482 [-0.2569080075331037, 0.8105989010060068]\n",
      "attr_9:  0.0893253991456 [-0.33344667881304946, 0.7080616232884458]\n",
      "attr_10:  -0.169944043426 [-0.7395349484885905, 0.30838021098467683]\n",
      "attr_11:  0.000854598526272 [-0.06722935190088383, 0.07649190405237374]\n",
      "attr_12:  0.530476948341 [0.13842864084467457, 1.4362804711160275]\n",
      "attr_13:  -0.437577534755 [-1.083811104965826, 0.056060331945530006]\n",
      "attr_14:  -0.00955185097957 [-0.5964591060757698, 0.36833953840245937]\n",
      "attr_15:  0.0365904009176 [-0.3111127378716255, 0.6111950604037335]\n",
      "attr_16:  0.620469161056 [0.09005626328977474, 1.5934810541372506]\n",
      "attr_17:  -0.500434962582 [-1.131925604037908, -0.10210946352038419]\n",
      "attr_18:  0.0488646929588 [-0.39776447035977663, 0.6394497621677808]\n",
      "attr_19:  -0.319836536566 [-0.9662827486740688, 0.10963080189684285]\n",
      "attr_20:  -0.635808177394 [-1.121879417019848, -0.3204548558520957]\n",
      "attr_21:  -0.0756726135466 [-0.5281534728029992, 0.11528484387479407]\n",
      "attr_22:  -0.050338683603 [-0.4077374227170266, 0.2999701368210549]\n",
      "attr_23:  0.19815892963 [-0.310014614173041, 0.5885431422801501]\n",
      "attr_24:  -0.292441240721 [-0.7517818681551656, 0.20439511785898312]\n",
      "attr_25:  -0.497405747674 [-0.8595859366406828, -0.08596507276111692]\n",
      "attr_26:  0.0917083109177 [-0.3166220309795345, 0.5544121191511875]\n",
      "attr_27:  -0.132091178015 [-0.8182011425319189, 0.06671927608738393]\n",
      "attr_28:  -0.0106143191592 [-0.035689220006763236, 9.623703260784073e-10]\n",
      "attr_29:  0.024801136666 [-0.1706070352896663, 0.2816211927134187]\n",
      "attr_30:  0.130810103137 [-0.0889075412728127, 0.8962191757841663]\n",
      "attr_31:  1.28692073583 [1.1101169709447578, 1.680057923190593]\n",
      "attr_32:  -1.82433342465 [-2.3053091256608074, -1.6728716865212667]\n",
      "attr_33:  -0.0313076398282 [-0.3105848642917274, 0.27914610436064424]\n",
      "attr_34:  -0.506105048994 [-0.8072196621803132, -0.24671318360603595]\n",
      "attr_42:  0.0865013216129 [0.004298552511810497, 0.19684125236400762]\n",
      "attr_43:  0.122081336771 [0.03168276887083692, 0.24865839894391673]\n",
      "attr_45:  0.000498622679228 [0.000308288046189554, 0.0008014382957206795]\n",
      "Accuracy: 13.169985%\n"
     ]
    }
   ],
   "source": [
    "original_interesting_attributes = [5, 6, 8, 9, 7, 10, 14]\n",
    "original_categorial_attributes = [0, 3, 4, 5, 6, 8, 9, 11, 12]\n",
    "other_attributes = list(set([i for i in xrange(15)]) - set(original_categorial_attributes))\n",
    "start_index = [0, 2, 5, 8, 22, 31, 33, 35, 37, 40]\n",
    "formula = \"attr_46~\"\n",
    "for attr in original_interesting_attributes:\n",
    "    if attr in original_categorial_attributes:\n",
    "        idx = original_categorial_attributes.index(attr)\n",
    "        start_idx = start_index[idx]\n",
    "        end_idx = start_index[idx + 1]\n",
    "        for idx in xrange(start_idx, end_idx):\n",
    "            formula += \"attr_%d+\" % idx\n",
    "    else:\n",
    "        idx = other_attributes.index(attr)\n",
    "        formula += \"attr_%d+\" % (start_index[-1] + idx)\n",
    "if formula[-1] == '+':\n",
    "    formula = formula[:-1]\n",
    "result = bootstrap_logm(formula, data=df)\n",
    "describe_bootstrap_fit(result)"
   ]
  },
  {
   "cell_type": "markdown",
   "metadata": {},
   "source": [
    "Unfortuantely, not having column names means we can't compare our expectations of the signs of the betas to the actual signs we got. This makes it difficult to adjust my guess of attributes that will be useful for the model. As a result, I have to rely on the 'interesting' attributes I identified during the EDA phase of the project. \n",
    "\n",
    "With that being said, my handpicked attributes outperformed the model that used every attribute by 2%.\n",
    "\n",
    "Another possible combination of attributes is to remove the attributes with 0 in the confidence interval. This assumes the worst case that attributes with 0 in their confidence intervals aren't needed in the model. Doing this gets me:"
   ]
  },
  {
   "cell_type": "code",
   "execution_count": 429,
   "metadata": {
    "collapsed": false,
    "scrolled": true
   },
   "outputs": [
    {
     "name": "stdout",
     "output_type": "stream",
     "text": [
      "regression:  attr_46~attr_12+attr_16+attr_17+attr_20+attr_31+attr_32+attr_34+attr_43+attr_45\n",
      "n:  653\n",
      "----------\n",
      "intercept:  -0.513824864505 [-0.789499429064038, -0.2571592225687961]\n",
      "attr_12:  0.673033808355 [0.04766302036353323, 1.3742605008921172]\n",
      "attr_16:  0.77645829711 [0.22666043421397689, 1.374514879778806]\n",
      "attr_17:  -0.544881074664 [-1.1033699665594046, 0.12345661621290921]\n",
      "attr_20:  -0.968104600855 [-1.5325413109427752, -0.3475136385936937]\n",
      "attr_31:  1.44533244708 [1.217322829835238, 1.6872491220544377]\n",
      "attr_32:  -1.95915731159 [-2.2355233506475116, -1.6744740601638677]\n",
      "attr_34:  -0.528643379981 [-0.9942185273672327, -0.042240332593528065]\n",
      "attr_43:  0.125512571409 [0.058885814991525225, 0.23514733764481227]\n",
      "attr_45:  0.000503798766664 [0.0002582363977940553, 0.0007752725213329627]\n",
      "Accuracy: 13.016845%\n"
     ]
    }
   ],
   "source": [
    "formula = \"attr_46~attr_12+attr_16+attr_17+attr_20+attr_31+attr_32+attr_34+attr_43+attr_45\"\n",
    "result = bootstrap_logm(formula, data=df)\n",
    "describe_bootstrap_fit(result)"
   ]
  },
  {
   "cell_type": "markdown",
   "metadata": {},
   "source": [
    "This is still an improvement over using all the attributes but doesn't perform as well as my handpicked attributes. Next we can try a model that just uses non-categorical attributes. This gets us:"
   ]
  },
  {
   "cell_type": "code",
   "execution_count": 430,
   "metadata": {
    "collapsed": false
   },
   "outputs": [
    {
     "name": "stdout",
     "output_type": "stream",
     "text": [
      "regression:  attr_46~attr_40+attr_41+attr_42+attr_43+attr_44+attr_45\n",
      "n:  653\n",
      "----------\n",
      "intercept:  -1.34063685026 [-1.8318780270017578, -0.36975491117583104]\n",
      "attr_40:  -0.00348751728413 [-0.02826492431662158, 0.01212729161458533]\n",
      "attr_41:  0.030061133289 [-0.01690148843706598, 0.07166482412289174]\n",
      "attr_42:  0.233548688129 [0.17714311379021558, 0.35399254313797757]\n",
      "attr_43:  0.30425255307 [0.23138693298143514, 0.47378376354692675]\n",
      "attr_44:  -0.000772755692711 [-0.001984076181845663, 0.0004330787968471321]\n",
      "attr_45:  0.000491378645501 [0.00033732329555863523, 0.0008718114166584015]\n",
      "Accuracy: 23.124043%\n"
     ]
    }
   ],
   "source": [
    "formula = \"attr_46~attr_40+attr_41+attr_42+attr_43+attr_44+attr_45\"\n",
    "result = bootstrap_logm(formula, data=df)\n",
    "describe_bootstrap_fit(result)"
   ]
  },
  {
   "cell_type": "markdown",
   "metadata": {},
   "source": [
    "Even though this was a shot in the dark, this produced the best performing model so far. In a forward-stepwise feature selection manner, let's add one of each categorical feature to this model and grade performance:"
   ]
  },
  {
   "cell_type": "code",
   "execution_count": 431,
   "metadata": {
    "collapsed": false,
    "scrolled": false
   },
   "outputs": [
    {
     "name": "stdout",
     "output_type": "stream",
     "text": [
      "regression:  attr_46~attr_40+attr_41+attr_42+attr_43+attr_44+attr_45+attr_0+attr_1\n",
      "n:  653\n",
      "----------\n",
      "intercept:  -0.772510190323 [-1.318782429648778, -0.42844357304590375]\n",
      "attr_40:  -0.00814839618472 [-0.02510779469692786, 0.012368225327546466]\n",
      "attr_41:  0.0260902846021 [-0.013779191168229794, 0.06151448981686111]\n",
      "attr_42:  0.247058238428 [0.14917599717459293, 0.35765747775613266]\n",
      "attr_43:  0.309813030699 [0.22187846957767926, 0.4469455562738295]\n",
      "attr_44:  -0.000891716725267 [-0.0022702560884483207, 0.0005714471847388591]\n",
      "attr_45:  0.000489581804232 [0.0003259084974009775, 0.0008461640859424162]\n",
      "attr_0:  -0.434080724481 [-0.7545744821634317, -0.164098151471274]\n",
      "attr_1:  -0.338429465842 [-0.6745491118842142, -0.14451222893009588]\n",
      "Accuracy: 22.970904%\n",
      "\n",
      "\n",
      "regression:  attr_46~attr_40+attr_41+attr_42+attr_43+attr_44+attr_45+attr_2+attr_3+attr_4\n",
      "n:  653\n",
      "----------\n",
      "intercept:  -0.828990007171 [-1.365759522899244, -0.38064413417528586]\n",
      "attr_40:  -0.00806287425359 [-0.027979825348608475, 0.010214419881796975]\n",
      "attr_41:  0.0241414035133 [-0.017324777518988314, 0.0642037824139043]\n",
      "attr_42:  0.227945402742 [0.15081495454355548, 0.34993181388649575]\n",
      "attr_43:  0.30928080924 [0.19737806736397567, 0.45186978207573325]\n",
      "attr_44:  -0.000972711456499 [-0.0026320855192273817, 0.00012074641269205319]\n",
      "attr_45:  0.000473495170816 [0.00031554526734002824, 0.0008919190892896767]\n",
      "attr_2:  -0.157260449702 [-0.4647230416393791, 0.05828762722385665]\n",
      "attr_3:  -0.689868345293 [-1.039162335964199, -0.35825800627126836]\n",
      "attr_4:  0.0181387878241 [0.0, 0.0832811894795373]\n",
      "Accuracy: 22.664625%\n",
      "\n",
      "\n",
      "regression:  attr_46~attr_40+attr_41+attr_42+attr_43+attr_44+attr_45+attr_5+attr_6+attr_7\n",
      "n:  653\n",
      "----------\n",
      "intercept:  -0.828990007171 [-1.3617168794716283, -0.3904367951715193]\n",
      "attr_40:  -0.00806287425359 [-0.0290712374182249, 0.010891842510761716]\n",
      "attr_41:  0.0241414035133 [-0.01383659060780145, 0.07077802140855317]\n",
      "attr_42:  0.227945402742 [0.16137269569714546, 0.3856029777974673]\n",
      "attr_43:  0.30928080924 [0.20272053224975445, 0.42377536173183217]\n",
      "attr_44:  -0.000972711456499 [-0.002525843614251843, 0.000379972272077737]\n",
      "attr_45:  0.000473495170816 [0.0003448598920323973, 0.0008513138675339681]\n",
      "attr_5:  -0.157260449702 [-0.4833082988914107, 0.08268155979998065]\n",
      "attr_6:  -0.689868345293 [-1.1014546295704237, -0.41156752975995536]\n",
      "attr_7:  0.0181387878241 [0.0, 0.13462970245096717]\n",
      "Accuracy: 22.664625%\n",
      "\n",
      "\n",
      "regression:  attr_46~attr_40+attr_41+attr_42+attr_43+attr_44+attr_45+attr_8+attr_9+attr_10+attr_11+attr_12+attr_13+attr_14+attr_15+attr_16+attr_17+attr_18+attr_19+attr_20+attr_21\n",
      "n:  653\n",
      "----------\n",
      "intercept:  -1.45251502602 [-1.970763933033898, -0.8364987168539229]\n",
      "attr_40:  0.0108079297127 [-0.009528140435964465, 0.026147823770349743]\n",
      "attr_41:  0.0196538735866 [-0.021096944932415436, 0.059114582606065794]\n",
      "attr_42:  0.200338509997 [0.11844459087631223, 0.2968428633147525]\n",
      "attr_43:  0.30169256592 [0.19843067588802055, 0.41772365776981535]\n",
      "attr_44:  -0.00151516048978 [-0.0030304926971762404, -0.000444370804269588]\n",
      "attr_45:  0.000472260367599 [0.0003060291499939747, 0.0008885351244101128]\n",
      "attr_8:  0.293114722034 [-0.2942332435903511, 0.8738049413958318]\n",
      "attr_9:  0.622914019955 [0.14575049622368583, 1.183173724717201]\n",
      "attr_10:  -0.222393192983 [-0.8611785708992155, 0.5563822724560521]\n",
      "attr_11:  -0.0508121347274 [-0.20536021494012002, 0.0533143295521981]\n",
      "attr_12:  0.681641151079 [0.17449573101111793, 1.3783409346047586]\n",
      "attr_13:  -0.697573844732 [-1.2856319093444943, -0.05559380697959748]\n",
      "attr_14:  -0.0850510630436 [-0.5484014924331533, 0.26732102585579187]\n",
      "attr_15:  -0.475663509694 [-0.9955079478438629, 0.04839582643497106]\n",
      "attr_16:  1.41856616379 [0.8380521475961955, 2.186705599926286]\n",
      "attr_17:  -0.919257945691 [-1.6582575992081368, -0.3158067419025675]\n",
      "attr_18:  -0.0082579028228 [-0.8949424507875163, 0.7439437289536908]\n",
      "attr_19:  -0.132893523837 [-0.6515163626071011, 0.4493836409131353]\n",
      "attr_20:  -1.7059709799 [-2.3604002452173605, -1.0591681617000255]\n",
      "attr_21:  -0.170876985444 [-0.5938194762512135, 0.2776297428759233]\n",
      "Accuracy: 18.683002%\n",
      "\n",
      "\n",
      "regression:  attr_46~attr_40+attr_41+attr_42+attr_43+attr_44+attr_45+attr_22+attr_23+attr_24+attr_25+attr_26+attr_27+attr_28+attr_29+attr_30\n",
      "n:  653\n",
      "----------\n",
      "intercept:  -1.55315609773 [-2.029696693733338, -0.7146939921748061]\n",
      "attr_40:  0.00621325682105 [-0.016753949626848022, 0.021742855698848616]\n",
      "attr_41:  0.0267272123353 [-0.017267349595088827, 0.06706481495778238]\n",
      "attr_42:  0.20135085829 [0.11617259896798011, 0.30621800250888653]\n",
      "attr_43:  0.319681689956 [0.18923845089108637, 0.4541969722263707]\n",
      "attr_44:  -0.00112209949501 [-0.002809032895621888, 8.824679381688527e-05]\n",
      "attr_45:  0.000479925989966 [0.00033069952395935697, 0.0007464349615946774]\n",
      "attr_22:  0.0738118630256 [-0.28949429718752806, 0.4091351634453898]\n",
      "attr_23:  0.551524013314 [0.045620254832487966, 1.0164264795051197]\n",
      "attr_24:  -0.166529139629 [-0.9136177697112874, 0.5014051272349007]\n",
      "attr_25:  -1.70491471471 [-2.20754334053889, -0.6631219976520211]\n",
      "attr_26:  0.134405584886 [-0.4331525686547274, 0.9642011858639528]\n",
      "attr_27:  -0.346876835122 [-1.2471882537192056, 0.10414769648553587]\n",
      "attr_28:  -0.0899240506003 [-0.3700414610800713, 1.2447054278844742e-10]\n",
      "attr_29:  -0.0646776550154 [-0.6421350235646255, 0.4135119324985064]\n",
      "attr_30:  0.0600248361217 [-0.41295429939555817, 0.9884243740304968]\n",
      "Accuracy: 21.592649%\n",
      "\n",
      "\n",
      "regression:  attr_46~attr_40+attr_41+attr_42+attr_43+attr_44+attr_45+attr_31+attr_32\n",
      "n:  653\n",
      "----------\n",
      "intercept:  -0.446162407444 [-0.9692783672865766, -0.10526207877828274]\n",
      "attr_40:  -0.0155813929619 [-0.03399301015774389, 0.004886400262170029]\n",
      "attr_41:  -0.0172437565576 [-0.06950729453083253, 0.021801096017454905]\n",
      "attr_42:  0.133081939346 [0.04022916751596099, 0.2530054618532116]\n",
      "attr_43:  0.170041823559 [0.10162998988900995, 0.3083737369821809]\n",
      "attr_44:  -0.0012154237074 [-0.00295590093441325, 0.0004165875366212267]\n",
      "attr_45:  0.00053121223868 [0.0003572478503109243, 0.0007974578710341376]\n",
      "attr_31:  1.52539800547 [1.135130287894588, 1.9212917917249288]\n",
      "attr_32:  -1.97156041292 [-2.357011148733422, -1.6116337733041273]\n",
      "Accuracy: 13.629403%\n",
      "\n",
      "\n",
      "regression:  attr_46~attr_40+attr_41+attr_42+attr_43+attr_44+attr_45+attr_33+attr_34\n",
      "n:  653\n",
      "----------\n",
      "intercept:  -0.804967461597 [-1.190433483909434, -0.3701673160046821]\n",
      "attr_40:  -0.000410180820272 [-0.019305331823296898, 0.016558977948194362]\n",
      "attr_41:  0.0283545470047 [-0.011216070028507396, 0.07380710251284871]\n",
      "attr_42:  0.238342158874 [0.1617047652082747, 0.3489747384098134]\n",
      "attr_43:  0.194655810116 [0.10823678176400131, 0.3211561656594]\n",
      "attr_44:  -0.000814426328185 [-0.0018797166113388975, 6.786842155080298e-05]\n",
      "attr_45:  0.00050353167227 [0.0003099227256055288, 0.0008349278143180383]\n",
      "attr_33:  0.0411476510258 [-0.28337955057713277, 0.38543697028962814]\n",
      "attr_34:  -0.846115112623 [-1.1150501639351424, -0.46183701710138303]\n",
      "Accuracy: 20.826953%\n",
      "\n",
      "\n",
      "regression:  attr_46~attr_40+attr_41+attr_42+attr_43+attr_44+attr_45+attr_35+attr_36\n",
      "n:  653\n",
      "----------\n",
      "intercept:  -0.920359194515 [-1.2858508231034527, -0.40914053091534386]\n",
      "attr_40:  -0.0034465877983 [-0.02646926296942524, 0.011591329767217683]\n",
      "attr_41:  0.029750266577 [-0.010459489951975532, 0.06306272398662544]\n",
      "attr_42:  0.240507846299 [0.1612839763514054, 0.3542250769785741]\n",
      "attr_43:  0.31548871435 [0.22972846412967893, 0.4518614826673126]\n",
      "attr_44:  -0.000729061009836 [-0.002465070390128019, 0.0003283087881324179]\n",
      "attr_45:  0.000491231794798 [0.00031084762060307127, 0.0010382875459876316]\n",
      "attr_35:  -0.435613045199 [-0.6900735719079328, -0.1558487632261572]\n",
      "attr_36:  -0.484746149316 [-0.7474659917807152, -0.0532414129585613]\n",
      "Accuracy: 23.124043%\n",
      "\n",
      "\n",
      "regression:  attr_46~attr_40+attr_41+attr_42+attr_43+attr_44+attr_45+attr_37+attr_38+attr_39\n",
      "n:  653\n",
      "----------\n",
      "intercept:  -0.950825680671 [-1.3005731738107789, -0.3513415814253703]\n",
      "attr_40:  -0.00291527521304 [-0.02484223013444397, 0.00939273289020894]\n",
      "attr_41:  0.0300594715369 [-0.008465000903146643, 0.08088595343565441]\n",
      "attr_42:  0.238711459879 [0.15720178076712837, 0.3501050197970671]\n",
      "attr_43:  0.314946108992 [0.23133874816736016, 0.4236921843514071]\n",
      "attr_44:  -0.000729409527208 [-0.0018404044758666416, 0.0002375225469515443]\n",
      "attr_45:  0.000491083687675 [0.0002741309830963161, 0.00083202676637844]\n",
      "attr_37:  -0.442333422638 [-0.78001725963161, -0.18180678890547058]\n",
      "attr_38:  -0.464153844385 [-0.9430592898798185, 0.14537673025653863]\n",
      "attr_39:  -0.0443384136487 [-0.14476158025089264, 1.6117617515059534e-10]\n",
      "Accuracy: 22.970904%\n",
      "\n",
      "\n"
     ]
    }
   ],
   "source": [
    "formula = \"attr_46~attr_40+attr_41+attr_42+attr_43+attr_44+attr_45\"\n",
    "for idx,attr in enumerate(start_index):\n",
    "    if len(start_index) > idx + 1:\n",
    "        working_formula = formula\n",
    "        for i in xrange(start_index[idx], start_index[idx+1]):\n",
    "            working_formula += \"+attr_%d\" % i\n",
    "        result = bootstrap_logm(working_formula, data=df)\n",
    "        describe_bootstrap_fit(result)\n",
    "        print '\\n'"
   ]
  },
  {
   "cell_type": "markdown",
   "metadata": {},
   "source": [
    "Let's continue this until no addition improves the best performance:"
   ]
  },
  {
   "cell_type": "code",
   "execution_count": 432,
   "metadata": {
    "collapsed": false,
    "scrolled": false
   },
   "outputs": [
    {
     "name": "stdout",
     "output_type": "stream",
     "text": [
      "regression:  attr_46~attr_40+attr_41+attr_42+attr_43+attr_44+attr_45+attr_35+attr_36+attr_0+attr_1\n",
      "n:  653\n",
      "----------\n",
      "intercept:  -0.707701074033 [-0.9876402502159319, -0.36893234826982824]\n",
      "attr_40:  -0.00228570799979 [-0.020814650461589264, 0.016458129085789232]\n",
      "attr_41:  0.0304858604985 [-0.015583579115669384, 0.0698096690814218]\n",
      "attr_42:  0.240797765677 [0.15855808781221103, 0.3386071252614927]\n",
      "attr_43:  0.315221320627 [0.21384703094766083, 0.4095669974121755]\n",
      "attr_44:  -0.000687764193511 [-0.0025913086497971797, 0.00047664088769093504]\n",
      "attr_45:  0.00049402737841 [0.00032679810850552954, 0.0008220126992505955]\n",
      "attr_35:  -0.346834603062 [-0.5761257301251437, -0.16464139551547163]\n",
      "attr_36:  -0.36086647097 [-0.6292650699957747, -0.0830436556184775]\n",
      "attr_0:  -0.394771856788 [-0.6412695263056909, -0.1390935217739881]\n",
      "attr_1:  -0.312929217245 [-0.5431223709256838, 0.022581218706769657]\n",
      "Accuracy: 23.124043%\n",
      "\n",
      "\n",
      "regression:  attr_46~attr_40+attr_41+attr_42+attr_43+attr_44+attr_45+attr_35+attr_36+attr_2+attr_3+attr_4\n",
      "n:  653\n",
      "----------\n",
      "intercept:  -0.744696272419 [-1.0353932899075233, -0.4159563318142385]\n",
      "attr_40:  -0.00340782871616 [-0.024133227791198593, 0.012617132694067688]\n",
      "attr_41:  0.0287292720361 [-0.009071535529495151, 0.07270724888476995]\n",
      "attr_42:  0.242762321761 [0.15425328868822338, 0.360038533434611]\n",
      "attr_43:  0.311081446149 [0.22120278456171097, 0.468202726133766]\n",
      "attr_44:  -0.000776813315211 [-0.0023227949185792955, 0.00047021940026624616]\n",
      "attr_45:  0.000484032005383 [0.00031439704708087013, 0.0008110460687105151]\n",
      "attr_35:  -0.363803537279 [-0.6258659843280004, -0.16778990874784078]\n",
      "attr_36:  -0.38089273514 [-0.5884678521045592, -0.09872464815474319]\n",
      "attr_2:  -0.125752888576 [-0.3870389057815369, 0.20062258383849163]\n",
      "attr_3:  -0.647530615067 [-0.94903381077595, -0.3610914935217876]\n",
      "attr_4:  0.0285872312239 [0.0, 0.13108669308182408]\n",
      "Accuracy: 22.817764%\n",
      "\n",
      "\n",
      "regression:  attr_46~attr_40+attr_41+attr_42+attr_43+attr_44+attr_45+attr_35+attr_36+attr_5+attr_6+attr_7\n",
      "n:  653\n",
      "----------\n",
      "intercept:  -0.744696272419 [-1.0448025662887428, -0.36792019867594655]\n",
      "attr_40:  -0.00340782871616 [-0.022859969590865396, 0.012770719624479773]\n",
      "attr_41:  0.0287292720361 [-0.0089412152912894, 0.06303394781376105]\n",
      "attr_42:  0.242762321761 [0.16666845461121174, 0.34718449830669584]\n",
      "attr_43:  0.311081446149 [0.22405818836013128, 0.4371259337950453]\n",
      "attr_44:  -0.000776813315211 [-0.0023170524895791142, 0.00040907001637846454]\n",
      "attr_45:  0.000484032005383 [0.0002987254740619464, 0.000768193453484576]\n",
      "attr_35:  -0.363803537279 [-0.5570222247008365, -0.11599036788905248]\n",
      "attr_36:  -0.38089273514 [-0.6924261171729835, -0.11666255185983176]\n",
      "attr_5:  -0.125752888576 [-0.3899024795460615, 0.13149298720542452]\n",
      "attr_6:  -0.647530615067 [-0.9779545123687212, -0.3627602391557033]\n",
      "attr_7:  0.0285872312239 [0.0, 0.08238423488595668]\n",
      "Accuracy: 22.817764%\n",
      "\n",
      "\n",
      "regression:  attr_46~attr_40+attr_41+attr_42+attr_43+attr_44+attr_45+attr_35+attr_36+attr_8+attr_9+attr_10+attr_11+attr_12+attr_13+attr_14+attr_15+attr_16+attr_17+attr_18+attr_19+attr_20+attr_21\n",
      "n:  653\n",
      "----------\n",
      "intercept:  -0.962834944693 [-1.490863051882877, -0.6719285993991962]\n",
      "attr_40:  0.0101222575112 [-0.006748193774031412, 0.032155676730779376]\n",
      "attr_41:  0.018545784669 [-0.034876246799925084, 0.06809928936850451]\n",
      "attr_42:  0.197208462836 [0.1217670405958624, 0.3184942898835916]\n",
      "attr_43:  0.299188783533 [0.21477766035477835, 0.42717642737686023]\n",
      "attr_44:  -0.0015961163327 [-0.003086071149594453, -0.000499326858058702]\n",
      "attr_45:  0.000470459027413 [0.00026521673902429063, 0.0008322928130455004]\n",
      "attr_35:  -0.469191266672 [-0.7651706383526758, -0.2186688060473172]\n",
      "attr_36:  -0.493643678021 [-0.8595215342685332, -0.2563882502398698]\n",
      "attr_8:  0.349076672285 [-0.23647192602576167, 0.8145070408978086]\n",
      "attr_9:  0.639325578247 [0.0563846198711236, 1.1153352179484162]\n",
      "attr_10:  -0.183423739056 [-0.8477512990399241, 0.4555139792193898]\n",
      "attr_11:  -0.0588541741082 [-0.18147446083273677, 0.041708724888756]\n",
      "attr_12:  0.786720593744 [0.1574017401227799, 1.4548185419864312]\n",
      "attr_13:  -0.62288429737 [-1.276247591687197, -0.08510824738522202]\n",
      "attr_14:  -0.0534680203331 [-0.46345351814189756, 0.20006463457457133]\n",
      "attr_15:  -0.460891677543 [-1.0082707076014241, 0.16719308563208124]\n",
      "attr_16:  1.51530894036 [0.7287846469447852, 2.0742808841210447]\n",
      "attr_17:  -0.822995083368 [-1.3910880313057237, -0.23149759340191778]\n",
      "attr_18:  -0.00649860439764 [-0.7818872376899445, 0.7951120466384826]\n",
      "attr_19:  -0.0341313871586 [-0.5836763502073155, 0.5222363090980994]\n",
      "attr_20:  -1.81732968868 [-2.2759355028302517, -0.9808039911602082]\n",
      "attr_21:  -0.192790057314 [-0.6164874586689404, 0.32681754003361885]\n",
      "Accuracy: 18.683002%\n",
      "\n",
      "\n",
      "regression:  attr_46~attr_40+attr_41+attr_42+attr_43+attr_44+attr_45+attr_35+attr_36+attr_22+attr_23+attr_24+attr_25+attr_26+attr_27+attr_28+attr_29+attr_30\n",
      "n:  653\n",
      "----------\n",
      "intercept:  -1.02174502947 [-1.5200363712500287, -0.6556736805636442]\n",
      "attr_40:  0.00328060126608 [-0.014020529399050982, 0.027413588286381643]\n",
      "attr_41:  0.02654217502 [-0.022620254606007778, 0.0702400104671948]\n",
      "attr_42:  0.211553075267 [0.12099927538734914, 0.3271650451133271]\n",
      "attr_43:  0.317027215904 [0.22650989543272385, 0.4847928924900391]\n",
      "attr_44:  -0.00105761870744 [-0.0025008550385469965, 0.00038956117368618134]\n",
      "attr_45:  0.000482271048105 [0.00032516663148220355, 0.000777817625206014]\n",
      "attr_35:  -0.469954845884 [-0.7649567350720852, -0.24407697869360312]\n",
      "attr_36:  -0.551790183588 [-0.9007705947729614, -0.23940428391661034]\n",
      "attr_22:  0.131690865592 [-0.21183254211662128, 0.5099913486000891]\n",
      "attr_23:  0.515579237498 [0.19479991959043452, 1.013888781476009]\n",
      "attr_24:  -0.198249789628 [-0.6645507105439181, 0.405939828915339]\n",
      "attr_25:  -1.315938893 [-2.10390630218131, -0.7720944191407668]\n",
      "attr_26:  0.0526813354471 [-0.3882141885851558, 0.9777115066943696]\n",
      "attr_27:  -0.133601838771 [-1.2763229952575732, 0.14170736984584864]\n",
      "attr_28:  -0.0351903429329 [-0.2650709399510739, 1.5915320694378115e-10]\n",
      "attr_29:  -0.0496043919385 [-0.47454345433922274, 0.5907954033333824]\n",
      "attr_30:  0.0108887882561 [-0.2980659354108115, 0.7053136393327804]\n",
      "Accuracy: 21.286371%\n",
      "\n",
      "\n",
      "regression:  attr_46~attr_40+attr_41+attr_42+attr_43+attr_44+attr_45+attr_35+attr_36+attr_31+attr_32\n",
      "n:  653\n",
      "----------\n",
      "intercept:  -0.38542396361 [-0.7276711638677431, -0.12061306289323742]\n",
      "attr_40:  -0.0136978609375 [-0.032263884722603, 0.0026675621831169596]\n",
      "attr_41:  -0.0158298956368 [-0.06087693138188968, 0.03269575702470162]\n",
      "attr_42:  0.137499046141 [0.055016091339801745, 0.24711209276687768]\n",
      "attr_43:  0.172040563628 [0.08519251811480369, 0.27609523685181114]\n",
      "attr_44:  -0.00110481866941 [-0.0032130701965645955, 0.0006209717496784862]\n",
      "attr_45:  0.000531272872419 [0.0003667152056388832, 0.0008369485195403128]\n",
      "attr_35:  -0.112818765857 [-0.3743673118654222, 0.15046778485763754]\n",
      "attr_36:  -0.272605197752 [-0.6478200956653022, -0.0019353863208245573]\n",
      "attr_31:  1.55036092841 [1.2670347789475407, 1.9071334007733847]\n",
      "attr_32:  -1.93578489202 [-2.287915301078547, -1.6050621260594335]\n",
      "Accuracy: 13.782542%\n",
      "\n",
      "\n",
      "regression:  attr_46~attr_40+attr_41+attr_42+attr_43+attr_44+attr_45+attr_35+attr_36+attr_33+attr_34\n",
      "n:  653\n",
      "----------\n",
      "intercept:  -0.625147161885 [-0.9298406103415818, -0.2790354116868693]\n",
      "attr_40:  0.000133112791127 [-0.0217045770704629, 0.017620757387525755]\n",
      "attr_41:  0.0290226224892 [-0.008808635954398514, 0.07050307704087694]\n",
      "attr_42:  0.240453153669 [0.1542650601544393, 0.3933212944979935]\n",
      "attr_43:  0.200806060177 [0.0916666711903949, 0.34322355900146184]\n",
      "attr_44:  -0.000787565769956 [-0.001981573707148657, 0.0004403568094809685]\n",
      "attr_45:  0.000503669747834 [0.00033468358874389533, 0.0008530363527387511]\n",
      "attr_35:  -0.308314962604 [-0.48731845281471453, -0.07037533513325696]\n",
      "attr_36:  -0.316832199282 [-0.558086023567445, -0.03169379176246651]\n",
      "attr_33:  0.112385431261 [-0.1906798742182696, 0.4342097404340274]\n",
      "attr_34:  -0.737532593146 [-1.054075480803183, -0.4215350052760486]\n",
      "Accuracy: 21.133231%\n",
      "\n",
      "\n",
      "regression:  attr_46~attr_40+attr_41+attr_42+attr_43+attr_44+attr_45+attr_35+attr_36\n",
      "n:  653\n",
      "----------\n",
      "intercept:  -0.920359194515 [-1.3012766447586186, -0.3306817513504833]\n",
      "attr_40:  -0.0034465877983 [-0.026374471592305392, 0.010603057896485]\n",
      "attr_41:  0.029750266577 [-0.009937011010329325, 0.06768091660761721]\n",
      "attr_42:  0.240507846299 [0.14999886498523698, 0.3817492868877764]\n",
      "attr_43:  0.31548871435 [0.2176514988267646, 0.4782271454485609]\n",
      "attr_44:  -0.000729061009836 [-0.001985587091488101, 0.0006340240370640393]\n",
      "attr_45:  0.000491231794798 [0.00029869033086750603, 0.0007819241130615955]\n",
      "attr_35:  -0.435613045199 [-0.6641887065884156, -0.07802689659294051]\n",
      "attr_36:  -0.484746149316 [-0.7171757759626364, -0.13195779969145288]\n",
      "Accuracy: 23.124043%\n",
      "\n",
      "\n",
      "regression:  attr_46~attr_40+attr_41+attr_42+attr_43+attr_44+attr_45+attr_35+attr_36+attr_37+attr_38+attr_39\n",
      "n:  653\n",
      "----------\n",
      "intercept:  -0.722819286988 [-1.111651916841918, -0.3122146501253358]\n",
      "attr_40:  -0.00287375314102 [-0.02419126521544892, 0.014134236415250138]\n",
      "attr_41:  0.0299319279352 [-0.0030236016609137065, 0.07200454810850586]\n",
      "attr_42:  0.240551150024 [0.1593498103276796, 0.35018564179974115]\n",
      "attr_43:  0.315061137439 [0.22467693127321003, 0.4612527009259182]\n",
      "attr_44:  -0.000723306201802 [-0.0020650339133022446, 0.0005627097664947966]\n",
      "attr_45:  0.000489945335508 [0.0002907188932053383, 0.0009624912862317026]\n",
      "attr_35:  -0.355057038442 [-0.5698769620309192, -0.07568516093510066]\n",
      "attr_36:  -0.367762248547 [-0.6206759269501692, -0.06318567674345694]\n",
      "attr_37:  -0.311079370343 [-0.7048065025343548, -0.07024252517033894]\n",
      "attr_38:  -0.36792720004 [-0.7799409131742503, 0.07729652215320149]\n",
      "attr_39:  -0.0438127166051 [-0.17547210010603734, 1.4930939701518198e-10]\n",
      "Accuracy: 23.124043%\n",
      "\n",
      "\n"
     ]
    }
   ],
   "source": [
    "formula = \"attr_46~attr_40+attr_41+attr_42+attr_43+attr_44+attr_45+attr_35+attr_36\"\n",
    "for idx,attr in enumerate(start_index):\n",
    "    if len(start_index) > idx + 1:\n",
    "        working_formula = formula\n",
    "        for i in xrange(start_index[idx], start_index[idx+1]):\n",
    "            if i != 35 and i != 36:\n",
    "                working_formula += \"+attr_%d\" % i\n",
    "        result = bootstrap_logm(working_formula, data=df)\n",
    "        describe_bootstrap_fit(result)\n",
    "        print '\\n'"
   ]
  },
  {
   "cell_type": "code",
   "execution_count": 433,
   "metadata": {
    "collapsed": false,
    "scrolled": false
   },
   "outputs": [
    {
     "name": "stdout",
     "output_type": "stream",
     "text": [
      "regression:  attr_46~attr_40+attr_41+attr_42+attr_43+attr_44+attr_45+attr_35+attr_36+attr_37+attr_38+attr_39+attr_0+attr_1\n",
      "n:  653\n",
      "----------\n",
      "intercept:  -0.583148292804 [-0.849968700398382, -0.27523859199637557]\n",
      "attr_40:  -0.00210918265057 [-0.021551346606130468, 0.016127666150767557]\n",
      "attr_41:  0.0303427339704 [-0.011194982145812493, 0.07318592411497517]\n",
      "attr_42:  0.239668172658 [0.14564292445692695, 0.3699778542085361]\n",
      "attr_43:  0.313959157619 [0.24026365328349444, 0.45672214506187236]\n",
      "attr_44:  -0.000682902679523 [-0.0016749792242048169, 0.0007009462382154446]\n",
      "attr_45:  0.00049234252484 [0.00031557749947956756, 0.0009189118451290703]\n",
      "attr_35:  -0.286917461195 [-0.5370620917470699, -0.06165331307575486]\n",
      "attr_36:  -0.296230831609 [-0.5467321544393942, -0.045328784498862955]\n",
      "attr_37:  -0.247691131757 [-0.5950391987692683, 0.0017919068160878037]\n",
      "attr_38:  -0.297354813937 [-0.6907928583211836, 0.0815945597324376]\n",
      "attr_39:  -0.0381023471102 [-0.12466695376904943, 1.4305187474515632e-10]\n",
      "attr_0:  -0.330189475757 [-0.6325987269254296, -0.11494872768351361]\n",
      "attr_1:  -0.252958817048 [-0.4796989498060492, 0.023907843645425336]\n",
      "Accuracy: 23.124043%\n",
      "\n",
      "\n",
      "regression:  attr_46~attr_40+attr_41+attr_42+attr_43+attr_44+attr_45+attr_35+attr_36+attr_37+attr_38+attr_39+attr_0+attr_1+attr_2+attr_3+attr_4\n",
      "n:  653\n",
      "----------\n",
      "intercept:  -0.489810976783 [-0.7959058803022674, -0.29260411105219164]\n",
      "attr_40:  -0.00295438218677 [-0.021325053027975334, 0.012848586311437891]\n",
      "attr_41:  0.0292432340864 [-0.025622850998374556, 0.07781933441947975]\n",
      "attr_42:  0.237802878432 [0.16357223360191087, 0.3525467385585901]\n",
      "attr_43:  0.312168637705 [0.21750260972071245, 0.47924756173814576]\n",
      "attr_44:  -0.000748596045505 [-0.0024837969411114717, 0.00047912524245962633]\n",
      "attr_45:  0.000488838836478 [0.0003114473047105908, 0.0009321451168757418]\n",
      "attr_35:  -0.241876125923 [-0.4583307320639055, -0.02866292837554473]\n",
      "attr_36:  -0.24793485086 [-0.5269571352794011, -0.028063562758245113]\n",
      "attr_37:  -0.29092927525 [-0.5766592839885661, 0.06318764393604365]\n",
      "attr_38:  -0.17934969292 [-0.6748866723515451, 0.13919057409931188]\n",
      "attr_39:  -0.0195320086132 [-0.13437196477931584, 1.5828432448990075e-10]\n",
      "attr_0:  -0.275829841899 [-0.4794933409741616, -0.025420090717920014]\n",
      "attr_1:  -0.213981134884 [-0.481536008628711, -0.01312598497227235]\n",
      "attr_2:  0.015207204056 [-0.20081901315083678, 0.21826890107636987]\n",
      "attr_3:  -0.520074967017 [-0.8769479245386214, -0.3010342829747905]\n",
      "attr_4:  0.0150567861783 [0.0, 0.19202376361176277]\n",
      "Accuracy: 22.817764%\n",
      "\n",
      "\n",
      "regression:  attr_46~attr_40+attr_41+attr_42+attr_43+attr_44+attr_45+attr_35+attr_36+attr_37+attr_38+attr_39+attr_0+attr_1+attr_5+attr_6+attr_7\n",
      "n:  653\n",
      "----------\n",
      "intercept:  -0.489810976783 [-0.733546729122758, -0.2761298360302325]\n",
      "attr_40:  -0.00295438218677 [-0.01938970221362088, 0.014179842875551293]\n",
      "attr_41:  0.0292432340864 [-0.017300217410988812, 0.06868205758263547]\n",
      "attr_42:  0.237802878432 [0.14975656012055968, 0.3370459474604387]\n",
      "attr_43:  0.312168637705 [0.21757026280412808, 0.45397466827831046]\n",
      "attr_44:  -0.000748596045505 [-0.0019969053509752126, 0.000786479451030325]\n",
      "attr_45:  0.000488838836478 [0.00032247685675309634, 0.0007796407604263016]\n",
      "attr_35:  -0.241876125923 [-0.4665506511360634, 0.007377330406772261]\n",
      "attr_36:  -0.24793485086 [-0.4699460981656649, -0.04916255768893748]\n",
      "attr_37:  -0.29092927525 [-0.6260954064261037, 0.06335346720244742]\n",
      "attr_38:  -0.17934969292 [-0.6891599857778978, 0.1631156592330875]\n",
      "attr_39:  -0.0195320086132 [-0.11418028625087401, 1.6154343213274094e-10]\n",
      "attr_0:  -0.275829841899 [-0.5067141447034293, -0.04297220521716014]\n",
      "attr_1:  -0.213981134884 [-0.5010198439034805, -0.011017983726159024]\n",
      "attr_5:  0.015207204056 [-0.28154013871142786, 0.2092969895023378]\n",
      "attr_6:  -0.520074967017 [-0.7985653761090759, -0.2763950103898154]\n",
      "attr_7:  0.0150567861783 [0.0, 0.07929178000754847]\n",
      "Accuracy: 22.817764%\n",
      "\n",
      "\n",
      "regression:  attr_46~attr_40+attr_41+attr_42+attr_43+attr_44+attr_45+attr_35+attr_36+attr_37+attr_38+attr_39+attr_0+attr_1+attr_8+attr_9+attr_10+attr_11+attr_12+attr_13+attr_14+attr_15+attr_16+attr_17+attr_18+attr_19+attr_20+attr_21\n",
      "n:  653\n",
      "----------\n",
      "intercept:  -0.623345323933 [-0.9524448441313378, -0.40244922208728373]\n",
      "attr_40:  0.0123024478789 [-0.006819727741466417, 0.03279017316806965]\n",
      "attr_41:  0.0202759347176 [-0.018841046751516377, 0.05924907604769317]\n",
      "attr_42:  0.195469785902 [0.11086357519882592, 0.3264061052848083]\n",
      "attr_43:  0.300948661789 [0.20924509289858917, 0.4436063655090726]\n",
      "attr_44:  -0.00152930656755 [-0.0032621441996045705, -0.0002605523744204761]\n",
      "attr_45:  0.000478090784476 [0.0003038481953068802, 0.0008014283192825447]\n",
      "attr_35:  -0.312395197993 [-0.6087682878535585, -0.09536074343037274]\n",
      "attr_36:  -0.31095012594 [-0.577599479199398, -0.07431968187989699]\n",
      "attr_37:  -0.315203129407 [-0.7417645749837278, 0.05652919772246692]\n",
      "attr_38:  -0.202742626073 [-0.8319788683663628, 0.21337634145830808]\n",
      "attr_39:  -0.105399568453 [-0.35643792394701135, 1.3007238878457813e-10]\n",
      "attr_0:  -0.353944931968 [-0.6620232182502667, -0.12648944581765278]\n",
      "attr_1:  -0.269400391966 [-0.510287861432665, -0.019219794357292784]\n",
      "attr_8:  0.38135101059 [-0.07601315019706131, 0.7762798672854974]\n",
      "attr_9:  0.638401550783 [0.09809459465800745, 1.1715938484318553]\n",
      "attr_10:  -0.13488882748 [-0.9369306502267643, 0.6332186957965514]\n",
      "attr_11:  -0.0561411806829 [-0.18050491987091802, 0.0365524826526251]\n",
      "attr_12:  0.830598918892 [0.22744410293656614, 1.3495352090141712]\n",
      "attr_13:  -0.579571716296 [-1.263785062944912, 0.03419242248623201]\n",
      "attr_14:  -0.0241711231338 [-0.41475973236694164, 0.39410042268587697]\n",
      "attr_15:  -0.427400148031 [-1.0329889605891682, 0.13456765175325913]\n",
      "attr_16:  1.56116448835 [0.6584888321617604, 2.145278664802082]\n",
      "attr_17:  -0.776815823234 [-1.5785038252841606, -0.22251318125203653]\n",
      "attr_18:  0.0178206063316 [-0.8594446511586904, 0.7926371473435116]\n",
      "attr_19:  -0.0105089853504 [-0.7192379530077896, 0.5000961116221274]\n",
      "attr_20:  -1.83855742377 [-2.3399234131470994, -0.8181068280555118]\n",
      "attr_21:  -0.2046266709 [-0.5579964693115331, 0.2817137737182263]\n",
      "Accuracy: 18.836141%\n",
      "\n",
      "\n",
      "regression:  attr_46~attr_40+attr_41+attr_42+attr_43+attr_44+attr_45+attr_35+attr_36+attr_37+attr_38+attr_39+attr_0+attr_1+attr_22+attr_23+attr_24+attr_25+attr_26+attr_27+attr_28+attr_29+attr_30\n",
      "n:  653\n",
      "----------\n",
      "intercept:  -0.731731509687 [-1.0405506772659352, -0.3365383552547645]\n",
      "attr_40:  0.008028553027 [-0.015530676869535683, 0.03097116437362232]\n",
      "attr_41:  0.0265604698029 [-0.024102523806693733, 0.06687144189217027]\n",
      "attr_42:  0.20558397862 [0.10895131272826504, 0.32527825234908203]\n",
      "attr_43:  0.317693151754 [0.22292185846344412, 0.46947836760460643]\n",
      "attr_44:  -0.00102401237044 [-0.002416921375098374, 0.0004311189299574126]\n",
      "attr_45:  0.000483170915679 [0.00029451797865405385, 0.0008222304042413504]\n",
      "attr_35:  -0.319994989612 [-0.5487791393889269, -0.05708008968495802]\n",
      "attr_36:  -0.411736520075 [-0.7062694280822746, -0.07626845114135601]\n",
      "attr_37:  -0.303889607711 [-0.6521767458379144, 0.0773159938452491]\n",
      "attr_38:  -0.348336607023 [-0.8088460483287454, 0.1384990822206268]\n",
      "attr_39:  -0.0795052949528 [-0.36635428184695795, 1.7783899849744539e-10]\n",
      "attr_0:  -0.437476561577 [-0.72120078534551, -0.12167183060095825]\n",
      "attr_1:  -0.29425494811 [-0.552423672055802, -0.01896417446360693]\n",
      "attr_22:  0.247717498047 [-0.14333282871019243, 0.6062579793815425]\n",
      "attr_23:  0.713646306646 [0.11229962128426438, 1.193751622873458]\n",
      "attr_24:  -0.056305671982 [-0.6674642597811529, 0.42011423413199456]\n",
      "attr_25:  -1.51345559163 [-2.098017691827365, -0.5461589372919573]\n",
      "attr_26:  0.117997202917 [-0.28443634129263007, 0.8191555552498906]\n",
      "attr_27:  -0.239913119626 [-1.1689108894154447, 0.11204812135055718]\n",
      "attr_28:  -0.0621133896495 [-0.23141805276952204, 1.512193708532874e-10]\n",
      "attr_29:  -0.0125704866478 [-0.5261195401992682, 0.5259272169786329]\n",
      "attr_30:  0.0732657422363 [-0.31436007725882364, 0.6124466728169868]\n",
      "Accuracy: 21.439510%\n",
      "\n",
      "\n",
      "regression:  attr_46~attr_40+attr_41+attr_42+attr_43+attr_44+attr_45+attr_35+attr_36+attr_37+attr_38+attr_39+attr_0+attr_1+attr_31+attr_32\n",
      "n:  653\n",
      "----------\n",
      "intercept:  -0.276960113762 [-0.49553712662623683, -0.03389485977670742]\n",
      "attr_40:  -0.0117960536582 [-0.032429779042683037, 0.005009506812620734]\n",
      "attr_41:  -0.0134132276605 [-0.055565573306018586, 0.028262550121546826]\n",
      "attr_42:  0.137551203894 [0.010922388380515239, 0.2649267996803629]\n",
      "attr_43:  0.176482962642 [0.09606915922953288, 0.2829398571016113]\n",
      "attr_44:  -0.00100659468214 [-0.00268488022819739, 0.0005210668252790855]\n",
      "attr_45:  0.000538608918364 [0.0003501614782587984, 0.000838862810062829]\n",
      "attr_35:  -0.0590854822723 [-0.2904560151894774, 0.1990963430973177]\n",
      "attr_36:  -0.21787463149 [-0.49041479438762625, 0.006932684319794691]\n",
      "attr_37:  -0.188486084282 [-0.4934514832619106, 0.2511832407228829]\n",
      "attr_38:  -0.0784149229727 [-0.5420436500733266, 0.28449190194862495]\n",
      "attr_39:  -0.0100591065077 [-0.04451670426940864, 1.5070547792266192e-10]\n",
      "attr_0:  -0.151713920596 [-0.39099350569014935, 0.10627184234044865]\n",
      "attr_1:  -0.125246193166 [-0.3505626424045548, 0.11955121229895141]\n",
      "attr_31:  1.59532391668 [1.3383837355822692, 1.9325104373162123]\n",
      "attr_32:  -1.87228403044 [-2.1869950298539917, -1.6367125137531426]\n",
      "Accuracy: 13.782542%\n",
      "\n",
      "\n",
      "regression:  attr_46~attr_40+attr_41+attr_42+attr_43+attr_44+attr_45+attr_35+attr_36+attr_37+attr_38+attr_39+attr_0+attr_1+attr_33+attr_34\n",
      "n:  653\n",
      "----------\n",
      "intercept:  -0.399209693436 [-0.6028491295318752, -0.22644546035503577]\n",
      "attr_40:  0.000791276515123 [-0.020392050306554152, 0.019037997912779568]\n",
      "attr_41:  0.0303387961231 [-0.013611773121311862, 0.06632433280580274]\n",
      "attr_42:  0.237812267605 [0.15231772734631727, 0.36772826391831814]\n",
      "attr_43:  0.199833107861 [0.10540684727697633, 0.38672968008021213]\n",
      "attr_44:  -0.00076219526466 [-0.0019213023936848848, 0.0006301422044512671]\n",
      "attr_45:  0.000512961415769 [0.00029239262582372, 0.0008533151378767093]\n",
      "attr_35:  -0.198362036822 [-0.4006986962538496, 0.0027390337083530356]\n",
      "attr_36:  -0.200847656614 [-0.43816747845798193, 0.03653688077006923]\n",
      "attr_37:  -0.286346978483 [-0.5736614048662338, -0.030167658060531254]\n",
      "attr_38:  -0.096505307279 [-0.4347786873540268, 0.1847444538120092]\n",
      "attr_39:  -0.016357407674 [-0.07527935867948896, 1.684449344382343e-10]\n",
      "attr_0:  -0.231113164114 [-0.44791879887863373, -0.02203638326213461]\n",
      "attr_1:  -0.168096529322 [-0.38242859108360394, 0.07164641366939181]\n",
      "attr_33:  0.231260892583 [-0.04746644512527812, 0.5407574304743668]\n",
      "attr_34:  -0.630470586019 [-0.9362379855539675, -0.3328649412296989]\n",
      "Accuracy: 21.133231%\n",
      "\n",
      "\n",
      "regression:  attr_46~attr_40+attr_41+attr_42+attr_43+attr_44+attr_45+attr_35+attr_36+attr_37+attr_38+attr_39+attr_0+attr_1\n",
      "n:  653\n",
      "----------\n",
      "intercept:  -0.583148292804 [-0.8412749855365355, -0.2704823121248099]\n",
      "attr_40:  -0.00210918265057 [-0.021653342767632353, 0.016483125038152427]\n",
      "attr_41:  0.0303427339704 [-0.03007552056518846, 0.06969787722648665]\n",
      "attr_42:  0.239668172658 [0.16656821366788885, 0.3422031437861703]\n",
      "attr_43:  0.313959157619 [0.21525634582653813, 0.4304211038786168]\n",
      "attr_44:  -0.000682902679523 [-0.002049492590724091, 0.0006826173718129043]\n",
      "attr_45:  0.00049234252484 [0.00032065093786837944, 0.0008028544549197555]\n",
      "attr_35:  -0.286917461195 [-0.5364961985723133, -0.02791818626173865]\n",
      "attr_36:  -0.296230831609 [-0.5834349690130973, -0.06478144064859173]\n",
      "attr_37:  -0.247691131757 [-0.564059826633657, 0.09350640459038387]\n",
      "attr_38:  -0.297354813937 [-0.7349355666729279, 0.06093092767712975]\n",
      "attr_39:  -0.0381023471102 [-0.11147916048064183, 1.8345479331964595e-10]\n",
      "attr_0:  -0.330189475757 [-0.5951513385676228, -0.10419768614134159]\n",
      "attr_1:  -0.252958817048 [-0.46153671246572825, 0.0687356531720997]\n",
      "Accuracy: 23.124043%\n",
      "\n",
      "\n",
      "regression:  attr_46~attr_40+attr_41+attr_42+attr_43+attr_44+attr_45+attr_35+attr_36+attr_37+attr_38+attr_39+attr_0+attr_1\n",
      "n:  653\n",
      "----------\n",
      "intercept:  -0.583148292804 [-0.8738600865032699, -0.2595932500448978]\n",
      "attr_40:  -0.00210918265057 [-0.026693280461719742, 0.020411977898187165]\n",
      "attr_41:  0.0303427339704 [-0.01918629070045149, 0.06683303407585744]\n",
      "attr_42:  0.239668172658 [0.16357142443149839, 0.35902117608886064]\n",
      "attr_43:  0.313959157619 [0.2147100300746492, 0.4747371630043852]\n",
      "attr_44:  -0.000682902679523 [-0.002222881091523388, 0.0004020956009905268]\n",
      "attr_45:  0.00049234252484 [0.00031693269466942216, 0.0008083320978027188]\n",
      "attr_35:  -0.286917461195 [-0.5288108444723228, -0.04963890658593541]\n",
      "attr_36:  -0.296230831609 [-0.543807253144392, -0.0035359135812998758]\n",
      "attr_37:  -0.247691131757 [-0.5601732449545976, -0.031890271790210305]\n",
      "attr_38:  -0.297354813937 [-0.6786691696783369, 0.06728726390125492]\n",
      "attr_39:  -0.0381023471102 [-0.09752531663372091, 1.5999606312068102e-10]\n",
      "attr_0:  -0.330189475757 [-0.5974671617005214, -0.10751138288305771]\n",
      "attr_1:  -0.252958817048 [-0.5023473069737037, 0.023017544036410424]\n",
      "Accuracy: 23.124043%\n",
      "\n",
      "\n"
     ]
    }
   ],
   "source": [
    "formula = \"attr_46~attr_40+attr_41+attr_42+attr_43+attr_44+attr_45+attr_35+attr_36+attr_37+attr_38+attr_39+attr_0+attr_1\"\n",
    "for idx,attr in enumerate(start_index):\n",
    "    if len(start_index) > idx + 1:\n",
    "        working_formula = formula\n",
    "        for i in xrange(start_index[idx], start_index[idx+1]):\n",
    "            if i not in [35, 36, 37, 38, 39, 0, 1]:\n",
    "                working_formula += \"+attr_%d\" % i\n",
    "        result = bootstrap_logm(working_formula, data=df)\n",
    "        describe_bootstrap_fit(result)\n",
    "        print '\\n'"
   ]
  },
  {
   "cell_type": "markdown",
   "metadata": {},
   "source": [
    "The best performance we settled at was an accuracy of 23.12% with the model: attr_46~attr_40+attr_41+attr_42+attr_43+attr_44+attr_45+attr_35+attr_36+attr_37+attr_38+attr_39+attr_0+attr_1."
   ]
  },
  {
   "cell_type": "markdown",
   "metadata": {},
   "source": [
    "Let's have a look at an interpretation of the result model's coefficients. Below is a rundown of what a unit change for each attribute in the model has on the P(Y = 1). This allows us to interpret each coefficient as, with all things being equal, a unit increase of each attribute affects the P(Y = 1) as such:"
   ]
  },
  {
   "cell_type": "code",
   "execution_count": 434,
   "metadata": {
    "collapsed": false
   },
   "outputs": [
    {
     "name": "stdout",
     "output_type": "stream",
     "text": [
      "Testing a unit increase of attr_40\n",
      "P(y = 1) =  0.586111887256\n",
      "P(y = 1) = after 1 unit increase to attr_40 = 0.585600\n",
      "Difference of  -0.000511748287885\n",
      "\n",
      "\n",
      "Testing a unit increase of attr_41\n",
      "P(y = 1) =  0.586111887256\n",
      "P(y = 1) = after 1 unit increase to attr_41 = 0.593453\n",
      "Difference of  0.0073409401816\n",
      "\n",
      "\n",
      "Testing a unit increase of attr_42\n",
      "P(y = 1) =  0.586111887256\n",
      "P(y = 1) = after 1 unit increase to attr_42 = 0.642810\n",
      "Difference of  0.0566985402864\n",
      "\n",
      "\n",
      "Testing a unit increase of attr_43\n",
      "P(y = 1) =  0.586111887256\n",
      "P(y = 1) = after 1 unit increase to attr_43 = 0.659681\n",
      "Difference of  0.0735693850247\n",
      "\n",
      "\n",
      "Testing a unit increase of attr_44\n",
      "P(y = 1) =  0.586111887256\n",
      "P(y = 1) = after 1 unit increase to attr_44 = 0.585946\n",
      "Difference of  -0.000165671506966\n",
      "\n",
      "\n",
      "Testing a unit increase of attr_45\n",
      "P(y = 1) =  0.586111887256\n",
      "P(y = 1) = after 1 unit increase to attr_45 = 0.586231\n",
      "Difference of  0.000119429718974\n",
      "\n",
      "\n",
      "Testing a unit increase of attr_35\n",
      "P(y = 1) =  0.586111887256\n",
      "P(y = 1) = after 1 unit increase to attr_35 = 0.515245\n",
      "Difference of  -0.0708672222488\n",
      "\n",
      "\n",
      "Testing a unit increase of attr_36\n",
      "P(y = 1) =  0.586111887256\n",
      "P(y = 1) = after 1 unit increase to attr_36 = 0.512918\n",
      "Difference of  -0.0731937139237\n",
      "\n",
      "\n",
      "Testing a unit increase of attr_37\n",
      "P(y = 1) =  0.586111887256\n",
      "P(y = 1) = after 1 unit increase to attr_37 = 0.525035\n",
      "Difference of  -0.0610768659781\n",
      "\n",
      "\n",
      "Testing a unit increase of attr_38\n",
      "P(y = 1) =  0.586111887256\n",
      "P(y = 1) = after 1 unit increase to attr_38 = 0.512637\n",
      "Difference of  -0.0734745259843\n",
      "\n",
      "\n",
      "Testing a unit increase of attr_39\n",
      "P(y = 1) =  0.586111887256\n",
      "P(y = 1) = after 1 unit increase to attr_39 = 0.576840\n",
      "Difference of  -0.00927234949417\n",
      "\n",
      "\n",
      "Testing a unit increase of attr_0\n",
      "P(y = 1) =  0.586111887256\n",
      "P(y = 1) = after 1 unit increase to attr_0 = 0.504431\n",
      "Difference of  -0.0816806154659\n",
      "\n",
      "\n",
      "Testing a unit increase of attr_1\n",
      "P(y = 1) =  0.586111887256\n",
      "P(y = 1) = after 1 unit increase to attr_1 = 0.523721\n",
      "Difference of  -0.0623906559872\n",
      "\n",
      "\n"
     ]
    }
   ],
   "source": [
    "# Interpreting coefficients\n",
    "# Increase attr_40 by 1 unit\n",
    "selected_attrs = [\"attr_40\", \"attr_41\", \"attr_42\", \"attr_43\", \"attr_44\", \"attr_45\", \"attr_35\", \"attr_36\", \"attr_37\", \"attr_38\", \"attr_39\", \"attr_0\", \"attr_1\"]\n",
    "means = df[selected_attrs].mean()\n",
    "for attr in selected_attrs:\n",
    "    print \"Testing a unit increase of %s\" % attr\n",
    "    around_mean = logistic(result[\"coefficients\"][0] + np.dot(result[\"coefficients\"][1:], means))\n",
    "    means[attr] += 1\n",
    "    moved_one_unit = logistic(result[\"coefficients\"][0] + np.dot(result[\"coefficients\"][1:], means))\n",
    "    print \"P(y = 1) = \", around_mean\n",
    "    print \"P(y = 1) = after 1 unit increase to %s = %f\" % (attr, moved_one_unit)\n",
    "    print \"Difference of \", moved_one_unit - around_mean\n",
    "    print \"\\n\"\n",
    "    means[attr] -= 1"
   ]
  },
  {
   "cell_type": "markdown",
   "metadata": {},
   "source": [
    "Next, let's take a look at the learning curves for this model and see where we are on the bias/variance tradeoff and whether more data will help:"
   ]
  },
  {
   "cell_type": "code",
   "execution_count": 435,
   "metadata": {
    "collapsed": false,
    "scrolled": false
   },
   "outputs": [
    {
     "data": {
      "text/plain": [
       "<matplotlib.text.Text at 0x1208a7c50>"
      ]
     },
     "execution_count": 435,
     "metadata": {},
     "output_type": "execute_result"
    },
    {
     "data": {
      "image/png": "[encoded data removed]",
      "text/plain": [
       "<matplotlib.figure.Figure at 0x11e335250>"
      ]
     },
     "metadata": {},
     "output_type": "display_data"
    }
   ],
   "source": [
    "train_mean_mse = []\n",
    "test_mean_mse = []\n",
    "selected_attrs.append(\"attr_46\")\n",
    "instances = df[selected_attrs].as_matrix()\n",
    "data_indices = [i for i in xrange(0, instances.shape[0])]\n",
    "for chunk in xrange(5, 100):\n",
    "    train_chunk_error = []\n",
    "    test_chunk_error = []\n",
    "    for iteration in xrange(1, 100):\n",
    "        # Shuffle the data instances so we get new ones each time\n",
    "        np.random.shuffle(instances)\n",
    "        # Split data into training and test set\n",
    "        train_indices = data_indices[:(int(0.80 * (instances.shape[0] * (chunk / 100))))]\n",
    "        test_indices = data_indices[(int(0.80 * instances.shape[0] * (chunk / 100)) + 1):]\n",
    "        # Train model\n",
    "        model = linear.LogisticRegression(fit_intercept=False).fit(\n",
    "            instances[train_indices, :-1], instances[train_indices, -1])\n",
    "        # Predict\n",
    "        train_predictions = model.predict(instances[train_indices, :-1])\n",
    "        test_predictions = model.predict(instances[test_indices, :-1])\n",
    "        # Calculate MSE\n",
    "        train_mse = sum(train_predictions != instances[train_indices, -1]) / len(train_predictions)\n",
    "        test_mse = sum(test_predictions != instances[test_indices, -1]) / len(test_predictions)\n",
    "        train_chunk_error.append(train_mse)\n",
    "        test_chunk_error.append(test_mse)\n",
    "    train_mean_mse.append(np.mean(train_chunk_error))\n",
    "    test_mean_mse.append(np.mean(test_chunk_error))\n",
    "    \n",
    "figure = plt.figure(figsize=(10,6))\n",
    "axes = figure.add_subplot(1, 1, 1)\n",
    "axes.plot([i for i in xrange(5,100)], train_mean_mse, 'o-', color=\"steelblue\", alpha=0.75)\n",
    "axes.plot([i for i in xrange(5,100)], test_mean_mse, \"o-\", color=\"firebrick\", alpha=0.75)\n",
    "axes.set_title( \"Learning Curves, n = 653\")"
   ]
  },
  {
   "cell_type": "markdown",
   "metadata": {
    "collapsed": true
   },
   "source": [
    "The two curves of the learning curve plot converge after using about 60% of the total availble data so getting more data probably won't help the model. As for the validation curve:"
   ]
  },
  {
   "cell_type": "code",
   "execution_count": 436,
   "metadata": {
    "collapsed": false,
    "scrolled": false
   },
   "outputs": [
    {
     "name": "stdout",
     "output_type": "stream",
     "text": [
      "[0.23659003831417624, 0.22885057471264367]\n",
      "[0.48373288269914344, 0.48499679505856297]\n"
     ]
    },
    {
     "data": {
      "text/plain": [
       "<matplotlib.text.Text at 0x12211bc90>"
      ]
     },
     "execution_count": 436,
     "metadata": {},
     "output_type": "execute_result"
    },
    {
     "data": {
      "image/png": "[encoded data removed]",
      "text/plain": [
       "<matplotlib.figure.Figure at 0x11e84d810>"
      ]
     },
     "metadata": {},
     "output_type": "display_data"
    }
   ],
   "source": [
    "from copy import deepcopy\n",
    "\n",
    "def cross_validate( formula, data, test_size=0.20, change_threshold=False):\n",
    "    training_mses = []\n",
    "    test_mses = []\n",
    "    \n",
    "    n = data.shape[ 0]\n",
    "    test_n = int( np.round( test_size * n, 0))\n",
    "\n",
    "    indices = deepcopy( data.index).values\n",
    "    py_random.shuffle( indices)\n",
    "\n",
    "    test_indices = indices[ 0:test_n]\n",
    "    training_indices = indices[test_n:]\n",
    "\n",
    "    test_set = data.ix[ test_indices]\n",
    "    training_set = data.ix[ training_indices]\n",
    "\n",
    "    y, X = patsy.dmatrices( formula, training_set, return_type=\"matrix\")\n",
    "    y = y.ravel()\n",
    "    if change_threshold:\n",
    "        model = linear.LogisticRegression(fit_intercept=False, class_weight= {0: 0.54, 1: 0.46}).fit( X, y)\n",
    "    else:\n",
    "        model = linear.LogisticRegression(fit_intercept=False).fit( X, y)\n",
    "    y_hat = model.predict( X)\n",
    "\n",
    "    training_mse = sum(y_hat != y) / len(y_hat)\n",
    "\n",
    "    y, X = patsy.dmatrices( formula, test_set, return_type=\"matrix\")\n",
    "    y_hat = model.predict( X)\n",
    "\n",
    "    test_mse = sum(y_hat != y) / len(y_hat)\n",
    "\n",
    "    return training_mse, test_mse\n",
    "\n",
    "def validation_curves( formulas, data, iterations=100, test_size=0.2):\n",
    "    train = []\n",
    "    test = []\n",
    "    for change in [True, False]:\n",
    "        train_chunk = []\n",
    "        test_chunk = []\n",
    "        for i in range( iterations):\n",
    "            train_mse, test_mse = cross_validate( formula, data, test_size=test_size, change_threshold=change)\n",
    "            train_chunk.append( train_mse)\n",
    "            test_chunk.append( test_mse)\n",
    "        train.append( np.mean( train_chunk))\n",
    "        test.append( np.mean( test_chunk))\n",
    "    print train\n",
    "    print test\n",
    "    return train, test\n",
    "\n",
    "train, test = validation_curves([\"attr_46~attr_40+attr_41+attr_42+attr_43+attr_44+attr_45+attr_35+attr_36+attr_37+attr_38+attr_39+attr_0+attr_1\"], df)\n",
    "\n",
    "figure = plt.figure(figsize=(10,6))\n",
    "\n",
    "axes = figure.add_subplot(1, 1, 1)\n",
    "\n",
    "axes.plot( [0, 1], train, 'o-', color=\"steelblue\", alpha=0.75)\n",
    "axes.plot( [0, 1], test, \"o-\", color=\"firebrick\", alpha=0.75)\n",
    "\n",
    "axes.set_title( \"Validation Curves for $x_1^1$ - $x_1^5$\")"
   ]
  },
  {
   "cell_type": "markdown",
   "metadata": {},
   "source": [
    "From the above validation curves where I updated the threshold to 0.54, we can see the tweaking the threshold to closer match the actual distribution of classes very slightly improves generalization error."
   ]
  },
  {
   "cell_type": "code",
   "execution_count": null,
   "metadata": {
    "collapsed": true
   },
   "outputs": [],
   "source": []
  }
 ],
 "metadata": {
  "anaconda-cloud": {},
  "kernelspec": {
   "display_name": "Python [Root]",
   "language": "python",
   "name": "Python [Root]"
  },
  "language_info": {
   "codemirror_mode": {
    "name": "ipython",
    "version": 2
   },
   "file_extension": ".py",
   "mimetype": "text/x-python",
   "name": "python",
   "nbconvert_exporter": "python",
   "pygments_lexer": "ipython2",
   "version": "2.7.12"
  }
 },
 "nbformat": 4,
 "nbformat_minor": 0
}
