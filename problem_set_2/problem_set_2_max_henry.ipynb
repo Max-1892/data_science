{
 "cells": [
  {
   "cell_type": "code",
   "execution_count": 1,
   "metadata": {
    "collapsed": true
   },
   "outputs": [],
   "source": [
    "%matplotlib inline\n",
    "import matplotlib.pyplot as plt\n",
    "import pandas as pd\n",
    "import numpy as np"
   ]
  },
  {
   "cell_type": "code",
   "execution_count": 2,
   "metadata": {
    "collapsed": true
   },
   "outputs": [],
   "source": [
    "from IPython.display import YouTubeVideo, Image"
   ]
  },
  {
   "cell_type": "markdown",
   "metadata": {},
   "source": [
    "# Problem Set 2\n",
    "\n",
    "## Directions\n",
    "\n",
    "1. Show all work/steps/calculations. If it is easier to write it out by hand, do so and submit a scanned PDF in addition to this notebook. Otherwise, generate a Markdown cell for each answer. You should thus submit 2-3 items:\n",
    "    1. the .ipynb version of the notebook.\n",
    "    2. the .html version of the notebook `$ jupyter nbconvert <name of notebook>.ipynb`. This is the copy that will be graded.\n",
    "    3. (optional) PDF of hand written sections.\n",
    "2. **All** work is to be your own. This is not a group project. You may, however, use code from the lectures and labs. Provide citations for any code that is not your own. You may also consult Stackoverflow, etc. This is not by any means \"closed book\" or anything like that. Basically, I need to see if *you* learned the concepts from the Labs.\n",
    "3. Add whatever markdown or code cells you need in each part to explain and calculate your answers. Don't just provide answers but explain them as well. **Explain and interpret your results. Explain your decisions.** Why are you picking this procedure? Why are you defining the ROPE to be that size? What does a \"90% Bayesian Confidence Interval\" of (24.5, 27.8) *mean*?"
   ]
  },
  {
   "cell_type": "markdown",
   "metadata": {
    "collapsed": true
   },
   "source": [
    "## Question 1 - Bad Charts\n",
    "\n",
    "**Part 1.**\n",
    "\n",
    "Based on the principles discussed in the Visualization Module and the Rules presented,\n",
    "\n",
    "1. What are the chief problems with the following chart?\n",
    "2. Present an alternative."
   ]
  },
  {
   "cell_type": "code",
   "execution_count": 3,
   "metadata": {
    "collapsed": false
   },
   "outputs": [
    {
     "data": {
      "text/html": [
       "<img src=\"http://skepchick.org/wp-content/uploads/2015/06/CNN-weed-chart.jpg\"/>"
      ],
      "text/plain": [
       "<IPython.core.display.Image object>"
      ]
     },
     "execution_count": 3,
     "metadata": {},
     "output_type": "execute_result"
    }
   ],
   "source": [
    "Image(url=\"http://skepchick.org/wp-content/uploads/2015/06/CNN-weed-chart.jpg\")"
   ]
  },
  {
   "cell_type": "markdown",
   "metadata": {},
   "source": [
    "1."
   ]
  },
  {
   "cell_type": "markdown",
   "metadata": {
    "collapsed": true
   },
   "source": [
    "<b>What's wrong:</b><br>\n",
    "-Uses shape and 2-d size to convey meaning which breaks the human preattentive processing principles<br>\n",
    "-Basically a pie chart<br>\n",
    "-Principle of similarity makes it hard to tell any difference between the wedges<br>\n",
    "-Even though it looks like a pie chart, the percentages don't add up to 100.<br>\n",
    "\n",
    "<b>Alternative:</b> A simple bar chart would better convey the percentage of each age group that has smoked weed."
   ]
  },
  {
   "cell_type": "code",
   "execution_count": 10,
   "metadata": {
    "collapsed": false
   },
   "outputs": [
    {
     "data": {
      "image/png": "[encoded data removed]",
      "text/plain": [
       "<matplotlib.figure.Figure at 0x111267e90>"
      ]
     },
     "metadata": {},
     "output_type": "display_data"
    }
   ],
   "source": [
    "figure = plt.figure(figsize=(5,5))\n",
    "axes = figure.add_subplot(1, 1, 1)\n",
    "axes.bar([0,1,2,3], [36,49,44,17], 1/1.5, color=\"steelblue\", align=\"center\")\n",
    "axes.set_xticks([0, 1, 2, 3, 4])\n",
    "axes.set_xticklabels([\"18-29 yrs\",\"30-49 yrs\",\"50-64 yrs\",\"65+ yrs\"])\n",
    "axes.set_title( \"Americans Who Have Tried Weed\")\n",
    "axes.set_ylabel(\"Percent\")\n",
    "axes.set_ylim((0,100))\n",
    "axes.xaxis.grid(False)\n",
    "plt.show()"
   ]
  },
  {
   "cell_type": "markdown",
   "metadata": {},
   "source": [
    "**Part 2.**\n",
    "\n",
    "Based on the principles discussed in the Visualization Module and the Rules presented,\n",
    "\n",
    "1. What are the chief problems with the following chart?\n",
    "2. Present an alternative(s). Make whatever assumptions you need to make but explain them."
   ]
  },
  {
   "cell_type": "code",
   "execution_count": 4,
   "metadata": {
    "collapsed": false
   },
   "outputs": [
    {
     "data": {
      "text/html": [
       "<img src=\"http://www.essexrecordofficeblog.co.uk/wp-content/uploads/2015/01/Death-pie-chart.jpg\"/>"
      ],
      "text/plain": [
       "<IPython.core.display.Image object>"
      ]
     },
     "execution_count": 4,
     "metadata": {},
     "output_type": "execute_result"
    }
   ],
   "source": [
    "Image(url=\"http://www.essexrecordofficeblog.co.uk/wp-content/uploads/2015/01/Death-pie-chart.jpg\")"
   ]
  },
  {
   "cell_type": "markdown",
   "metadata": {},
   "source": [
    "1."
   ]
  },
  {
   "cell_type": "markdown",
   "metadata": {
    "collapsed": true
   },
   "source": [
    "<b>What's wrong:</b><br>\n",
    "-Pie chart<br>\n",
    "-Red and green colors are highly saturated and not color blind safe<br>\n",
    "-Principle of similarity makes it hard to determine the size of the wedges compared to others<br>\n",
    "-There's a negative percentage? I'm assuming that's a typo, otherwise the pie chart doesn't add up to 100<br>\n",
    "<b>Alternatives: </b><br>\n",
    "-A simple bar chart of percentages<br>\n",
    "-Nested bar chart<br>"
   ]
  },
  {
   "cell_type": "code",
   "execution_count": 19,
   "metadata": {
    "collapsed": false
   },
   "outputs": [
    {
     "data": {
      "image/png": "[encoded data removed]",
      "text/plain": [
       "<matplotlib.figure.Figure at 0x113873810>"
      ]
     },
     "metadata": {},
     "output_type": "display_data"
    }
   ],
   "source": [
    "figure = plt.figure(figsize=(5,5))\n",
    "axes = figure.add_subplot(1, 1, 1)\n",
    "axes.bar([0,1,2,3,4,5,6,7,8,9], [41,5,13,8,4,6,5,10,8,1], 1/1.5, color=\"steelblue\", align=\"center\")\n",
    "axes.set_xticks([0,1,2,3,4,5,6,7,8,9])\n",
    "axes.set_xticklabels([\"0-9 yrs\",\"10-19 yrs\",\"20-29 yrs\",\"30-39 yrs\",\"40-49 yrs\",\"50-59 yrs\",\"60-69 yrs\",\"70-79 yrs\",\"80-89 yrs\",\"90-99 yrs\"], rotation=90)\n",
    "axes.set_title( \"Age at Death at Hatfield Broad Oak 1827-1832\")\n",
    "axes.set_ylabel(\"Percent\")\n",
    "axes.set_ylim((0,100))\n",
    "axes.xaxis.grid(False)\n",
    "plt.show()"
   ]
  },
  {
   "cell_type": "markdown",
   "metadata": {},
   "source": [
    "## Question 2 - Obtaining and Querying Data\n",
    "\n",
    "In Lab 5, we obtained data from a Wikipedia page. This time we're going to start with a Wikipedia page but obtain and transform the supporting data.\n",
    "\n",
    "1. View [Top 100 Contractors of the U.S. federal government](https://en.wikipedia.org/wiki/Top_100_Contractors_of_the_U.S._federal_government).\n",
    "2. If you follow footnote 6, you can obtain the raw data for FY2013 which is an Excel file.\n",
    "3. The Excel file is divided into tabs. The first tab covers all the Federal government while the remaining tabs are by department. Create a SQLite3 database of the department specific actions (contracts) and dollar amounts. It should have **two** tables. The first \"contractors\" should have an id (as a primary key) and a global_vendor_name (as a varchar). The second should include an id (primary key), department, actions (number of actions), dollars (dollars obligated) and contractor_id as a foreign key to the contractors table. **Submit your database along with any support files (to create the tables) along with this notebook.**\n",
    "4. Reading the Excel file and creating the database should be automated with no cutting and pasting so that you could regenerate the database for a corrected file or for FY2014 (assuming it had the same format). Both `xlrd` and `openpyxl` are included in Anaconda. (Translating the file from .xls to .xlsx *is* permitted but may not be required).\n",
    "5. After generating the database, connect to it and answer the 3 questions."
   ]
  },
  {
   "cell_type": "code",
   "execution_count": 5,
   "metadata": {
    "collapsed": true
   },
   "outputs": [],
   "source": [
    "import sqlite3\n",
    "conn = sqlite3.connect('government_jobs')"
   ]
  },
  {
   "cell_type": "markdown",
   "metadata": {},
   "source": [
    "1. What are the total actions and dollars obligated by department?\n",
    "2. What is Johns Hopkins University's number of actions and dollars by department?\n",
    "3. What is the count of vendors by deparments (how many vendors received contracts from 1 department, 2 departments, etc.). Using the percent of total vendors (instead of raw counts), make a chart of these results using the principles discussed in class. Does this distribution look familiar (does it look like any mathematical distribution you recognize)?"
   ]
  },
  {
   "cell_type": "markdown",
   "metadata": {
    "collapsed": true
   },
   "source": [
    "<b>Query #1</b>"
   ]
  },
  {
   "cell_type": "code",
   "execution_count": 6,
   "metadata": {
    "collapsed": false,
    "scrolled": false
   },
   "outputs": [
    {
     "name": "stdout",
     "output_type": "stream",
     "text": [
      "Department Defense Microelectronics (9771) had 648 actions and $520230343.68 dollars obligated.\n",
      "Department Interior (1400) had 8139 actions and $1919173298.51 dollars obligated.\n",
      "Department Defense Media (97F1) had 554 actions and $90717821.34 dollars obligated.\n",
      "Department Treasury (2000) had 7703 actions and $5983407645.08 dollars obligated.\n",
      "Department Housing & Urban Dev (8600) had 932 actions and $1660496502.56 dollars obligated.\n",
      "Department DoD (9700) had 7295791 actions and $202418786010.23 dollars obligated.\n",
      "Department DCMA (9763) had 5301 actions and $520872121.26 dollars obligated.\n",
      "Department Labor (1600) had 3171 actions and $1757983245.64 dollars obligated.\n",
      "Department Defense Security (97AT) had 781 actions and $60514620.90 dollars obligated.\n",
      "Department Defense Finance (97BZ) had 567 actions and $142426536.64 dollars obligated.\n",
      "Department DARPA (97AE) had 857 actions and $703646965.02 dollars obligated.\n",
      "Department EPA (6800) had 10868 actions and $1166137639.30 dollars obligated.\n",
      "Department Agriculture (1200) had 5485 actions and $2775053961.06 dollars obligated.\n",
      "Department Commerce (1300) had 10739 actions and $1532773591.07 dollars obligated.\n",
      "Department Health & Human Services (7500) had 12430 actions and $13649983449.62 dollars obligated.\n",
      "Department Navy (1700) had 81427 actions and $73344055210.70 dollars obligated.\n",
      "Department NASA (8000) had 14810 actions and $13384228496.25 dollars obligated.\n",
      "Department State (1900) had 10589 actions and $5482343959.10 dollars obligated.\n",
      "Department DODEA (97F2) had 1495 actions and $228897404.66 dollars obligated.\n",
      "Department Justice (1500) had 44910 actions and $4569549075.96 dollars obligated.\n",
      "Department Tricare Management (9760) had 1535 actions and $12088972430.62 dollars obligated.\n",
      "Department US Transcom (9776) had 9334686 actions and $5449307574.59 dollars obligated.\n",
      "Department Washington Headquarters (97F5) had 1500 actions and $1060447458.50 dollars obligated.\n",
      "Department Defense Logistics (97AS) had 283622 actions and $25234311259.47 dollars obligated.\n",
      "Department Defense Commisary (97AZ) had 136283 actions and $1398605883.01 dollars obligated.\n",
      "Department Defense Threat Reduction (9761) had 1342 actions and $913597206.77 dollars obligated.\n",
      "Department Missile Defense (97JC) had 3741 actions and $7609598286.87 dollars obligated.\n",
      "Department Energy (8900) had 4461 actions and $23469312621.20 dollars obligated.\n",
      "Department Veterans Affairs (3600) had 1222373 actions and $10312613623.57 dollars obligated.\n",
      "Department (GSA) 4700 had 39864 actions and $5610835042.08 dollars obligated.\n",
      "Department Army (2100) had 44579 actions and $54339869470.59 dollars obligated.\n",
      "Department Education (9100) had 1673 actions and $2509561305.42 dollars obligated.\n",
      "Department US Special Operations (97ZS) had 5038 actions and $2357637022.55 dollars obligated.\n",
      "Department Air Force (5700) had 41352 actions and $45952829839.63 dollars obligated.\n",
      "Department Defense Information (97AK) had 61968 actions and $4102722862.76 dollars obligated.\n",
      "Department Homeland Security (7000) had 13593 actions and $8335305446.49 dollars obligated.\n",
      "Department Transportation (6900) had 7663 actions and $4290592201.57 dollars obligated.\n"
     ]
    }
   ],
   "source": [
    "cursor = conn.execute('''SELECT department,actions,dollars from ACTIONS''')\n",
    "results = cursor.fetchall()\n",
    "\n",
    "actions_map = {}\n",
    "dollars_map = {}\n",
    "for row in results:\n",
    "    if row[0] in actions_map.keys():\n",
    "        actions_map[row[0]] += row[1]\n",
    "        dollars_map[row[0]] += row[2]\n",
    "    else:\n",
    "        actions_map[row[0]] = row[1]\n",
    "        dollars_map[row[0]] = row[2]\n",
    "        \n",
    "for department in actions_map.keys():\n",
    "    print \"Department %s had %d actions and $%.2f dollars obligated.\" % (department, actions_map[department], dollars_map[department])"
   ]
  },
  {
   "cell_type": "markdown",
   "metadata": {},
   "source": [
    "<b>Query #2</b>"
   ]
  },
  {
   "cell_type": "code",
   "execution_count": 7,
   "metadata": {
    "collapsed": false
   },
   "outputs": [
    {
     "name": "stdout",
     "output_type": "stream",
     "text": [
      "Department DoD (9700) had 1323 actions and $694288428.73 dollars obligated to Johns Hopkins University.\n",
      "Department NASA (8000) had 386 actions and $161738805.37 dollars obligated to Johns Hopkins University.\n",
      "Department Health & Human Services (7500) had 203 actions and $64355268.78 dollars obligated to Johns Hopkins University.\n",
      "Department Navy (1700) had 706 actions and $481078617.82 dollars obligated to Johns Hopkins University.\n",
      "Department DARPA (97AE) had 20 actions and $7151694.00 dollars obligated to Johns Hopkins University.\n",
      "Department Washington Headquarters (97F5) had 7 actions and $1829516.00 dollars obligated to Johns Hopkins University.\n",
      "Department Defense Threat Reduction (9761) had 7 actions and $857789.00 dollars obligated to Johns Hopkins University.\n",
      "Department Missile Defense (97JC) had 244 actions and $154261243.93 dollars obligated to Johns Hopkins University.\n",
      "Department US Special Operations (97ZS) had 15 actions and $2569066.24 dollars obligated to Johns Hopkins University.\n"
     ]
    }
   ],
   "source": [
    "# Find Hopkins contractor ID\n",
    "cursor = conn.execute('''SELECT \"index\" from contractors where contractor == \"JOHNS HOPKINS UNIVERSITY\"''')\n",
    "results = cursor.fetchone()\n",
    "hopkins_id = results[0]\n",
    "\n",
    "cursor = conn.execute('''SELECT department,actions,dollars,contractor_id from ACTIONS''')\n",
    "results = cursor.fetchall()\n",
    "for row in results:\n",
    "    if row[3] == hopkins_id:\n",
    "        print \"Department %s had %d actions and $%.2f dollars obligated to Johns Hopkins University.\" % \\\n",
    "            (row[0], row[1], row[2])"
   ]
  },
  {
   "cell_type": "markdown",
   "metadata": {},
   "source": [
    "<b>Query #3</b>"
   ]
  },
  {
   "cell_type": "code",
   "execution_count": 8,
   "metadata": {
    "collapsed": false
   },
   "outputs": [
    {
     "data": {
      "image/png": "[encoded data removed]",
      "text/plain": [
       "<matplotlib.figure.Figure at 0x11122fbd0>"
      ]
     },
     "metadata": {},
     "output_type": "display_data"
    }
   ],
   "source": [
    "cursor = conn.execute('''SELECT department,contractor_id from ACTIONS''')\n",
    "results = cursor.fetchall()\n",
    "contractor_count = {}\n",
    "for row in results:\n",
    "    if row[1] in contractor_count.keys():\n",
    "        contractor_count[row[1]].append(row[0])\n",
    "    else:\n",
    "        contractor_count[row[1]] = list()\n",
    "        contractor_count[row[1]].append(row[0])\n",
    "\n",
    "contractor_counts = []\n",
    "for contractor in contractor_count.keys():\n",
    "    contractor_counts.append(len(contractor_count[contractor]))\n",
    "    \n",
    "figure = plt.figure(figsize=(10,6))\n",
    "axes = figure.add_subplot(1,1,1)\n",
    "axes.hist(contractor_counts, normed=True, bins=28)\n",
    "axes.set_xticks([i for i in xrange(1,30)])\n",
    "axes.set_title(\"Contractor to Department Count\")\n",
    "axes.set_ylabel(\"Count\")\n",
    "plt.show()"
   ]
  },
  {
   "cell_type": "markdown",
   "metadata": {},
   "source": [
    "This looks a lot like the exponential distribution with $\\lambda$ > 1.5."
   ]
  },
  {
   "cell_type": "code",
   "execution_count": null,
   "metadata": {
    "collapsed": true
   },
   "outputs": [],
   "source": []
  }
 ],
 "metadata": {
  "anaconda-cloud": {},
  "kernelspec": {
   "display_name": "Python [Root]",
   "language": "python",
   "name": "Python [Root]"
  },
  "language_info": {
   "codemirror_mode": {
    "name": "ipython",
    "version": 2
   },
   "file_extension": ".py",
   "mimetype": "text/x-python",
   "name": "python",
   "nbconvert_exporter": "python",
   "pygments_lexer": "ipython2",
   "version": "2.7.12"
  }
 },
 "nbformat": 4,
 "nbformat_minor": 0
}
