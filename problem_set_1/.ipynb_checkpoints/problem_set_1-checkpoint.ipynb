{
 "cells": [
  {
   "cell_type": "code",
   "execution_count": 7,
   "metadata": {
    "collapsed": false
   },
   "outputs": [
    {
     "name": "stdout",
     "output_type": "stream",
     "text": [
      "1474496897\n"
     ]
    }
   ],
   "source": [
    "%matplotlib inline\n",
    "import numpy as np\n",
    "import random as py_random\n",
    "import time\n",
    "import scipy.stats as stats\n",
    "import matplotlib.pyplot as plt\n",
    "import pandas as pd\n",
    "from __future__ import division\n",
    "\n",
    "# Graph settings\n",
    "#sns.set(style=\"darkgrid\")\n",
    "pd.set_option('display.max_rows', 500)\n",
    "pd.set_option('display.max_columns', 500)\n",
    "pd.set_option('display.width', 200)\n",
    "\n",
    "# Store off seed\n",
    "seed = int(time.time())\n",
    "\n",
    "print seed\n",
    "\n",
    "# Set seed\n",
    "np.random.seed(seed)\n",
    "py_random.seed(seed)"
   ]
  },
  {
   "cell_type": "markdown",
   "metadata": {},
   "source": [
    "# Problem Set 1\n",
    "\n",
    "## Directions\n",
    "\n",
    "1. Show all work/steps/calculations. If it is easier to write it out by hand, do so and submit a scanned PDF in addition to this notebook. Otherwise, generate a Markdown cell for each answer. You should thus submit 2-3 items:\n",
    "    1. the .ipynb version of the notebook.\n",
    "    2. the .html version of the notebook `$ jupyter nbconvert <name of notebook>.ipynb`. This is the copy that will be graded.\n",
    "    3. (optional) PDF of hand written sections.\n",
    "2. **All** work is to be your own. This is not a group project. You may, however, use code from the lectures and labs. Provide citations for any code that is not your own. You may also consult Stackoverflow, etc. This is not by any means \"closed book\" or anything like that. Basically, I need to see if *you* learned the concepts from the Labs.\n",
    "**3. Add whatever markdown or code cells you need in each part to explain and calculate your answers. Don't just provide answers but explain them as well.** Why are you picking this procedure? Why are you defining the ROPE to be that size?"
   ]
  },
  {
   "cell_type": "markdown",
   "metadata": {
    "collapsed": true
   },
   "source": [
    "## Question 1 - Apply Bayes Rule\n",
    "\n",
    "**Part 1.** There is a genetic condition that affects 2.3% of the population, C = {yes, no}. Tests can detect the condition with 72.1% accuracy (the \"true positive rate\") but have a false positive rate of 20.3%, T={pos., neg}.\n",
    " \n",
    "For some random member of the population, T=pos, what is the probability P(C=yes| T=pos)? \n",
    " \n",
    "You can work this out by hand, use code, however you feel most comfortable. Part of the challenge is taking the information I've given you above and assigning it to the right \"thing\" in Bayes Rule. What is the prior? What is the likelihood?"
   ]
  },
  {
   "cell_type": "markdown",
   "metadata": {
    "collapsed": true
   },
   "source": [
    "<b>From the problem statement we are given 72.1% test positive given they have the condition ($P(T=pos|C=yes)$), $P(C=yes)$ is 2.3%, $P(C=no)$ is 97.7%, $P(T=pos|C=no)$ is 20.3%.\n",
    "\n",
    "In this case, $P(T=pos|C=yes)$ is the likelihood and $P(C=yes)$ is the prior we care about.\n",
    "\n",
    "Using Bayes Theorem, we get $P(C=yes|T=pos) = (P(T=pos|C=yes) * P(C=yes)) / P(T=pos)$.\n",
    "\n",
    "We can calculate $P(T=pos)$ using total probability. This means $P(T=pos) = P(T=pos|C=no) * P(C=no) + P(T=pos|C=yes) * P(C=yes) = 0.203 * 0.977 + 0.721 * 0.023 = 0.214914$\n",
    "\n",
    "Therefore, $P(C=yes|T=pos) = (P(T=pos|C=yes) * P(C=yes)) / P(T=pos) = (0.721 * .023) / 0.214914 = 0.077$</b>"
   ]
  },
  {
   "cell_type": "markdown",
   "metadata": {},
   "source": [
    "**Part 2.** Assume the true positive rate is 97.3% but the false positive rate is 37.2%. What is\n",
    "the probability P(C=yes | T= pos) now? \n",
    "\n"
   ]
  },
  {
   "cell_type": "markdown",
   "metadata": {
    "collapsed": true
   },
   "source": [
    "<b>This changes $P(T=pos|C=yes)$ to 97.3% and $P(T=pos|C=no)$ to 37.2%. \n",
    "\n",
    "$P(T=pos)$ no becomes $P(T=pos|C=no)∗P(C=no)+P(T=pos|C=yes)∗P(C=yes)=(0.372*0.977)+(0.973*0.023)=0.385823$. This increase makes sense in that the probability that our test will return positive, whether true or false, has increased.\n",
    "\n",
    "Therefore, $P(C=yes|T=pos)=(P(T=pos|C=yes)∗P(C=yes))/P(T=pos)=(0.973*0.023)/0.385823=0.058$</b>"
   ]
  },
  {
   "cell_type": "markdown",
   "metadata": {},
   "source": [
    "## Question 2 - Statistical Inference with the Bayesian Bootstrap\n",
    "\n",
    "For each of the following questions, use the Bayesian Bootstrap approach to Statistical Inference. Yes, there are fewer than 30 observations and you shouldn't generally do this. Strangely, statistical inference questions never have 30 or more observations. I think Statisticians are lazy (of course, I'm copying their questions so, kettle, pot; pot, kettle)."
   ]
  },
  {
   "cell_type": "markdown",
   "metadata": {},
   "source": [
    "**Part 1.** During a particular week, 13 babies were born in a maternity unit. Part of the standard procedure is to measure the length of the baby. Given below is a list of the lengths, in centimeters, of the babies born in this particular period."
   ]
  },
  {
   "cell_type": "code",
   "execution_count": 8,
   "metadata": {
    "collapsed": false
   },
   "outputs": [
    {
     "name": "stdout",
     "output_type": "stream",
     "text": [
      "Baby data: [49.0, 50.0, 45.0, 51.0, 47.0, 49.0, 48.0, 54.0, 53.0, 55.0, 45.0, 50.0, 48.0]\n",
      "Baby data sample mean: 49.5384615385\n",
      "Baby data standard deviation: 3.00295712245\n"
     ]
    },
    {
     "data": {
      "text/plain": [
       "<matplotlib.text.Text at 0x1133a0f10>"
      ]
     },
     "execution_count": 8,
     "metadata": {},
     "output_type": "execute_result"
    },
    {
     "data": {
      "image/png": "[encoded data removed]",
      "text/plain": [
       "<matplotlib.figure.Figure at 0x113501a50>"
      ]
     },
     "metadata": {},
     "output_type": "display_data"
    }
   ],
   "source": [
    "baby_data = [49.0, 50.0, 45.0, 51.0, 47.0, 49.0, 48.0, 54.0, 53.0, 55.0, 45.0, 50.0, 48.0]\n",
    "print \"Baby data:\", baby_data\n",
    "print \"Baby data sample mean:\", np.mean(baby_data)\n",
    "print \"Baby data standard deviation:\", np.std(baby_data)\n",
    "\n",
    "# Resampling method\n",
    "def resample(data):\n",
    "    n = len(data)\n",
    "    return [data[i] for i in [py_random.randint(0, n - 1) for _ in xrange(0, n)]]\n",
    "\n",
    "# Resample observed data 10,000 times to create bootstrap sample\n",
    "resampled_lengths = np.array([np.mean(sample) for sample in [resample(baby_data) for i in xrange(0, 10000)]])\n",
    "\n",
    "# Graph resampled data\n",
    "ys, bins = np.histogram(resampled_lengths, bins=10, density=True)\n",
    "width = 0.7*(bins[1] - bins[0])\n",
    "center = (bins[:-1] + bins[1:]) / 2\n",
    "figure = plt.figure(figsize=(6,6))\n",
    "axes = figure.add_subplot(1, 1, 1)\n",
    "axes.bar(center, ys, align='center', width=width, color=\"steelblue\", alpha=0.8)\n",
    "axes.set_xlim([45, 55])\n",
    "axes.set_xlabel(\"mean height\")\n",
    "axes.set_title(\"Posterior\")"
   ]
  },
  {
   "cell_type": "markdown",
   "metadata": {},
   "source": [
    "No, that does not say \"baby_daddy\", it says \"baby_data\".\n",
    "\n",
    "Here we want to test the claim that babies are generally about 50 cm in length.\n",
    "\n",
    "1. Decide on a measure of \"about 50cm\". Think about what it means to be wrong? For me, thinking in percentages relative to the use case helps, is plus or minus 1% required or plus or minus 10%?\n",
    "2. What is the 90% \"Bayesian Confidence Interval\" for the data?\n",
    "3. What is the probability that the mean of the baby data lies within your \"region of practical equivalence\" (ROPE)\n",
    "4. One of the advantages of Bayesian analysis is that we can answer more interesting questions, what is the probability that the average baby length is greater than 50cm?"
   ]
  },
  {
   "cell_type": "markdown",
   "metadata": {},
   "source": [
    "<b>Answer to question 1: \n",
    "1. 10% of 50cm is 5cm giving a range of 45 cm - 55 cm. 1% of 50cm is 0.5 cm giving a range of 49.5 cm - 50.5 cm. As printed above the, standard deviation is 3 cm so I think a range of 49 - 51 cm is a proper definition for \"about 50 cm\"."
   ]
  },
  {
   "cell_type": "markdown",
   "metadata": {},
   "source": [
    "<b>Answer to question 2:</b>"
   ]
  },
  {
   "cell_type": "code",
   "execution_count": 9,
   "metadata": {
    "collapsed": false
   },
   "outputs": [
    {
     "name": "stdout",
     "output_type": "stream",
     "text": [
      "90% CI [ 48.23076923  50.92307692]\n"
     ]
    }
   ],
   "source": [
    "print \"90% CI\", stats.mstats.mquantiles(resampled_lengths, [0.05, 0.95])"
   ]
  },
  {
   "cell_type": "markdown",
   "metadata": {},
   "source": [
    "<b>Answer to question 3:"
   ]
  },
  {
   "cell_type": "code",
   "execution_count": 10,
   "metadata": {
    "collapsed": false
   },
   "outputs": [
    {
     "name": "stdout",
     "output_type": "stream",
     "text": [
      "P(49 cm <= sample length <= 51 cm) 0.7213\n"
     ]
    }
   ],
   "source": [
    "print \"P(49 cm <= sample length <= 51 cm)\", np.mean((49 <= resampled_lengths) & (resampled_lengths <= 51))"
   ]
  },
  {
   "cell_type": "markdown",
   "metadata": {},
   "source": [
    "<b>Answer to question 4:</b>"
   ]
  },
  {
   "cell_type": "code",
   "execution_count": 11,
   "metadata": {
    "collapsed": false
   },
   "outputs": [
    {
     "name": "stdout",
     "output_type": "stream",
     "text": [
      "P(sample length > 50 cm) 0.2739\n"
     ]
    }
   ],
   "source": [
    "print \"P(sample length > 50 cm)\", np.mean((resampled_lengths > 50))"
   ]
  },
  {
   "cell_type": "markdown",
   "metadata": {},
   "source": [
    "**Part 2.** A random sample of 30 coffee drinks were each asked to taste-test a new brand of coffee. The responses are listed below with L representing “like”, I representing “indifferent”, and D representing “dislike”:"
   ]
  },
  {
   "cell_type": "code",
   "execution_count": 28,
   "metadata": {
    "collapsed": false
   },
   "outputs": [
    {
     "name": "stdout",
     "output_type": "stream",
     "text": [
      "['L', 'D', 'L', 'L', 'D', 'L', 'L', 'L', 'L', 'I', 'L', 'L', 'L', 'I', 'L', 'D', 'L', 'I', 'L', 'L', 'I', 'L', 'L', 'L', 'D', 'L', 'L', 'L', 'L', 'I']\n",
      "[1, -1, 1, 1, -1, 1, 1, 1, 1, 0, 1, 1, 1, 0, 1, -1, 1, 0, 1, 1, 0, 1, 1, 1, -1, 1, 1, 1, 1, 0]\n",
      "0.566666666667\n"
     ]
    },
    {
     "data": {
      "text/plain": [
       "<matplotlib.text.Text at 0x115292e50>"
      ]
     },
     "execution_count": 28,
     "metadata": {},
     "output_type": "execute_result"
    },
    {
     "data": {
      "image/png": "[encoded data removed]",
      "text/plain": [
       "<matplotlib.figure.Figure at 0x11565bc10>"
      ]
     },
     "metadata": {},
     "output_type": "display_data"
    }
   ],
   "source": [
    "coffee_data = [\"L\", \"D\", \"L\", \"L\", \"D\", \"L\", \"L\", \"L\", \"L\", \"I\", \"L\", \"L\", \"L\", \"I\", \"L\", \"D\", \"L\", \"I\", \"L\", \"L\", \"I\", \"L\", \"L\", \"L\", \"D\", \"L\", \"L\", \"L\", \"L\", \"I\"]\n",
    "print coffee_data\n",
    "\n",
    "# Like = 1, indifferent = 0, dislike = -1\n",
    "# I also tried like = 2, indifferent = 1, and dislike = 0 to see if using a negative number had an effect.\n",
    "# It didn't appear that was the case, as these new values just shifted the sample to the right.\n",
    "converted_data = [1 if drinker == \"L\" else 0 if drinker == \"I\" else -1 for drinker in coffee_data]\n",
    "print converted_data\n",
    "print np.mean(converted_data)\n",
    "\n",
    "# Resample observed data 10,000 times to create bootstrap sample\n",
    "resampled_drinkers = np.array([np.mean(sample) for sample in [resample(converted_data) for i in xrange(0, 10000)]])\n",
    "\n",
    "# Graph resampled data\n",
    "ys, bins = np.histogram(resampled_drinkers, bins=10, density=True)\n",
    "width = 0.7*(bins[1] - bins[0])\n",
    "center = (bins[:-1] + bins[1:]) / 2\n",
    "figure = plt.figure(figsize=(6,6))\n",
    "axes = figure.add_subplot(1, 1, 1)\n",
    "axes.bar(center, ys, align='center', width=width, color=\"steelblue\", alpha=0.8)\n",
    "axes.set_xlim([-1.5, 1.5])\n",
    "axes.set_xlabel(\"mean satisfication\")\n",
    "axes.set_title(\"Posterior\")"
   ]
  },
  {
   "cell_type": "markdown",
   "metadata": {},
   "source": [
    "Currently, the data has 3 values of *categorical* variables which is not easy to work with. You may need to transform the data to answer the questions below."
   ]
  },
  {
   "cell_type": "markdown",
   "metadata": {},
   "source": [
    "1. What is the 90% \"Bayesian Confidence Interval\" for the probability of liking the new brand?\n",
    "2. Decide on a ROPE for the probability of liking the new brand, what is the probability that the data likes within the ROPE?\n",
    "3. Do these data support the claim that more than half of all coffee drinkers like this new brand of coffee? What is the probability that this claim is true, given the data?"
   ]
  },
  {
   "cell_type": "markdown",
   "metadata": {
    "collapsed": true
   },
   "source": [
    "<b>Answer to question 1:</b>"
   ]
  },
  {
   "cell_type": "code",
   "execution_count": 29,
   "metadata": {
    "collapsed": false
   },
   "outputs": [
    {
     "name": "stdout",
     "output_type": "stream",
     "text": [
      "90% CI [ 0.33333333  0.76666667]\n"
     ]
    }
   ],
   "source": [
    "print \"90% CI\", stats.mstats.mquantiles(resampled_drinkers, [0.05, 0.95])"
   ]
  },
  {
   "cell_type": "markdown",
   "metadata": {},
   "source": [
    "<b>Answer to question 2:</b>"
   ]
  },
  {
   "cell_type": "markdown",
   "metadata": {},
   "source": [
    "<b>Given the mean and standard deviation for the sample is:</b>"
   ]
  },
  {
   "cell_type": "code",
   "execution_count": 30,
   "metadata": {
    "collapsed": false
   },
   "outputs": [
    {
     "name": "stdout",
     "output_type": "stream",
     "text": [
      "Satisfaction sample mean: 0.566666666667\n",
      "Satisfaction standard deviation: 0.715697018453\n"
     ]
    }
   ],
   "source": [
    "print \"Satisfaction sample mean:\", np.mean(converted_data)\n",
    "print \"Satisfaction standard deviation:\", np.std(converted_data)"
   ]
  },
  {
   "cell_type": "markdown",
   "metadata": {},
   "source": [
    "<b>I think a 10% range of \"liking\" is too small (0.99-1.00). I think it is fair given the translated values (1, 0, -1) to use a range of 0.70 - 1.00 for likeability.\n",
    "\n",
    "The probability of a drinker \"liking\" the coffee is:</b>"
   ]
  },
  {
   "cell_type": "code",
   "execution_count": 31,
   "metadata": {
    "collapsed": false
   },
   "outputs": [
    {
     "name": "stdout",
     "output_type": "stream",
     "text": [
      "P(0.70 <= satisfaction <= 1.00) 0.1951\n"
     ]
    }
   ],
   "source": [
    "print \"P(0.70 <= satisfaction <= 1.00)\", np.mean((0.70 <= resampled_drinkers) & (resampled_drinkers <= 1))"
   ]
  },
  {
   "cell_type": "markdown",
   "metadata": {},
   "source": [
    "<b>Answer to question 3:\n",
    "\n",
    "The worst case for this scenario is a sample where half the coffee drinkers liked the coffee and half don't. In that case, the mean would be zero. Since this is the worst case, we just need to find the probability that $P(0 < satistifaction <= 1)$</b>"
   ]
  },
  {
   "cell_type": "code",
   "execution_count": 33,
   "metadata": {
    "collapsed": false
   },
   "outputs": [
    {
     "name": "stdout",
     "output_type": "stream",
     "text": [
      "P(0.00 <= satisfaction <= 1.00) 1.0\n"
     ]
    }
   ],
   "source": [
    "print \"P(0.00 <= satisfaction <= 1.00)\", np.mean((0.00 < resampled_drinkers) & (resampled_drinkers <= 1))"
   ]
  },
  {
   "cell_type": "markdown",
   "metadata": {},
   "source": [
    "**Part 3.** A technician was timed on the repair of an electronic instrument on 12 separate occasions. A trainee technician was timed on the repair of the same type of electronic instrument on 14 occasions. The times in minutes are given below:"
   ]
  },
  {
   "cell_type": "code",
   "execution_count": 9,
   "metadata": {
    "collapsed": false
   },
   "outputs": [
    {
     "name": "stdout",
     "output_type": "stream",
     "text": [
      "[344.0, 278.0, 267.0, 234.0, 212.0, 271.0, 341.0, 391.0, 176.0, 164.0, 214.0, 399.0]\n",
      "[279.0, 351.0, 282.0, 280.0, 258.0, 267.0, 312.0, 357.0, 322.0, 249.0, 228.0, 315.0, 311.0, 341.0]\n"
     ]
    }
   ],
   "source": [
    "technician_data = [344.0, 278.0, 267.0, 234.0, 212.0, 271.0, 341.0, 391.0, 176.0, 164.0, 214.0, 399.0]\n",
    "print technician_data\n",
    "trainee_data = [279.0, 351.0, 282.0, 280.0, 258.0, 267.0, 312.0, 357.0, 322.0, 249.0, 228.0, 315.0, 311.0, 341.0]\n",
    "print trainee_data"
   ]
  },
  {
   "cell_type": "markdown",
   "metadata": {},
   "source": [
    "1. What is the 90% Bayesican Confidence Interval for the average technician's time to repair?\n",
    "2. What is the 90% Bayesian Confidence Interval for the average trainee's time to repair?\n",
    "3. What is the 90% Bayesian Confidence Interval for the *difference* in average time to repair (tech - trainee)?\n",
    "4. Think of a a ROPE for the difference, what is the probability that the difference lies in this ROPE?\n",
    "5. What is the probability that the technician is better than the trainee on average?\n",
    "6. What is the probability that the trainee is better than the technician on average?"
   ]
  },
  {
   "cell_type": "code",
   "execution_count": null,
   "metadata": {
    "collapsed": true
   },
   "outputs": [],
   "source": []
  }
 ],
 "metadata": {
  "anaconda-cloud": {},
  "kernelspec": {
   "display_name": "Python [Root]",
   "language": "python",
   "name": "Python [Root]"
  },
  "language_info": {
   "codemirror_mode": {
    "name": "ipython",
    "version": 2
   },
   "file_extension": ".py",
   "mimetype": "text/x-python",
   "name": "python",
   "nbconvert_exporter": "python",
   "pygments_lexer": "ipython2",
   "version": "2.7.12"
  }
 },
 "nbformat": 4,
 "nbformat_minor": 0
}
