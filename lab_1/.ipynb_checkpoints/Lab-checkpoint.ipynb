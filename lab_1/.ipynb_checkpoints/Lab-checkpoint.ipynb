{
 "cells": [
  {
   "cell_type": "markdown",
   "metadata": {},
   "source": [
    "# Module 2 Lab - Probability\n",
    "\n",
    "## Directions\n",
    "1. Show all work/steps/calculations. If it is easier to write it out by hand, do so and submit a scanned PDF in addition to this notebook. Otherwise, generate a Markdown cell for each answer.\n",
    "2. You must submit to **two** places by the deadline:\n",
    "    1. In the Lab section of the Course Module where you downloaded this file from, and\n",
    "    2. In your Lab Discussion Group, in the forum for the appropriate Module.\n",
    "3. You may use any core Python libraries or Numpy/Scipy. **Additionally, code from the Module notebooks and lectures is fair to use and modify.** You may also consult Stackoverflow (SO). If you use something from SO, please place a comment with the URL to document the code."
   ]
  },
  {
   "cell_type": "code",
   "execution_count": 4,
   "metadata": {
    "collapsed": false
   },
   "outputs": [],
   "source": [
    "import numpy as np\n",
    "import random as py_random\n",
    "import numpy.random as np_random\n",
    "import time"
   ]
  },
  {
   "cell_type": "markdown",
   "metadata": {},
   "source": [
    "## Manipulating and Interpreting Probability\n",
    "\n",
    "Given the following *joint probability distribution*, $P(A|B)$, for $A$ and $B$,\n",
    "\n",
    "\n",
    "|    | a1   | a2   |\n",
    "|----|------|------|\n",
    "| **b1** | 0.37 | 0.16 |\n",
    "| **b2** | 0.23 | ?    |\n",
    "\n",
    "Answer the following questions.\n",
    "\n",
    "**1\\. What is $P(A=a2, B=b2)$?**"
   ]
  },
  {
   "cell_type": "markdown",
   "metadata": {},
   "source": [
    "        1 - 0.37 - 0.23 - 0.16 = 0.24"
   ]
  },
  {
   "cell_type": "markdown",
   "metadata": {},
   "source": [
    "**2\\. If I observe events from this probability distribution, what is the probability of seeing (a1, b1) then (a2, b2)?**"
   ]
  },
  {
   "cell_type": "markdown",
   "metadata": {},
   "source": [
    "        Not sure how to do this without assuming independence (probably a bad assumption):\n",
    "        P((a1,b1),(a2,b2)) = 0.37 * 0.24 = 0.09"
   ]
  },
  {
   "cell_type": "markdown",
   "metadata": {},
   "source": [
    "**3\\. Calculate the marginal probability distribution, $P(A)$.**"
   ]
  },
  {
   "cell_type": "markdown",
   "metadata": {},
   "source": [
    "        P(A=a1) = 0.37 + 0.23 = 0.6\n",
    "        P(A=a2) = 0.16 + 0.24 = 0.4"
   ]
  },
  {
   "cell_type": "markdown",
   "metadata": {},
   "source": [
    "**4\\. Calculate the marginal probability distribution, $P(B)$.**"
   ]
  },
  {
   "cell_type": "markdown",
   "metadata": {},
   "source": [
    "        P(B=b1) = 0.37 + 0.16 = 0.53\n",
    "        P(B=b2) = 0.23 + 0.24 = 0.47"
   ]
  },
  {
   "cell_type": "markdown",
   "metadata": {},
   "source": [
    "**5\\. Calculate the conditional probability distribution, $P(A|B)$.**"
   ]
  },
  {
   "cell_type": "markdown",
   "metadata": {},
   "source": [
    "Take joint probability and divide by P(B)\n",
    "\n",
    "|    | a1   | a2   |\n",
    "|----|------|------|\n",
    "| **b1** | 0.70 | 0.30 |\n",
    "| **b2** | 0.49 | 0.51 |"
   ]
  },
  {
   "cell_type": "markdown",
   "metadata": {},
   "source": [
    "**6\\. Calculate the conditional probability distribution, $P(B|A)$.**"
   ]
  },
  {
   "cell_type": "markdown",
   "metadata": {},
   "source": [
    "Take join probability and divide by P(A)\n",
    "\n",
    "|    | a1   | a2   |\n",
    "|----|------|------|\n",
    "| **b1** | 0.62 | 0.40 |\n",
    "| **b2** | 0.38 | 0.60 |"
   ]
  },
  {
   "cell_type": "markdown",
   "metadata": {},
   "source": [
    "**7\\. Does $P(A|B) = P(B|A)$? What do we call the belief that these are always equal?**"
   ]
  },
  {
   "cell_type": "markdown",
   "metadata": {},
   "source": [
    "        No, this is called the inverse probability fallacy."
   ]
  },
  {
   "cell_type": "markdown",
   "metadata": {},
   "source": [
    "**8\\. Does $P(A) = P(A|B)$? What does that mean about the independence of $A$ and $B$?**"
   ]
  },
  {
   "cell_type": "markdown",
   "metadata": {},
   "source": [
    "        P(A=a1) = P(A=a1|B=b1) * P(B=b1) + P(A=a1|B=b2) * P(B=b2) = 0.60\n",
    "        P(A=a2) = P(A=a2|B=b1) * P(B=b1) + P(A=a2|B=b2) * P(B=b2) = 0.40\n",
    "        Therefore, P(A) = P(A|B).\n",
    "        \n",
    "        This means A and B are independent because \n",
    "            P(A|B) = P(A,B) / P(B) => P(A|B) * P(B) = P(A,B) => P(A) * P(B) = P(A,B)."
   ]
  },
  {
   "cell_type": "markdown",
   "metadata": {},
   "source": [
    "**9\\. Using $P(A)$, $P(B|A)$, $P(B)$ from above, calculate,**\n",
    "\n",
    "$P(A|B) = \\frac{P(B|A)P(A)}{P(B)}$\n",
    "\n",
    "Does it match your previous calculation for $P(A|B)$?\n",
    "\n",
    "If we let A = H (some condition, characteristic, hypothesis) and B = D (some data, evidence, a test result), then how do we interpret each of the following: $P(H)$, $P(D)$, $P(H|D)$, $P(D|H)$, $P(H, D)$?"
   ]
  },
  {
   "cell_type": "markdown",
   "metadata": {},
   "source": [
    "        P(A=a1|B=b1) = (0.62 * 0.60) / 0.53 = 0.70\n",
    "        P(A=a1|B=b2) = (0.38 * 0.60) / 0.47 = 0.49\n",
    "        P(A=a2|B=b1) = (0.40 * 0.40) / 0.53 = 0.30\n",
    "        P(A=a2|B=b2) = (0.60 * 0.40) / 0.47 = 0.51\n",
    "        \n",
    "        This matches the table of P(A|B) above.\n",
    "        \n",
    "        P(H) = prior probability of hypothesis\n",
    "        P(D) = normalizer\n",
    "        P(H|D) = posterior probability of hypothesis given data\n",
    "        P(D|H) = likelihood of data given hypothesis\n",
    "        P(H,D) = joint probability of hypothesis "
   ]
  },
  {
   "cell_type": "markdown",
   "metadata": {},
   "source": [
    "## Generating Samples from Probability Distributions\n",
    "\n",
    "### Reproducible Random Numbers\n",
    "Before you begin working with random numbers in any situation, in Data Science, as opposed to Machine Learning, it is desirable to set the random seed and record it. We do this for several reasons:\n",
    "\n",
    "1. For reproducible research, we need to record the random seed that was used to generate our results.\n",
    "2. For sharing with others, if our text said there was some result, and the user re-runs the notebook, we want to get the same results.\n",
    "3. If we are creating a model, and we accidentally generate the best model ever, we want to be able to build it again.\n",
    "\n",
    "Unfortunately, Python's library and Numpy's library do not share seeds so if you need to set the appropriate one. Additionally, they take slightly different arguments (Python can take any Hashable object; Numpy only takes ints). Fortunately, the name of the function is the same.\n",
    "\n",
    "```\n",
    "numpy.random.seed([N]) # Numpy library\n",
    "random.seed([N]) # Python core\n",
    "```\n",
    "\n",
    "You have several options.\n",
    "\n",
    "1. Call the appropriate `seed` function with a value of your choice, probably some Integer, like 27192759.\n",
    "2. Run:\n",
    "\n",
    "```\n",
    "    int( time.time())\n",
    "```\n",
    "\n",
    "to print out a value you can use in either case. Do not just feed `int( time.time())` into the seed function. The whole point is to make the seed a constant.\n",
    "\n",
    "You should set the seed before answering each question. It doesn't necessarily have to be a different value.\n",
    "\n",
    "### Questions\n",
    "\n",
    "**1\\. A trick coin has a probability of heads, $\\theta=0.67$. Simulate 25 coin tosses from this Binomial distribution (25 Bernoulli trials).**"
   ]
  },
  {
   "cell_type": "code",
   "execution_count": 3,
   "metadata": {
    "collapsed": false
   },
   "outputs": [
    {
     "data": {
      "text/plain": [
       "[0, 1, 1, 0, 1, 0, 0, 0, 0, 1, 1, 1, 1, 0, 0, 0, 1, 1, 0, 1, 1, 1, 1, 1, 0]"
      ]
     },
     "execution_count": 3,
     "metadata": {},
     "output_type": "execute_result"
    }
   ],
   "source": [
    "import time\n",
    "import numpy\n",
    "import random\n",
    "\n",
    "# Set seed\n",
    "time_seed = int(time.time())\n",
    "numpy.random.seed(time_seed)\n",
    "random.seed(time_seed)\n",
    "\n",
    "# Run 25 trials\n",
    "p = 0.67\n",
    "[1 if random.random() < p else 0 for i in xrange(25)]"
   ]
  },
  {
   "cell_type": "markdown",
   "metadata": {},
   "source": [
    "**2\\. Using $P(A, B)$ above, write a function `my_sample` that takes the distribution and the number of desired samples and returns a list of events from the distribution in the form `[(\"a1\", \"b2\"), (\"a1\", \"b1\"), ...]`.**"
   ]
  },
  {
   "cell_type": "code",
   "execution_count": 167,
   "metadata": {
    "collapsed": false
   },
   "outputs": [
    {
     "name": "stdout",
     "output_type": "stream",
     "text": [
      "[('a2', 'b1'), ('a2', 'b1'), ('a1', 'b2'), ('a1', 'b1'), ('a1', 'b1'), ('a2', 'b2'), ('a2', 'b2'), ('a1', 'b1'), ('a1', 'b1'), ('a1', 'b1'), ('a1', 'b2'), ('a1', 'b1'), ('a1', 'b1'), ('a1', 'b1'), ('a1', 'b2'), ('a2', 'b1'), ('a1', 'b1'), ('a2', 'b2'), ('a1', 'b2'), ('a1', 'b1'), ('a1', 'b1'), ('a1', 'b2'), ('a1', 'b2'), ('a2', 'b2'), ('a2', 'b1'), ('a1', 'b1'), ('a1', 'b1'), ('a1', 'b2'), ('a2', 'b1'), ('a2', 'b2'), ('a2', 'b1'), ('a2', 'b1'), ('a1', 'b2'), ('a1', 'b2'), ('a2', 'b1'), ('a2', 'b1'), ('a1', 'b2'), ('a2', 'b2'), ('a1', 'b2'), ('a1', 'b2'), ('a2', 'b1'), ('a1', 'b1'), ('a1', 'b2'), ('a2', 'b1'), ('a1', 'b1'), ('a1', 'b1'), ('a1', 'b1'), ('a1', 'b1'), ('a2', 'b1'), ('a1', 'b1'), ('a1', 'b1'), ('a2', 'b2'), ('a1', 'b1'), ('a2', 'b1'), ('a1', 'b1'), ('a2', 'b2'), ('a2', 'b2'), ('a2', 'b2'), ('a1', 'b1'), ('a1', 'b1'), ('a1', 'b2'), ('a2', 'b1'), ('a1', 'b1'), ('a1', 'b2'), ('a1', 'b1'), ('a2', 'b1'), ('a2', 'b2'), ('a2', 'b2'), ('a1', 'b1'), ('a2', 'b2'), ('a2', 'b2'), ('a1', 'b1'), ('a2', 'b2'), ('a1', 'b2'), ('a1', 'b2'), ('a1', 'b1'), ('a2', 'b2'), ('a1', 'b1'), ('a2', 'b1'), ('a1', 'b2'), ('a1', 'b1'), ('a2', 'b1'), ('a2', 'b2'), ('a1', 'b1'), ('a1', 'b2'), ('a1', 'b2'), ('a1', 'b2'), ('a2', 'b2'), ('a2', 'b1'), ('a1', 'b1'), ('a1', 'b1'), ('a2', 'b1'), ('a1', 'b1'), ('a1', 'b2'), ('a2', 'b2'), ('a2', 'b2'), ('a1', 'b1'), ('a1', 'b1'), ('a1', 'b1'), ('a2', 'b1')]\n"
     ]
    }
   ],
   "source": [
    "import time\n",
    "import numpy\n",
    "import random\n",
    "\n",
    "# Set seed\n",
    "time_seed = int(time.time())\n",
    "numpy.random.seed(time_seed)\n",
    "random.seed(time_seed)\n",
    "\n",
    "# Assuming 2x2 distribution\n",
    "def my_sample(distribution, num_of_samples):\n",
    "    samples = []\n",
    "    for num in xrange(num_of_samples):\n",
    "        rand_num = random.randint(0, 100)\n",
    "        if rand_num in xrange(0, int(distribution[\"a1\"][\"b1\"] * 100)):\n",
    "            samples.append((\"a1\", \"b1\"))\n",
    "        elif rand_num in xrange(\n",
    "            int(distribution[\"a1\"][\"b1\"] * 100), \n",
    "            int((distribution[\"a1\"][\"b1\"] + distribution[\"a1\"][\"b2\"]) * 100)):\n",
    "            samples.append((\"a1\", \"b2\"))\n",
    "        elif rand_num in xrange(\n",
    "            int((distribution[\"a1\"][\"b1\"] + distribution[\"a1\"][\"b2\"]) * 100), \n",
    "            int((distribution[\"a1\"][\"b1\"] + distribution[\"a1\"][\"b2\"] + distribution[\"a2\"][\"b1\"]) * 100)):\n",
    "            samples.append((\"a2\", \"b1\"))\n",
    "        else:\n",
    "            samples.append((\"a2\", \"b2\"))\n",
    "    return samples\n",
    "\n",
    "samples = 100\n",
    "distribution = {\"a1\": {\"b1\": 0.37, \"b2\": 0.23}, \"a2\": {\"b1\": 0.16, \"b2\": 0.23}}\n",
    "print my_sample(distribution, samples)\n"
   ]
  },
  {
   "cell_type": "markdown",
   "metadata": {},
   "source": [
    "The **mean** is a measure of central tendency. Exactly what that means will await another module but for now, you simply need to use `np.mean()` when asked to calculate the mean of a sample.\n",
    "\n",
    "The **coefficient of variation**, $v$, is a dimensionless measure of the variability of a distribution. It allows you to compare how disperse two or more distributions might be, even if their means and **standard deviation**s are in completely different units. The definition is:\n",
    "\n",
    "$v = |\\frac{\\sigma}{\\mu}|$\n",
    "\n",
    "With a little algebra, you can also calculate a desired *standard deviation* given a coefficient of variation.\n",
    "\n",
    "Using the appropriate Numpy libraries and functions (or lecture materials),"
   ]
  },
  {
   "cell_type": "markdown",
   "metadata": {},
   "source": [
    "**3\\. Generate 25 samples for $X_1$ from a normal distribution with $\\mu=32.5$ and $v=0.01$. Calculate the mean value of $X_1$. How far off is it (percent)?**"
   ]
  },
  {
   "cell_type": "code",
   "execution_count": 114,
   "metadata": {
    "collapsed": false
   },
   "outputs": [
    {
     "name": "stdout",
     "output_type": "stream",
     "text": [
      "[ 32.57920283  32.51378997  32.39785837  32.42862432  32.33007113\n",
      "  32.63709924  32.42610925  32.52330401  32.53658435  32.4658584\n",
      "  32.48866889  32.5455861   32.57595451  32.51348216  32.25867534\n",
      "  32.61870963  32.49333159  32.58563687  32.48785738  32.45562675\n",
      "  32.353274    32.52079011  32.47641119  32.59656725  32.53757056]\n",
      "Mean of X_1: 32.493866\n",
      "Percent off mean of 32.5: 0.018875%\n"
     ]
    }
   ],
   "source": [
    "import time\n",
    "import numpy\n",
    "import random\n",
    "from scipy.stats import norm\n",
    "\n",
    "# Set seed\n",
    "time_seed = int(time.time())\n",
    "numpy.random.seed(time_seed)\n",
    "random.seed(time_seed)\n",
    "\n",
    "mean = 32.5\n",
    "variance =(32.5 * 0.01) ** 2\n",
    "X_1 = numpy.random.normal(mean, variance, 25)\n",
    "print X_1\n",
    "print \"Mean of X_1: %f\" % numpy.mean(X_1)\n",
    "print \"Percent off mean of 32.5: %f%%\" % ((abs(mean - numpy.mean(X_1)) / mean) * 100)"
   ]
  },
  {
   "cell_type": "markdown",
   "metadata": {},
   "source": [
    "**4\\. Generate 25 samples for $X_2$ from a normal distribution with $\\mu=32.5$ and $v=0.05$. Calculate the mean value of $X_2$. How far off is it (percent)?**"
   ]
  },
  {
   "cell_type": "code",
   "execution_count": 113,
   "metadata": {
    "collapsed": false
   },
   "outputs": [
    {
     "name": "stdout",
     "output_type": "stream",
     "text": [
      "[ 35.35835419  35.37841926  31.00139888  34.35371052  32.03550099\n",
      "  32.70015047  33.47016344  30.85560043  27.65206995  32.51557608\n",
      "  31.40569809  35.03639257  30.41120427  30.86204149  30.97112434\n",
      "  31.23638823  30.57633807  32.21166285  33.26231807  30.9835451\n",
      "  31.69049681  36.82323752  32.938672    31.09380999  28.39491429]\n",
      "Mean of X_2: 32.128752\n",
      "Percent off mean of 32.5: 1.142303%\n"
     ]
    }
   ],
   "source": [
    "import time\n",
    "import numpy\n",
    "import random\n",
    "from scipy.stats import norm\n",
    "\n",
    "# Set seed\n",
    "time_seed = int(time.time())\n",
    "numpy.random.seed(time_seed)\n",
    "random.seed(time_seed)\n",
    "\n",
    "mean = 32.5\n",
    "coeff = 0.05\n",
    "variance =(mean * coeff) ** 2\n",
    "X_2 = numpy.random.normal(mean, variance, 25)\n",
    "print X_2\n",
    "print \"Mean of X_2: %f\" % numpy.mean(X_2)\n",
    "print \"Percent off mean of 32.5: %f%%\" % ((abs(mean - numpy.mean(X_2)) / mean) * 100)"
   ]
  },
  {
   "cell_type": "markdown",
   "metadata": {},
   "source": [
    "**5\\. Generate 25 samples for $X_3$ from a normal distribution with $\\mu=32.5$ and $v=0.10$. Calculate the mean value of $X_3$. How far off is it (percent)?**"
   ]
  },
  {
   "cell_type": "code",
   "execution_count": 112,
   "metadata": {
    "collapsed": false
   },
   "outputs": [
    {
     "name": "stdout",
     "output_type": "stream",
     "text": [
      "[ 14.08313329  40.84090488  37.15930878  31.73920281  26.72633429\n",
      "  36.62366233  43.11036027  42.60814182  26.33851833  29.31520409\n",
      "  41.01762082  27.68087632  24.02258447  31.9763635   40.53517033\n",
      "  31.03588843  21.53007599  25.99503896  27.66583664  28.83099402\n",
      "  23.6798002   20.35041564  45.00819495  51.62210948  56.48619387]\n",
      "Mean of X_3: 33.039277\n",
      "Percent off mean of 32.5: 1.659315%\n"
     ]
    }
   ],
   "source": [
    "import time\n",
    "import numpy\n",
    "import random\n",
    "from scipy.stats import norm\n",
    "\n",
    "# Set seed\n",
    "time_seed = int(time.time())\n",
    "numpy.random.seed(time_seed)\n",
    "random.seed(time_seed)\n",
    "\n",
    "mean = 32.5\n",
    "coeff = 0.10\n",
    "variance =(mean * coeff) ** 2\n",
    "X_3 = numpy.random.normal(mean, variance, 25)\n",
    "print X_3\n",
    "print \"Mean of X_3: %f\" % numpy.mean(X_3)\n",
    "print \"Percent off mean of 32.5: %f%%\" % ((abs(mean - numpy.mean(X_3)) / mean) * 100)"
   ]
  },
  {
   "cell_type": "markdown",
   "metadata": {},
   "source": [
    "**6\\. From a Systems Thinking perspective, how might we interpret the different variabilities of the variables $X_1$, $X_2$, and $X_3$? Could our estimates of $\\bar{x}$ (the technical symbol for the sample mean), improve if we got more samples? Do we need more samples for all the $X$'s?**"
   ]
  },
  {
   "cell_type": "markdown",
   "metadata": {
    "collapsed": true
   },
   "source": [
    "As the variabilities of the distributions increases and the mean stays unchanged, the standard deviation of the distribution increases.\n",
    "\n",
    "Our estimates for the sample mean could be improved with more samples as a way of counterbalancing the variability of the samples.\n",
    "\n",
    "The more variability, the more samples a given variable sample could use in order to get closer to the true distribution's mean."
   ]
  },
  {
   "cell_type": "markdown",
   "metadata": {},
   "source": [
    "**7\\. We now want to sample a system that has two characteristics (variables) that are related. One is boolean ($X_1$)and the other is a normally distributed, numeric variable ($X_2$). The probability of $X_1$ being \"true\" (or 1) is $\\theta=0.25$.**\n",
    "\n",
    "If $X_1 = 0$, then $X_2$ is normally distributed with $\\mu=32.5$ and $v=0.05$.\n",
    "If $X_1 = 1$, then $X_2$ is normally distributed with $\\mu=39.1$ and $v=0.10$.\n",
    "\n",
    "Generate 100 samples and calculate the mean value of $X_1$ and $X_2$."
   ]
  },
  {
   "cell_type": "code",
   "execution_count": 132,
   "metadata": {
    "collapsed": false
   },
   "outputs": [
    {
     "name": "stdout",
     "output_type": "stream",
     "text": [
      "X_1 mean: 0.249790\n",
      "X_2 mean: 32.533271\n"
     ]
    }
   ],
   "source": [
    "import time\n",
    "import numpy\n",
    "import random\n",
    "from scipy.stats import norm\n",
    "\n",
    "# Set seed\n",
    "time_seed = int(time.time())\n",
    "numpy.random.seed(time_seed)\n",
    "random.seed(time_seed)\n",
    "\n",
    "p = 0.25\n",
    "X_1 = []\n",
    "X_2 = []\n",
    "for i in xrange(100000):\n",
    "    if random.random() < p:\n",
    "        X_1.append(1)\n",
    "        X_2.append(numpy.random.normal(32.5, (32.5 * 0.05) ** 2, 1))\n",
    "    else:\n",
    "        X_1.append(0)\n",
    "        X_2.append(numpy.random.normal(32.5, (39.1 * 0.10) ** 2, 1))\n",
    "print \"X_1 mean: %f\" % numpy.mean(X_1)\n",
    "print \"X_2 mean: %f\" % numpy.mean(X_2)"
   ]
  }
 ],
 "metadata": {
  "kernelspec": {
   "display_name": "Python [Root]",
   "language": "python",
   "name": "Python [Root]"
  },
  "language_info": {
   "codemirror_mode": {
    "name": "ipython",
    "version": 2
   },
   "file_extension": ".py",
   "mimetype": "text/x-python",
   "name": "python",
   "nbconvert_exporter": "python",
   "pygments_lexer": "ipython2",
   "version": "2.7.12"
  }
 },
 "nbformat": 4,
 "nbformat_minor": 0
}
