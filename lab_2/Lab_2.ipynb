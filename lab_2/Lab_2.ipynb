{
 "cells": [
  {
   "cell_type": "markdown",
   "metadata": {},
   "source": [
    "# Module 3 Lab - Statistical Inference\n",
    "\n",
    "## Directions\n",
    "1. Show all work/steps/calculations. If it is easier to write it out by hand, do so and submit a scanned PDF in addition to this notebook. Otherwise, generate a Markdown cell for each answer.\n",
    "2. You must submit to **two** places by the deadline:\n",
    "    1. In the Lab section of the Course Module where you downloaded this file from, and\n",
    "    2. In your Lab Discussion Group, in the forum for the appropriate Module.\n",
    "3. You may use any core Python libraries or Numpy/Scipy. **Additionally, code from the Module notebooks and lectures is fair to use and modify.** You may also consult Stackoverflow (SO). If you use something from SO, please place a comment with the URL to document the code."
   ]
  },
  {
   "cell_type": "code",
   "execution_count": 73,
   "metadata": {
    "collapsed": false
   },
   "outputs": [
    {
     "name": "stdout",
     "output_type": "stream",
     "text": [
      "1474072343\n"
     ]
    }
   ],
   "source": [
    "import numpy as np\n",
    "import random as py_random\n",
    "import time\n",
    "import scipy.stats as stats\n",
    "import matplotlib.pyplot as plt\n",
    "import pandas as pd\n",
    "from __future__ import division\n",
    "\n",
    "%matplotlib inline\n",
    "\n",
    "\n",
    "# Graph settings\n",
    "#sns.set(style=\"darkgrid\")\n",
    "pd.set_option('display.max_rows', 500)\n",
    "pd.set_option('display.max_columns', 500)\n",
    "pd.set_option('display.width', 200)\n",
    "\n",
    "# Store off seed\n",
    "seed = int(time.time())\n",
    "\n",
    "print seed\n",
    "\n",
    "# Set seed\n",
    "np.random.seed(seed)\n",
    "py_random.seed(seed)"
   ]
  },
  {
   "cell_type": "markdown",
   "metadata": {},
   "source": [
    "## Statistical Inference for a single boolean $\\theta$\n",
    "\n",
    "**1\\. Suppose we have a trick coin that shows up heads 60% of the time ($\\theta=0.6$). Generate 100 samples from this Binomial distribution (either as True/False or 1/0).**"
   ]
  },
  {
   "cell_type": "code",
   "execution_count": 119,
   "metadata": {
    "collapsed": false
   },
   "outputs": [
    {
     "name": "stdout",
     "output_type": "stream",
     "text": [
      "[1, 0, 1, 1, 0, 1, 1, 1, 0, 1, 1, 1, 1, 0, 0, 1, 0, 0, 1, 1, 1, 1, 0, 0, 1, 1, 0, 1, 0, 1, 1, 1, 1, 1, 1, 1, 0, 0, 1, 1, 1, 1, 0, 0, 1, 1, 0, 1, 0, 0, 1, 1, 1, 1, 1, 0, 0, 0, 1, 1, 1, 1, 1, 1, 1, 1, 1, 0, 1, 1, 1, 1, 1, 0, 0, 1, 1, 1, 1, 1, 1, 1, 1, 1, 1, 1, 0, 1, 1, 1, 1, 0, 0, 1, 0, 1, 0, 0, 1, 1]\n"
     ]
    }
   ],
   "source": [
    "def generate_binomial_samples(p, num_of_samples):\n",
    "    # Run num_of_samples trials\n",
    "    return [1 if py_random.random() < p else 0 for i in xrange(num_of_samples)]\n",
    "    \n",
    "observed_data_coin = generate_binomial_samples(0.6, 100)\n",
    "print observed_data_coin"
   ]
  },
  {
   "cell_type": "markdown",
   "metadata": {},
   "source": [
    "Now, assuming we don't know what $\\theta$ really is...\n",
    "\n",
    "**2\\. Calculate $\\hat{theta}$.**"
   ]
  },
  {
   "cell_type": "code",
   "execution_count": 120,
   "metadata": {
    "collapsed": false
   },
   "outputs": [
    {
     "name": "stdout",
     "output_type": "stream",
     "text": [
      "0.7\n"
     ]
    }
   ],
   "source": [
    "print np.mean(observed_data_coin)"
   ]
  },
  {
   "cell_type": "markdown",
   "metadata": {},
   "source": [
    "Generate the Non-Parameteric Bayesian Bootstrap of the posterior distribution of $\\hat{\\theta}$ and answer the following questions:"
   ]
  },
  {
   "cell_type": "code",
   "execution_count": 121,
   "metadata": {
    "collapsed": false
   },
   "outputs": [
    {
     "data": {
      "text/plain": [
       "<matplotlib.text.Text at 0x11d0ba8d0>"
      ]
     },
     "execution_count": 121,
     "metadata": {},
     "output_type": "execute_result"
    },
    {
     "data": {
      "image/png": "[encoded data removed]",
      "text/plain": [
       "<matplotlib.figure.Figure at 0x11cf70910>"
      ]
     },
     "metadata": {},
     "output_type": "display_data"
    }
   ],
   "source": [
    "def resample(data):\n",
    "    n = len(data)\n",
    "    return [data[i] for i in [py_random.randint(0, n - 1) for _ in xrange(0, n)]]\n",
    "\n",
    "# Resample observed data 10,000 times\n",
    "resampled_thetas = np.array([np.mean(sample) for sample in [resample(observed_data_coin) for i in xrange(0, 10000)]])\n",
    "\n",
    "# Graph resampled data\n",
    "ys, bins = np.histogram(resampled_thetas, bins=10, density=True)\n",
    "width = 0.7*(bins[1] - bins[0])\n",
    "center = (bins[:-1] + bins[1:]) / 2\n",
    "figure = plt.figure(figsize=(6,6))\n",
    "axes = figure.add_subplot(1, 1, 1)\n",
    "axes.bar(center, ys, align='center', width=width, color=\"steelblue\", alpha=0.8)\n",
    "axes.set_xlim([0, 1])\n",
    "axes.set_xlabel(r\"$\\theta$\")\n",
    "axes.set_title(\"Posterior\")"
   ]
  },
  {
   "cell_type": "markdown",
   "metadata": {},
   "source": [
    "**3\\. What is the 90% Credible Interval (Bayesian Confidence Interval) for $\\hat{\\theta}$?**"
   ]
  },
  {
   "cell_type": "code",
   "execution_count": 122,
   "metadata": {
    "collapsed": false
   },
   "outputs": [
    {
     "name": "stdout",
     "output_type": "stream",
     "text": [
      "90% CI [ 0.62  0.77]\n"
     ]
    }
   ],
   "source": [
    "print \"90% CI\", stats.mstats.mquantiles(resampled_thetas, [0.05, 0.95])"
   ]
  },
  {
   "cell_type": "markdown",
   "metadata": {},
   "source": [
    "**4\\. What is the probability that the coin is fair? (use 0.47-0.53 as the range of \"fair\").**"
   ]
  },
  {
   "cell_type": "code",
   "execution_count": 123,
   "metadata": {
    "collapsed": false
   },
   "outputs": [
    {
     "name": "stdout",
     "output_type": "stream",
     "text": [
      "P(0.47 <= theta <= 0.53) 0.0001\n"
     ]
    }
   ],
   "source": [
    "print \"P(0.47 <= theta <= 0.53)\", np.mean((0.47 <= resampled_thetas) & (resampled_thetas <= 0.53))"
   ]
  },
  {
   "cell_type": "markdown",
   "metadata": {},
   "source": [
    "**5\\. Repeat #1-4 with $\\theta = 0.05$.**"
   ]
  },
  {
   "cell_type": "code",
   "execution_count": 124,
   "metadata": {
    "collapsed": false
   },
   "outputs": [
    {
     "name": "stdout",
     "output_type": "stream",
     "text": [
      "[0, 0, 0, 0, 0, 0, 0, 0, 0, 1, 0, 0, 0, 1, 0, 0, 0, 0, 0, 0, 0, 0, 0, 0, 0, 0, 0, 0, 0, 0, 0, 0, 1, 0, 0, 0, 0, 0, 0, 0, 0, 0, 0, 0, 0, 0, 0, 0, 0, 0, 0, 0, 0, 0, 0, 0, 0, 1, 0, 0, 0, 0, 0, 0, 0, 0, 0, 0, 0, 1, 0, 0, 0, 0, 0, 0, 0, 0, 0, 0, 0, 0, 0, 0, 0, 0, 0, 0, 0, 0, 0, 0, 0, 0, 1, 0, 0, 0, 0, 0]\n"
     ]
    }
   ],
   "source": [
    "observed_data_coin_2 = generate_binomial_samples(0.05, 100)\n",
    "print observed_data_coin_2"
   ]
  },
  {
   "cell_type": "code",
   "execution_count": 130,
   "metadata": {
    "collapsed": false
   },
   "outputs": [
    {
     "name": "stdout",
     "output_type": "stream",
     "text": [
      "2nd sample theta: 0.06\n"
     ]
    }
   ],
   "source": [
    "print \"2nd sample theta:\", np.mean(observed_data_coin_2)"
   ]
  },
  {
   "cell_type": "code",
   "execution_count": 133,
   "metadata": {
    "collapsed": false
   },
   "outputs": [
    {
     "data": {
      "text/plain": [
       "<matplotlib.text.Text at 0x11e2a1f10>"
      ]
     },
     "execution_count": 133,
     "metadata": {},
     "output_type": "execute_result"
    },
    {
     "data": {
      "image/png": "[encoded data removed]",
      "text/plain": [
       "<matplotlib.figure.Figure at 0x11b921f50>"
      ]
     },
     "metadata": {},
     "output_type": "display_data"
    }
   ],
   "source": [
    "# Resample observed data 10,000 times\n",
    "resampled_thetas_2 = np.array([np.mean(sample) for sample in [resample(observed_data_coin_2) for i in xrange(0, 10000)]])\n",
    "\n",
    "# Graph resampled data\n",
    "ys, bins = np.histogram(resampled_thetas_2, bins=10, density=True)\n",
    "width = 0.7*(bins[1] - bins[0])\n",
    "center = (bins[:-1] + bins[1:]) / 2\n",
    "figure = plt.figure(figsize=(6,6))\n",
    "axes = figure.add_subplot(1, 1, 1)\n",
    "axes.bar(center, ys, align='center', width=width, color=\"steelblue\", alpha=0.8)\n",
    "axes.set_xlim([0, .2])\n",
    "axes.set_xlabel(r\"$\\theta$\")\n",
    "axes.set_title(\"Posterior\")"
   ]
  },
  {
   "cell_type": "code",
   "execution_count": 134,
   "metadata": {
    "collapsed": false
   },
   "outputs": [
    {
     "name": "stdout",
     "output_type": "stream",
     "text": [
      "90% CI [ 0.02  0.1 ]\n"
     ]
    }
   ],
   "source": [
    "print \"90% CI\", stats.mstats.mquantiles(resampled_thetas_2, [0.05, 0.95])"
   ]
  },
  {
   "cell_type": "code",
   "execution_count": 135,
   "metadata": {
    "collapsed": false
   },
   "outputs": [
    {
     "name": "stdout",
     "output_type": "stream",
     "text": [
      "P(0.47 <= theta <= 0.53) 0.0\n"
     ]
    }
   ],
   "source": [
    "print \"P(0.47 <= theta <= 0.53)\", np.mean((0.47 <= resampled_thetas_2) & (resampled_thetas_2 <= 0.53))"
   ]
  },
  {
   "cell_type": "markdown",
   "metadata": {},
   "source": [
    "**6\\. Compare the results. Were the credible intervals the same size? Did you get the same estimates for being fair? Was your estimate of $\\theta$ as good? What does this say about statistical inference on relatively rare events or extreme values?**"
   ]
  },
  {
   "cell_type": "markdown",
   "metadata": {},
   "source": [
    "For the extreme value ($\\theta = 0.05$), the credible interval was 0.08 and the minimum of the credible interval was 0.03 away from the actual value of $\\theta$. The probability of it being fair was 0.\n",
    "\n",
    "For the less-extreme value ($\\theta = 0.6$), the credible interval was 0.15 and the minimum of the credible interval was 0.02 away from the actucal value of $\\theta$. The probability of it being fair was 0.0001.\n",
    "\n",
    "Comparing these results against each other, the credible intervals were definitely different with a difference of 0.07. The credible interval for the less-extreme value was also wider. My estimate for the extreme case was only off by 0.01 whereas it was off by 0.1 in the non-extreme case. I'd say these results support the idea that statistical inference generally is able to reason more easily about extreme values relative to some value (like $\\theta = 0.05$ and the probability it lies between 0.47 and 0.53). "
   ]
  },
  {
   "cell_type": "markdown",
   "metadata": {},
   "source": [
    "## Statistical Inference for a single real valued $\\theta$"
   ]
  },
  {
   "cell_type": "markdown",
   "metadata": {},
   "source": [
    "**1\\. Generate 50 observations from a normal distribution with $\\mu=102.7$ and $v=0.05$.**"
   ]
  },
  {
   "cell_type": "code",
   "execution_count": 136,
   "metadata": {
    "collapsed": false
   },
   "outputs": [
    {
     "name": "stdout",
     "output_type": "stream",
     "text": [
      "[  68.33006157   87.44085567   94.39515287  120.92005271  145.99008077\n",
      "  131.95552155   75.1008538   110.28961067  118.78250505   59.66332365\n",
      "   96.65764788   98.70634232   78.39785849  108.27137568  123.09054399\n",
      "  116.09955918  104.76370468   99.33998128  139.38369335   63.43111898\n",
      "   61.74523187  109.92296861   77.70166026  131.28798682   65.63848892\n",
      "  147.15861504  126.33631603   94.02301627  125.86364777   88.5724149\n",
      "  135.86291061  126.43475126  113.58352328  132.49338936  101.73351425\n",
      "   93.81193515  131.08792762   58.93179827  109.23971059  120.20770205\n",
      "   86.30876424   93.48628856   75.71748935  124.06558261  124.01347141\n",
      "   81.47250919   79.2073726    79.58702844  126.08705754  131.2545932 ]\n"
     ]
    }
   ],
   "source": [
    "def generate_normal_samples(mean, variance, num_of_samples):\n",
    "    return np.random.normal(mean, variance, num_of_samples)\n",
    "\n",
    "# variance = (mean * v)^2\n",
    "observed_data = generate_normal_samples(102.7, (102.7 * 0.05) ** 2, 50)\n",
    "print observed_data"
   ]
  },
  {
   "cell_type": "markdown",
   "metadata": {},
   "source": [
    "**2\\. What is $\\bar{x}$?**"
   ]
  },
  {
   "cell_type": "code",
   "execution_count": 137,
   "metadata": {
    "collapsed": false
   },
   "outputs": [
    {
     "data": {
      "text/plain": [
       "103.87695020382803"
      ]
     },
     "execution_count": 137,
     "metadata": {},
     "output_type": "execute_result"
    }
   ],
   "source": [
    "np.mean(observed_data)"
   ]
  },
  {
   "cell_type": "markdown",
   "metadata": {},
   "source": [
    "Generate the Non-Parameteric Bayesian Bootstrap of the posterior distribution of $\\bar{x}$ and answer the following questions:"
   ]
  },
  {
   "cell_type": "code",
   "execution_count": 138,
   "metadata": {
    "collapsed": false
   },
   "outputs": [
    {
     "data": {
      "text/plain": [
       "<matplotlib.text.Text at 0x11e276150>"
      ]
     },
     "execution_count": 138,
     "metadata": {},
     "output_type": "execute_result"
    },
    {
     "data": {
      "image/png": "[encoded data removed]",
      "text/plain": [
       "<matplotlib.figure.Figure at 0x11e42b9d0>"
      ]
     },
     "metadata": {},
     "output_type": "display_data"
    }
   ],
   "source": [
    "# Resample observed data 10,000 times\n",
    "resampled_means = np.array([np.mean(sample) for sample in [resample(observed_data) for i in xrange(0, 10000)]])\n",
    "\n",
    "# Graph resampled data\n",
    "ys, bins = np.histogram(resampled_means, bins=10, density=True)\n",
    "width = 0.7*(bins[1] - bins[0])\n",
    "center = (bins[:-1] + bins[1:]) / 2\n",
    "figure = plt.figure(figsize=(6,6))\n",
    "axes = figure.add_subplot(1, 1, 1)\n",
    "axes.bar(center, ys, align='center', width=width, color=\"steelblue\", alpha=0.8)\n",
    "axes.set_xlim([90, 130])\n",
    "axes.set_xlabel(r\"$\\bar{x}$\")\n",
    "axes.set_title(\"Posterior\")"
   ]
  },
  {
   "cell_type": "markdown",
   "metadata": {},
   "source": [
    "**3\\. What is the 90% Credible Interval (Bayesian Confidence Interval) for $\\hat{\\theta}$?**"
   ]
  },
  {
   "cell_type": "code",
   "execution_count": 139,
   "metadata": {
    "collapsed": false
   },
   "outputs": [
    {
     "name": "stdout",
     "output_type": "stream",
     "text": [
      "90% CI [  98.04769725  109.51216935]\n"
     ]
    }
   ],
   "source": [
    "print \"90% CI\", stats.mstats.mquantiles(resampled_means, [0.05, 0.95])"
   ]
  },
  {
   "cell_type": "markdown",
   "metadata": {},
   "source": [
    "**4\\. Define \"about 100\". What is the probability that $\\bar{x}$ is \"about 100\".**"
   ]
  },
  {
   "cell_type": "markdown",
   "metadata": {},
   "source": [
    "I think to calculate \"about 100\" I'd want to know how much the data points deviate from the mean. As a result, I calculated the standard deviation:"
   ]
  },
  {
   "cell_type": "code",
   "execution_count": 62,
   "metadata": {
    "collapsed": false
   },
   "outputs": [
    {
     "name": "stdout",
     "output_type": "stream",
     "text": [
      "Standard deviation: 5.135\n"
     ]
    }
   ],
   "source": [
    "standard_deviation = 102.7 * 0.05\n",
    "variance = standard_deviation ** 2\n",
    "print \"Standard deviation:\", standard_divation"
   ]
  },
  {
   "cell_type": "markdown",
   "metadata": {},
   "source": [
    "Since the standard deviation is relatively small, I think using a small interval for \"about 100\" makes sense. Based on the standard deviation, I think it is fair to define \"about 100\" as 98.5 - 101.5.\n",
    "\n",
    "The probability that $\\bar{x}$ is between 98.5 and 101.5 is:"
   ]
  },
  {
   "cell_type": "code",
   "execution_count": 140,
   "metadata": {
    "collapsed": false
   },
   "outputs": [
    {
     "name": "stdout",
     "output_type": "stream",
     "text": [
      "P(98.5 <= sample mean <= 101.5) 0.1866\n",
      "P(102.5 <= sample mean <= 102.8) 0.0326\n"
     ]
    }
   ],
   "source": [
    "print \"P(98.5 <= sample mean <= 101.5)\", np.mean((98.5 <= resampled_means) & (resampled_means <= 101.5))\n",
    "print \"P(102.5 <= sample mean <= 102.8)\", np.mean((102.5 <= resampled_means) & (resampled_means <= 102.8))"
   ]
  },
  {
   "cell_type": "markdown",
   "metadata": {},
   "source": [
    "**Repeat #1-4 with $v=0.10$.**"
   ]
  },
  {
   "cell_type": "code",
   "execution_count": 141,
   "metadata": {
    "collapsed": false
   },
   "outputs": [
    {
     "name": "stdout",
     "output_type": "stream",
     "text": [
      "[ 139.27767779   68.86816958  -18.00905161  210.29676148   61.86015717\n",
      "  129.37067036  -42.35428792   86.16972506   56.01630119   54.40184138\n",
      "  104.70511739  201.2952679   218.2627855    13.86244102  114.76898371\n",
      "  287.97015799  228.23513409   86.43998972  295.87550609  -11.45472693\n",
      "   22.59541953  141.51276262  154.68674464   76.62399478  103.19193681\n",
      "  123.52359874  164.196077    185.13080083 -124.9729486   125.48280145\n",
      "  230.78822682   63.81928129  279.41677867  178.42002757  145.18435092\n",
      "  155.71747079   22.85518501  -21.28062709  160.34539923  -72.91130607\n",
      "  248.4704894  -108.40240433  -19.90160613   16.81288088  -13.70544938\n",
      "   47.93234456   50.36762515 -203.29974012  225.66091613   93.30936057]\n"
     ]
    }
   ],
   "source": [
    "# variance = (mean * v)^2\n",
    "observed_data_2 = generate_normal_samples(102.7, (102.7 * 0.10) ** 2, 50)\n",
    "print observed_data_2"
   ]
  },
  {
   "cell_type": "code",
   "execution_count": 143,
   "metadata": {
    "collapsed": false
   },
   "outputs": [
    {
     "data": {
      "text/plain": [
       "94.748580252607809"
      ]
     },
     "execution_count": 143,
     "metadata": {},
     "output_type": "execute_result"
    }
   ],
   "source": [
    "np.mean(observed_data_2)"
   ]
  },
  {
   "cell_type": "code",
   "execution_count": 147,
   "metadata": {
    "collapsed": false
   },
   "outputs": [
    {
     "data": {
      "text/plain": [
       "<matplotlib.text.Text at 0x11f465790>"
      ]
     },
     "execution_count": 147,
     "metadata": {},
     "output_type": "execute_result"
    },
    {
     "data": {
      "image/png": "[encoded data removed]",
      "text/plain": [
       "<matplotlib.figure.Figure at 0x11e5f7ad0>"
      ]
     },
     "metadata": {},
     "output_type": "display_data"
    }
   ],
   "source": [
    "# Resample observed data 10,000 times\n",
    "resampled_means_2 = np.array([np.mean(sample) for sample in [resample(observed_data_2) for i in xrange(0, 10000)]])\n",
    "\n",
    "# Graph resampled data\n",
    "ys, bins = np.histogram(resampled_means_2, bins=10, density=True)\n",
    "width = 0.7*(bins[1] - bins[0])\n",
    "center = (bins[:-1] + bins[1:]) / 2\n",
    "figure = plt.figure(figsize=(6,6))\n",
    "axes = figure.add_subplot(1, 1, 1)\n",
    "axes.bar(center, ys, align='center', width=width, color=\"steelblue\", alpha=0.8)\n",
    "axes.set_xlim([30, 160])\n",
    "axes.set_xlabel(r\"$\\bar{x}$\")\n",
    "axes.set_title(\"Posterior\")"
   ]
  },
  {
   "cell_type": "code",
   "execution_count": 155,
   "metadata": {
    "collapsed": false
   },
   "outputs": [
    {
     "name": "stdout",
     "output_type": "stream",
     "text": [
      "90% CI [  68.75012258  119.99701024]\n"
     ]
    }
   ],
   "source": [
    "print \"90% CI\", stats.mstats.mquantiles(resampled_means_2, [0.05, 0.95])"
   ]
  },
  {
   "cell_type": "code",
   "execution_count": 157,
   "metadata": {
    "collapsed": false
   },
   "outputs": [
    {
     "name": "stdout",
     "output_type": "stream",
     "text": [
      "P(98.5 <= sample mean <= 101.5) 0.0747\n",
      "P(102.5 <= sample mean <= 102.8) 0.0066\n"
     ]
    }
   ],
   "source": [
    "print \"P(98.5 <= sample mean <= 101.5)\", np.mean((98.5 <= resampled_means_2) & (resampled_means_2 <= 101.5))\n",
    "print \"P(102.5 <= sample mean <= 102.8)\", np.mean((102.5 <= resampled_means_2) & (resampled_means_2 <= 102.8))"
   ]
  },
  {
   "cell_type": "markdown",
   "metadata": {},
   "source": [
    "**Repeat #1-4 with $v=0.10$ and 500 samples.**"
   ]
  },
  {
   "cell_type": "code",
   "execution_count": 142,
   "metadata": {
    "collapsed": false
   },
   "outputs": [
    {
     "name": "stdout",
     "output_type": "stream",
     "text": [
      "[  9.88890859e+01   5.87150677e+01   3.42737239e+01   1.22470054e+01\n",
      "   1.43113029e+02   1.65804802e+02   1.67725938e+02   2.21116100e+02\n",
      "   2.33899891e+02   2.13348509e+01   2.18787869e+02   1.76443975e+02\n",
      "   5.90285325e+01   1.14442383e+02   3.09282530e+01   7.23876652e+01\n",
      "   2.15757772e+02  -1.86401921e+02   1.28943185e+01  -1.92380502e+02\n",
      "   3.00653387e+02   1.29920573e+01   1.12421815e+02   1.15308177e+01\n",
      "   3.53240179e+01   1.20620287e+02   2.22804804e+02  -4.70776161e+01\n",
      "   6.48898865e+01   2.96084672e+02   1.05207145e+02   7.56919741e+00\n",
      "  -4.62195228e+01  -3.60830739e+01   2.22661586e+02   1.41541388e+02\n",
      "   2.67811729e+02  -6.60544699e+01   1.02538176e+02   2.59640156e+01\n",
      "   1.14912254e+02  -1.09017290e+01   3.78153281e+01   2.49956965e+02\n",
      "   2.28646417e+02   1.40147609e+02   2.79149511e+01   7.83382445e+01\n",
      "   1.03183470e+02   2.99224016e+01   1.63947286e+02   1.63651691e+02\n",
      "  -1.14528620e+02   1.48533464e+02   1.36242091e+02   5.17557982e+01\n",
      "  -2.33745054e+01   2.49384821e+01   1.41758643e+02   1.18288020e+02\n",
      "   1.60131935e+02   9.44325226e+01  -6.32469689e+01   1.80218658e+02\n",
      "   1.60760671e+01   5.44121368e+01  -4.82578323e+01   1.35851106e+02\n",
      "   5.08228863e+01   1.29834126e+02   1.48618992e+02   4.60178269e+01\n",
      "   2.27220100e+02   6.49793946e+01   1.26089528e+02  -2.37689817e+01\n",
      "   1.39478664e+02   7.12299374e+01   4.26088740e+01   6.14923788e+01\n",
      "   5.67486402e+01   8.45394118e+01   6.41335013e+01   7.71615330e+01\n",
      "  -1.39180922e+01   1.79939253e+01   5.47215989e+01   2.56877203e+02\n",
      "  -1.18962911e+02   2.71018689e+02   2.90138944e+01   7.97985839e+01\n",
      "   1.94242119e+02   1.55119635e+02  -6.74615356e+00   6.32764577e+01\n",
      "   2.89666657e+02   1.13966212e+02   2.76693649e-01   1.11194989e+02\n",
      "   1.34087933e+02   6.12552700e+01   1.68015898e+02   1.45264683e+02\n",
      "   1.20265053e+02   2.16051604e+02   7.00234193e+01   2.32029366e+02\n",
      "   1.32374264e+02   1.24459855e+01   1.65970063e+02   7.69156856e+01\n",
      "   6.99223714e+01   1.81998422e+02   3.92279721e+01   8.44284705e+01\n",
      "  -9.41782120e+01  -5.92057978e+01   2.15319789e+02   5.89928473e+00\n",
      "   2.60727226e+02   1.92109824e+02   7.63699456e+01  -4.03924463e+01\n",
      "   2.02488768e+02   1.29790000e+02   1.09829594e+02   2.01222890e+02\n",
      "   3.49774071e+01   1.82927661e+02   2.75250551e+02   5.83766386e+01\n",
      "   1.40950633e+02   1.41548538e+02   1.12351432e+02   3.74490965e+01\n",
      "   4.69045862e+00   8.88963134e+00   1.64262819e+02   1.79172265e+02\n",
      "   1.47021281e+02   3.69407596e+00   5.71031764e+01   1.36143593e+02\n",
      "   1.87446757e+02   1.40858741e+02   1.70649673e+02   1.75066755e+02\n",
      "   1.83446233e+02   4.83353387e+00  -1.48680622e+02   7.33904098e+00\n",
      "   1.53998414e+02   6.12355803e+01   6.60434949e+01   1.63354532e+02\n",
      "   8.34538435e+01   2.26403996e+01   1.09940869e+02   2.06633131e+02\n",
      "   1.31508434e+02   5.67714064e+01  -1.38071037e+02   2.30040035e+02\n",
      "   2.87710782e+02   1.28782360e+02   2.92761132e+02   9.30273645e+01\n",
      "   9.76381595e+01   1.18450634e+02  -1.10774120e+01   2.15212088e+02\n",
      "   3.26396574e+01   1.85103129e+02   1.83434902e+02   9.21008033e+01\n",
      "   2.13482348e+01   8.94822319e+01   8.66074159e+01  -9.92348547e+01\n",
      "   8.89918691e+01   7.97793764e+01   2.98137321e+01   7.36686419e+01\n",
      "  -2.03575152e+02   2.42775885e+02  -7.70626297e+01   3.88383461e+02\n",
      "  -1.99322787e+00   1.20736010e+02   2.91770341e+02  -2.28706400e+01\n",
      "   1.60557793e+02   2.19680983e+01   2.91047719e+02   7.46036884e+01\n",
      "   2.41776136e+01  -9.37859724e+01   1.81007489e+02   1.73418796e+02\n",
      "  -6.58043459e+01   9.81702114e+00   1.62779858e+02   1.68956773e+02\n",
      "   2.16970040e+02   3.91491959e+01   6.79094080e+01   4.49344221e+01\n",
      "   2.31743164e+02   9.54988899e+01   8.46407239e+01   1.18395103e+02\n",
      "   2.15305950e+02   1.43539959e+02   2.98150116e+02   3.03477511e+02\n",
      "   1.72778557e+02   1.75857192e+02   5.28921511e+01   1.12640044e+02\n",
      "  -2.12289996e+01   1.49693930e+02   5.23491605e+01  -2.29436726e+01\n",
      "   2.50668765e+02   9.19579778e+01   2.13049078e+02   2.69299611e+02\n",
      "  -5.75702508e+01   6.20581155e+01   2.38286822e+02   1.05574219e+02\n",
      "   8.55298446e+01   2.51268769e+02   3.52431126e+01   1.21057136e+02\n",
      "   2.34989626e+02  -3.20834451e+01   1.08799779e+02   1.29314268e+02\n",
      "   5.18819195e+00  -7.99921780e+01   1.08506080e+02   3.59352647e+02\n",
      "   2.64533329e+02   3.37102777e+02  -1.87266806e+01  -5.09133132e+01\n",
      "   1.67364270e+02   3.25099067e+01   3.51351024e+02   1.23011278e+02\n",
      "  -1.52909456e+01   1.11860082e+02  -1.79745489e+01   4.38175105e+01\n",
      "  -3.41694657e+01   2.77893582e+02   7.23661784e+00   1.28727380e+02\n",
      "   1.93845822e+02   1.88750345e+01   1.33406864e+02   2.69550463e+02\n",
      "   1.57598922e+02   8.20272916e-01   6.27164730e+01   9.95351602e+01\n",
      "   1.89752661e+02   1.28765713e+02   9.79495788e+01  -3.48313510e-01\n",
      "  -3.65919457e+01   9.10039888e+01   1.79593790e+02   1.33830597e+02\n",
      "   2.67063532e+02   7.67931623e+01  -5.26422670e+01   2.81688041e+02\n",
      "  -4.00559982e+01   1.23934872e+02   1.62451886e+02   2.85519009e+02\n",
      "   6.44562983e+01   1.86560458e+02   7.19724931e+01   2.68023723e+02\n",
      "   3.26769539e+02   1.69927524e+02   1.41546118e+01   7.81203929e+01\n",
      "   5.92654154e+01   1.29685022e+02   1.85306149e+02   9.19169493e+01\n",
      "   7.70095271e+01   1.62442243e+02   5.42613751e+01   1.04922422e+02\n",
      "   1.98370131e+02   3.36668593e+01   8.01773864e+01   1.94113490e+02\n",
      "   2.73308598e+02   1.60618763e+02  -1.32216918e+01   5.74513673e+01\n",
      "   2.44271104e+02   1.54190356e+02   3.72740991e+01   1.55107359e+02\n",
      "   2.11680889e+02  -7.89253336e+00   1.49663919e+02  -6.71600465e+01\n",
      "   8.67223589e-01  -1.28223528e+02   9.94304892e+01   7.27360510e+01\n",
      "   2.26315278e+02   3.35937559e+02   1.93806801e+02  -4.24828886e+01\n",
      "  -6.47217528e+01   1.38010683e+02   1.87511345e+02   6.72998783e+01\n",
      "   1.17953576e+02   1.87281174e+02  -1.73725703e+02   8.53101001e+01\n",
      "   2.26664284e+02  -1.36681504e+02   2.01092850e+02  -5.12620667e+00\n",
      "   1.28404064e+02   9.37159162e+01   1.91046548e+01   1.13598978e+02\n",
      "   1.46491058e+02   6.86901993e+01  -1.42749185e+02   1.24321073e+02\n",
      "   6.20559536e+01   4.46388806e+01   2.15153717e+02   2.65833482e+01\n",
      "  -1.56243165e+01   1.98652170e+02  -3.03284969e+01   2.48685391e+02\n",
      "   1.51378667e+02   5.66561019e+01   2.35460203e+02   1.89293158e+02\n",
      "   1.42199463e+02   1.25940514e+02   9.52289191e+01   2.30837609e+02\n",
      "   3.93550427e+01  -6.01260117e+00   1.80561712e+02  -5.58210556e+01\n",
      "   3.03196514e+02   8.82501012e+01   2.14417796e+02   3.14924039e+01\n",
      "   1.52250277e+02   1.43330644e+02   2.77827479e+01   1.52768960e+02\n",
      "   2.46626094e+01   1.27577424e+02  -1.42817102e+02   1.29125882e+02\n",
      "  -4.38942150e+01   2.65979778e+02   1.93242500e+02   5.30363033e+01\n",
      "   3.34605469e+02   7.57873347e+01   2.78718010e+02   1.33374504e+02\n",
      "   2.13792397e+02   6.28812099e+01   1.29897187e+02   3.00877033e-01\n",
      "  -9.10095148e+01   1.26292607e+02   1.50411847e+02   5.86952042e+01\n",
      "   1.10108103e+02   1.06069745e+02   1.77520572e+02   2.03436759e+02\n",
      "   8.80759000e+00   3.51643043e+02   4.96135910e+00   2.83596281e+02\n",
      "   1.18052446e+02   1.24568846e+02  -2.94310489e+02   6.64991252e+01\n",
      "  -3.08492574e+01   1.34769635e+02   7.98730653e+01   9.18847053e+01\n",
      "   2.52058264e+02  -2.98836445e+01   7.74072046e+01  -2.55972027e+01\n",
      "   1.56967446e+02   1.46460307e+02   1.36164696e+02   2.51220333e+02\n",
      "  -3.46255187e+01   1.49841792e+02  -3.79672356e+00   1.71743616e+02\n",
      "   2.07446746e+02   2.44801201e+02  -1.86488014e+01   9.97306393e+01\n",
      "  -9.03532578e-01  -9.60825023e+01   2.25684271e+02   1.74071528e+02\n",
      "   1.46147198e+02  -1.13328979e+00   2.54414368e+02   1.36434879e+02\n",
      "   9.94705908e+01  -4.38650632e+01   2.94426286e+02   5.37423932e+01\n",
      "   1.47250518e+02   7.00442735e+01   3.16692128e+01   1.09846689e+02\n",
      "   1.28736064e+02   1.25051911e+02   2.22410764e+02  -7.02982274e+01\n",
      "   1.39074404e+01   2.08004822e+02   3.64569131e+01   8.36593615e+01\n",
      "   1.31044496e+02   1.20772747e+02   1.65156232e+02   6.67321013e+01\n",
      "   1.55073283e+01   2.17443090e+02   1.63854327e+02   1.35195211e+02\n",
      "   3.88764556e+01   4.28343525e+00   1.87448804e+02   1.21859950e+02\n",
      "   4.82519198e+01   8.07173866e+01   3.46919879e+02   2.08238950e+02\n",
      "   2.57863143e+02   4.61651236e+00   1.77142520e+01   2.61984581e+02\n",
      "  -1.00048717e+02   2.56576500e+02   4.58963504e+00   8.49863337e+01\n",
      "   2.61016658e+02   8.17333101e+01   1.34370515e+02   3.81261509e+02\n",
      "   1.61956868e+01   1.70548877e+02   1.49533435e+02  -2.32336976e+02\n",
      "   9.64045442e+01   1.99661094e+02   1.26226442e+02   6.20283905e+01\n",
      "  -5.84977359e+01   2.96796936e+02   1.08027106e+02   5.81835277e+00\n",
      "   2.78836494e+02  -1.42115228e+01   1.02031609e+02   1.14979728e+02\n",
      "   1.42002646e+02  -3.59883716e+01   1.25113934e+02  -5.22085648e+01\n",
      "  -5.93976283e+01   5.24936719e+01  -1.36317923e+01   1.31636668e+02]\n"
     ]
    }
   ],
   "source": [
    "# variance = (mean * v)^2\n",
    "observed_data_3 = generate_normal_samples(102.7, (102.7 * 0.10) ** 2, 500)\n",
    "print observed_data_3"
   ]
  },
  {
   "cell_type": "code",
   "execution_count": 144,
   "metadata": {
    "collapsed": false
   },
   "outputs": [
    {
     "data": {
      "text/plain": [
       "102.71291041672818"
      ]
     },
     "execution_count": 144,
     "metadata": {},
     "output_type": "execute_result"
    }
   ],
   "source": [
    "np.mean(observed_data_3)"
   ]
  },
  {
   "cell_type": "code",
   "execution_count": 154,
   "metadata": {
    "collapsed": false
   },
   "outputs": [
    {
     "data": {
      "text/plain": [
       "<matplotlib.text.Text at 0x11f4a3c50>"
      ]
     },
     "execution_count": 154,
     "metadata": {},
     "output_type": "execute_result"
    },
    {
     "data": {
      "image/png": "[encoded data removed]",
      "text/plain": [
       "<matplotlib.figure.Figure at 0x1286ba990>"
      ]
     },
     "metadata": {},
     "output_type": "display_data"
    }
   ],
   "source": [
    "# Resample observed data 10,000 times\n",
    "resampled_means_3 = np.array([np.mean(sample) for sample in [resample(observed_data_3) for i in xrange(0, 10000)]])\n",
    "\n",
    "# Graph resampled data\n",
    "ys, bins = np.histogram(resampled_means_3, bins=10, density=True)\n",
    "width = 0.7*(bins[1] - bins[0])\n",
    "center = (bins[:-1] + bins[1:]) / 2\n",
    "figure = plt.figure(figsize=(6,6))\n",
    "axes = figure.add_subplot(1, 1, 1)\n",
    "axes.bar(center, ys, align='center', width=width, color=\"steelblue\", alpha=0.8)\n",
    "axes.set_xlim([80, 120])\n",
    "axes.set_xlabel(r\"$\\bar{x}$\")\n",
    "axes.set_title(\"Posterior\")"
   ]
  },
  {
   "cell_type": "code",
   "execution_count": 158,
   "metadata": {
    "collapsed": false
   },
   "outputs": [
    {
     "name": "stdout",
     "output_type": "stream",
     "text": [
      "90% CI [  94.7582896   110.50651947]\n"
     ]
    }
   ],
   "source": [
    "print \"90% CI\", stats.mstats.mquantiles(resampled_means_3, [0.05, 0.95])"
   ]
  },
  {
   "cell_type": "code",
   "execution_count": 159,
   "metadata": {
    "collapsed": false
   },
   "outputs": [
    {
     "name": "stdout",
     "output_type": "stream",
     "text": [
      "P(98.5 <= sample mean <= 101.5) 0.2122\n",
      "P(102.5 <= sample mean <= 102.8) 0.0229\n"
     ]
    }
   ],
   "source": [
    "print \"P(98.5 <= sample mean <= 101.5)\", np.mean((98.5 <= resampled_means_3) & (resampled_means_3 <= 101.5))\n",
    "print \"P(102.5 <= sample mean <= 102.8)\", np.mean((102.5 <= resampled_means_3) & (resampled_means_3 <= 102.8))"
   ]
  },
  {
   "cell_type": "markdown",
   "metadata": {},
   "source": [
    "Compare and contrast your 3 experiments and what they mean for statistical inference."
   ]
  },
  {
   "cell_type": "markdown",
   "metadata": {},
   "source": [
    "The experiment with 500 samples ended up giving the best estimate of the actual mean and was only off by 0.01. This shows the important effect more data can have on tests. This increase in samples also positively decreased the 90% credible interval from 51.247 in the second experiment to 15.75 (for reference, the first experiment had a difference of 11.46). I'm surprised that given these favorable results for the third experiment that it's probability for the sample mean being between 102.5 and 102.8 is 0.0097 lower than the first experiment. My thought is that even with the the increased number of samples in the third experiment, the increased dispersion (it was double that from the first experiment) threw the model off. With that being said, the probability of the sample mean being between 102.5 and 102.8 was increased ~25% between the second and third experiments by increasing the number of samples 900%. This goes to show the effect of how dispersed a variable is can have on a model and its accuracy."
   ]
  }
 ],
 "metadata": {
  "anaconda-cloud": {},
  "kernelspec": {
   "display_name": "Python [Root]",
   "language": "python",
   "name": "Python [Root]"
  },
  "language_info": {
   "codemirror_mode": {
    "name": "ipython",
    "version": 2
   },
   "file_extension": ".py",
   "mimetype": "text/x-python",
   "name": "python",
   "nbconvert_exporter": "python",
   "pygments_lexer": "ipython2",
   "version": "2.7.12"
  }
 },
 "nbformat": 4,
 "nbformat_minor": 0
}
